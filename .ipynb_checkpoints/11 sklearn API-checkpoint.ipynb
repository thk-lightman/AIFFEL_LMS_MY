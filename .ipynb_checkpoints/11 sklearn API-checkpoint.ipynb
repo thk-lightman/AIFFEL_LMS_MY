{
 "cells": [
  {
   "cell_type": "code",
   "execution_count": 6,
   "metadata": {},
   "outputs": [],
   "source": [
    "from sklearn.linear_model import LogisticRegression\n",
    "from sklearn.datasets import load_iris\n",
    "from sklearn.model_selection import train_test_split\n",
    "\n",
    "X, y = load_iris(return_X_y = True)\n",
    "train_X, test_X, train_y, test_y = train_test_split(X, y)"
   ]
  },
  {
   "cell_type": "code",
   "execution_count": 7,
   "metadata": {},
   "outputs": [],
   "source": [
    "reg = LogisticRegression()\n",
    "reg.fit(train_X, train_y)\n",
    "scores = reg.predict(test_X)"
   ]
  },
  {
   "cell_type": "code",
   "execution_count": 8,
   "metadata": {},
   "outputs": [],
   "source": [
    "from sklearn.pipeline import Pipeline\n",
    "from sklearn.preprocessing import StandardScaler\n",
    "\n",
    "est_list = [('scaler', StandardScaler()),\n",
    "           ('logistic', LogisticRegression())]\n",
    "pipe = Pipeline(est_list)\n",
    "pipe.fit(train_X, train_y)\n",
    "scores = pipe.predict(test_X)"
   ]
  },
  {
   "cell_type": "code",
   "execution_count": 9,
   "metadata": {},
   "outputs": [],
   "source": [
    "from sklearn.ensemble import GradientBoostingClassifier\n",
    "\n",
    "def score_iris(est):\n",
    "    #Data Preperation\n",
    "    X, y = load_iris(return_X_y = True)\n",
    "    train_X, test_X, train_y, test_y = train_test_split(X, y)\n",
    "    #\n",
    "    est_list = [('scaler', StandardScaler()),\n",
    "           ('your_estimator', est)]\n",
    "    pipe = Pipeline(est_list)\n",
    "    pipe.fit(train_X, train_y)\n",
    "    scores = pipe.predict(test_X)\n",
    "    return pipe, scores"
   ]
  },
  {
   "cell_type": "code",
   "execution_count": 12,
   "metadata": {},
   "outputs": [],
   "source": [
    "gbt = GradientBoostingClassifier(n_estimators=50)\n",
    "pipe, scores = score_iris(gbt)"
   ]
  },
  {
   "cell_type": "code",
   "execution_count": 13,
   "metadata": {},
   "outputs": [
    {
     "data": {
      "text/plain": [
       "[('scaler', StandardScaler()),\n",
       " ('your_estimator', GradientBoostingClassifier(n_estimators=50))]"
      ]
     },
     "execution_count": 13,
     "metadata": {},
     "output_type": "execute_result"
    }
   ],
   "source": [
    "pipe.steps"
   ]
  },
  {
   "cell_type": "markdown",
   "metadata": {},
   "source": [
    "# Pipeline in a Pipeline"
   ]
  },
  {
   "cell_type": "code",
   "execution_count": 20,
   "metadata": {},
   "outputs": [],
   "source": [
    "from sklearn.impute import SimpleImputer\n",
    "import numpy as np\n",
    "\n",
    "pipe_est = Pipeline([( 'imputer', SimpleImputer(missing_values=np.nan, strategy='mean') ), ('gbt', GradientBoostingClassifier())])\n",
    "pipe, scores = score_iris(pipe_est)"
   ]
  },
  {
   "cell_type": "code",
   "execution_count": 21,
   "metadata": {},
   "outputs": [
    {
     "data": {
      "text/plain": [
       "[('scaler', StandardScaler()),\n",
       " ('your_estimator',\n",
       "  Pipeline(steps=[('imputer', SimpleImputer()),\n",
       "                  ('gbt', GradientBoostingClassifier())]))]"
      ]
     },
     "execution_count": 21,
     "metadata": {},
     "output_type": "execute_result"
    }
   ],
   "source": [
    "pipe.steps"
   ]
  },
  {
   "cell_type": "code",
   "execution_count": 27,
   "metadata": {},
   "outputs": [
    {
     "name": "stdout",
     "output_type": "stream",
     "text": [
      "Collecting civisml-extensions\n",
      "  Downloading civisml_extensions-0.3.1-py3-none-any.whl (39 kB)\n",
      "Requirement already satisfied: six~=1.10 in c:\\users\\user\\anaconda3\\lib\\site-packages (from civisml-extensions) (1.15.0)\n",
      "Requirement already satisfied: scikit-learn<0.24.0,>=0.18.1 in c:\\users\\user\\anaconda3\\lib\\site-packages (from civisml-extensions) (0.23.2)\n",
      "Requirement already satisfied: pandas>=0.25 in c:\\users\\user\\anaconda3\\lib\\site-packages (from civisml-extensions) (1.1.3)\n",
      "Requirement already satisfied: numpy<2.0,>=1.12 in c:\\users\\user\\anaconda3\\lib\\site-packages (from civisml-extensions) (1.19.2)\n",
      "Requirement already satisfied: joblib>=0.14.0 in c:\\users\\user\\anaconda3\\lib\\site-packages (from civisml-extensions) (0.17.0)\n",
      "Requirement already satisfied: scipy<2.0,>=0.14 in c:\\users\\user\\anaconda3\\lib\\site-packages (from civisml-extensions) (1.5.2)\n",
      "Requirement already satisfied: threadpoolctl>=2.0.0 in c:\\users\\user\\anaconda3\\lib\\site-packages (from scikit-learn<0.24.0,>=0.18.1->civisml-extensions) (2.1.0)\n",
      "Requirement already satisfied: pytz>=2017.2 in c:\\users\\user\\anaconda3\\lib\\site-packages (from pandas>=0.25->civisml-extensions) (2020.1)\n",
      "Requirement already satisfied: python-dateutil>=2.7.3 in c:\\users\\user\\anaconda3\\lib\\site-packages (from pandas>=0.25->civisml-extensions) (2.8.1)\n",
      "Installing collected packages: civisml-extensions\n",
      "Successfully installed civisml-extensions-0.3.1\n"
     ]
    }
   ],
   "source": [
    "!pip install civisml-extensions"
   ]
  },
  {
   "cell_type": "code",
   "execution_count": 29,
   "metadata": {},
   "outputs": [],
   "source": [
    "from civismlext.stacking import StackedClassifier\n",
    "from sklearn.linear_model import LogisticRegression\n",
    "from sklearn.ensemble import RandomForestClassifier, GradientBoostingClassifier\n",
    "from sklearn.datasets import load_iris"
   ]
  },
  {
   "cell_type": "code",
   "execution_count": 32,
   "metadata": {},
   "outputs": [],
   "source": [
    "iris_X, iris_y = load_iris(return_X_y=True)\n",
    "est_list = [('logistic', LogisticRegression(max_iter=1000)),\n",
    "           ('rf', RandomForestClassifier()),\n",
    "           ('gbt', GradientBoostingClassifier()),\n",
    "           ('meta', LogisticRegression(max_iter=1000))] #위의 세 결과로 나온 predict값을 다시 feature로 사용한다\n",
    "\n",
    "stacker = StackedClassifier(est_list)\n",
    "\n",
    "stacker.fit(iris_X, iris_y)\n",
    "scores = stacker.predict(iris_X)"
   ]
  },
  {
   "cell_type": "code",
   "execution_count": 35,
   "metadata": {},
   "outputs": [
    {
     "data": {
      "text/plain": [
       "0.9933333333333333"
      ]
     },
     "execution_count": 35,
     "metadata": {},
     "output_type": "execute_result"
    }
   ],
   "source": [
    "(iris_y == scores).mean()"
   ]
  },
  {
   "cell_type": "code",
   "execution_count": 36,
   "metadata": {},
   "outputs": [],
   "source": [
    "pipe = Pipeline([('scaler', StandardScaler()),\n",
    "                ('imputer', SimpleImputer(missing_values=np.nan, strategy='mean')),\n",
    "                ('stacker', stacker)])"
   ]
  }
 ],
 "metadata": {
  "kernelspec": {
   "display_name": "Python 3",
   "language": "python",
   "name": "python3"
  },
  "language_info": {
   "codemirror_mode": {
    "name": "ipython",
    "version": 3
   },
   "file_extension": ".py",
   "mimetype": "text/x-python",
   "name": "python",
   "nbconvert_exporter": "python",
   "pygments_lexer": "ipython3",
   "version": "3.8.5"
  }
 },
 "nbformat": 4,
 "nbformat_minor": 4
}
