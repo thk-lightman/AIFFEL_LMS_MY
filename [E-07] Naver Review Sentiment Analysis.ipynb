{
 "cells": [
  {
   "cell_type": "markdown",
   "id": "executed-hopkins",
   "metadata": {},
   "source": [
    "# 네이버 댓글 자연어 처리"
   ]
  },
  {
   "cell_type": "markdown",
   "id": "impaired-joseph",
   "metadata": {},
   "source": [
    "# \n",
    "## 데이터\n",
    " - 네이버 댓글 : [Naver sentiment movie corpus](https://github.com/e9t/nsmc)"
   ]
  },
  {
   "cell_type": "code",
   "execution_count": 1,
   "id": "charming-tenant",
   "metadata": {},
   "outputs": [],
   "source": [
    "import pandas as pd\n",
    "import urllib.request\n",
    "%matplotlib inline\n",
    "import matplotlib.pyplot as plt\n",
    "import re\n",
    "from konlpy.tag import Okt\n",
    "from tensorflow import keras\n",
    "from tensorflow.keras.preprocessing.text import Tokenizer\n",
    "import numpy as np\n",
    "from tensorflow.keras.preprocessing.sequence import pad_sequences\n",
    "from collections import Counter"
   ]
  },
  {
   "cell_type": "code",
   "execution_count": 2,
   "id": "wireless-dimension",
   "metadata": {},
   "outputs": [],
   "source": [
    "# 데이터를 읽어봅시다. \n",
    "train_data = pd.read_table('~/aiffel/sentiment_classification/data/ratings_train.txt')\n",
    "test_data = pd.read_table('~/aiffel/sentiment_classification/data/ratings_test.txt')"
   ]
  },
  {
   "cell_type": "code",
   "execution_count": 3,
   "id": "centered-dominant",
   "metadata": {},
   "outputs": [
    {
     "name": "stdout",
     "output_type": "stream",
     "text": [
      "150000 50000\n"
     ]
    }
   ],
   "source": [
    "print(len(train_data), len(test_data))"
   ]
  },
  {
   "cell_type": "code",
   "execution_count": null,
   "id": "curious-diary",
   "metadata": {},
   "outputs": [],
   "source": [
    "# ##TEST용\n",
    "# train_data = train_data[:100]\n",
    "# test_data = test_data[:100]"
   ]
  },
  {
   "cell_type": "markdown",
   "id": "raised-paradise",
   "metadata": {},
   "source": [
    "- 15만개의 데이터 중 오류를 내는 데이터를 검출해보자.\n",
    "- [25521]: nan\n",
    "- [39894]: ㅇㅇㅇㅇㅇㅇㅇㅇㅇㅇㅇㅇㅇㅇㅇㅇㅇㅇㅇㅇㅇㅇㅇㅇㅇㅇㅇㅇㅇㅇㅇㅇ"
   ]
  },
  {
   "cell_type": "markdown",
   "id": "latest-punch",
   "metadata": {},
   "source": [
    "---\n",
    "TEST LINE"
   ]
  },
  {
   "cell_type": "code",
   "execution_count": 4,
   "id": "owned-theta",
   "metadata": {},
   "outputs": [],
   "source": [
    "for data in [train_data, test_data] : \n",
    "    data.drop_duplicates(subset=['document'], inplace=True)\n",
    "    data = data.dropna(how = 'any').reset_index(drop=True)"
   ]
  },
  {
   "cell_type": "code",
   "execution_count": null,
   "id": "civilian-cartridge",
   "metadata": {},
   "outputs": [],
   "source": [
    "print(len(train_data), len(test_data))"
   ]
  },
  {
   "cell_type": "markdown",
   "id": "final-married",
   "metadata": {},
   "source": [
    "---"
   ]
  },
  {
   "cell_type": "markdown",
   "id": "suitable-information",
   "metadata": {},
   "source": [
    "## 데이터로더 구성\n",
    "- 데이터의 중복 제거\n",
    "- NaN 결측치 제거\n",
    "- 한국어 토크나이저로 토큰화\n",
    "- 불용어(Stopwords) 제거\n",
    "- 사전word_to_index 구성\n",
    "- 텍스트 스트링을 사전 인덱스 스트링으로 변환\n",
    "- X_train, y_train, X_test, y_test, word_to_index 리턴"
   ]
  },
  {
   "cell_type": "code",
   "execution_count": 3,
   "id": "applied-engagement",
   "metadata": {},
   "outputs": [],
   "source": [
    "from konlpy.tag import *\n",
    "from nltk import Text\n",
    "from nltk import FreqDist\n",
    "tokenizer = Mecab()\n",
    "stopwords = ['의','가','이','은','들','는','좀','잘','걍','과','도','를','으로','자','에','와','한','하다']"
   ]
  },
  {
   "cell_type": "markdown",
   "id": "diagnostic-brass",
   "metadata": {},
   "source": [
    "# test"
   ]
  },
  {
   "cell_type": "markdown",
   "id": "cardiac-webster",
   "metadata": {},
   "source": [
    "- 오류 데이터 제외"
   ]
  },
  {
   "cell_type": "code",
   "execution_count": 4,
   "id": "through-player",
   "metadata": {},
   "outputs": [],
   "source": [
    "def load_data(train_data, test_data, num_words=10000):\n",
    "    for data in [train_data, test_data] : \n",
    "        data.drop_duplicates(subset=['document'], inplace=True)\n",
    "        data = data.dropna(how = 'any') \n",
    "    \n",
    "    train_err_list = []    \n",
    "    X_train = []\n",
    "    for idx, sentence in enumerate(train_data['document']):\n",
    "        try:\n",
    "            temp_X = tokenizer.morphs(sentence) # 토큰화\n",
    "            temp_X = [word for word in temp_X if not word in stopwords] # 불용어 제거\n",
    "            X_train.append(temp_X)\n",
    "        except:\n",
    "            print(f'[{idx}]: {sentence}')\n",
    "            train_err_list.append(idx)\n",
    "    \n",
    "    test_err_list = []\n",
    "    X_test = []\n",
    "    for idx, sentence in enumerate(test_data['document']):\n",
    "        try:\n",
    "            temp_X = tokenizer.morphs(sentence) # 토큰화\n",
    "            temp_X = [word for word in temp_X if not word in stopwords] # 불용어 제거\n",
    "            X_test.append(temp_X)\n",
    "        except:\n",
    "            print(f'[{idx}]: {sentence}')\n",
    "            test_err_list.append(idx)\n",
    "\n",
    "    # 오류난 문장들을 제거해주는 연산_ver2\n",
    "    for ii, idx in enumerate(train_err_list) :\n",
    "        del train_data['label'][idx - ii]\n",
    "        \n",
    "    for ii, idx in enumerate(test_err_list) :\n",
    "        del test_data['label'][idx - ii]\n",
    "            \n",
    "    words = np.concatenate(X_train).tolist()\n",
    "    txt_X_train = Text(words)\n",
    "    freq_X_train = txt_X_train.vocab()\n",
    "    counter = freq_X_train.most_common(num_words-4) #[(단어, 횟수)]\n",
    "    \n",
    "#     counter = Counter(words)\n",
    "#     counter = counter.most_common(10000-4)\n",
    "\n",
    "    vocab = ['', '', '', ''] + [key for key, _ in counter]\n",
    "    word_to_index = {word:index for index, word in enumerate(vocab)}\n",
    "        \n",
    "    def wordlist_to_indexlist(wordlist):\n",
    "        return [word_to_index[word] if word in word_to_index else word_to_index[''] for word in wordlist]\n",
    "        \n",
    "    X_train = list(map(wordlist_to_indexlist, X_train))\n",
    "    X_test = list(map(wordlist_to_indexlist, X_test))\n",
    "    \n",
    "    \n",
    "# 오류난 문장들을 제거해주는 연산_ver1\n",
    "#     temp = np.array([])\n",
    "#     lower_idx = 0\n",
    "#     for idx in train_err_list:\n",
    "#         temp = np.concatenate([temp, train_data['label'][lower_idx:idx]])\n",
    "#         lower_idx = idx + 1\n",
    "#         if idx == train_err_list[-1] :\n",
    "#             temp = np.concatenate([temp, train_data['label'][lower_idx:]])\n",
    "#     y_train = temp\n",
    "    \n",
    "#     temp2 = np.array([])\n",
    "#     lower_idx = 0\n",
    "#     for idx in test_err_list:\n",
    "#         temp2 = np.concatenate([temp2, test_data['label'][lower_idx:idx]])\n",
    "#         lower_idx = idx + 1\n",
    "#         if idx == test_err_list[-1] :\n",
    "#             temp2 = np.concatenate([temp2, test_data['label'][lower_idx:]])\n",
    "#     y_test = temp2\n",
    "    \n",
    "    return X_train, np.array(list(train_data['label'])), X_test, np.array(list(test_data['label'])), word_to_index\n",
    " "
   ]
  },
  {
   "cell_type": "markdown",
   "id": "graduate-begin",
   "metadata": {},
   "source": [
    "---\n",
    "X_train, X_test에서 예외처리 한 값들 처리(임시방편)"
   ]
  },
  {
   "cell_type": "code",
   "execution_count": 5,
   "id": "nutritional-potter",
   "metadata": {},
   "outputs": [
    {
     "name": "stdout",
     "output_type": "stream",
     "text": [
      "[0, 1, 2, 3, 4, 5, 6, 7, 8, 9]\n"
     ]
    },
    {
     "data": {
      "text/plain": [
       "[1, 3, 5, 6, 7, 8, 9]"
      ]
     },
     "execution_count": 5,
     "metadata": {},
     "output_type": "execute_result"
    }
   ],
   "source": [
    "temp = [i for i in range(10)]\n",
    "print(temp)\n",
    "for idx, i in enumerate([0, 2, 4]):\n",
    "    del temp[i - idx ]\n",
    "temp"
   ]
  },
  {
   "cell_type": "code",
   "execution_count": null,
   "id": "false-equation",
   "metadata": {},
   "outputs": [],
   "source": [
    "temp = np.array([i for i in range(10)])\n",
    "temp = np.concatenate([temp[:1], temp[2:]])\n",
    "temp"
   ]
  },
  {
   "cell_type": "code",
   "execution_count": null,
   "id": "worthy-ultimate",
   "metadata": {
    "scrolled": true
   },
   "outputs": [],
   "source": [
    "len(X_train)"
   ]
  },
  {
   "cell_type": "code",
   "execution_count": null,
   "id": "ultimate-pierre",
   "metadata": {},
   "outputs": [],
   "source": [
    "temp = np.array([])\n",
    "lower_idx = 0\n",
    "for idx in [25521, 39894, 122796, 142389]:\n",
    "    temp = np.concatenate([temp, y_train[lower_idx:idx]])\n",
    "    lower_idx = idx + 1\n",
    "    if idx == 142389 :\n",
    "        temp = np.concatenate([temp, y_train[lower_idx:]])\n",
    "y_train = temp\n",
    "\n",
    "temp2 = np.array([])\n",
    "lower_idx = 0\n",
    "for idx in [5704, 32957, 34277, 35737]:\n",
    "    temp2 = np.concatenate([temp2, y_test[lower_idx:idx]])\n",
    "    lower_idx = idx + 1\n",
    "    if idx == 35737 :\n",
    "        temp2 = np.concatenate([temp2, y_test[lower_idx:]])\n",
    "y_test = temp2\n",
    "\n",
    "assert len(X_train) == len(y_train), len(X_test) == len(y_test)"
   ]
  },
  {
   "cell_type": "markdown",
   "id": "green-office",
   "metadata": {},
   "source": [
    "---"
   ]
  },
  {
   "cell_type": "code",
   "execution_count": 6,
   "id": "hungry-trade",
   "metadata": {},
   "outputs": [
    {
     "name": "stdout",
     "output_type": "stream",
     "text": [
      "[25521]: nan\n",
      "[5704]: nan\n"
     ]
    }
   ],
   "source": [
    "X_train, y_train, X_test, y_test, word_to_index = load_data(train_data, test_data) \n",
    "# load_data(train_data, test_data) \n",
    "index_to_word = {index:word for word, index in word_to_index.items()}"
   ]
  },
  {
   "cell_type": "code",
   "execution_count": 7,
   "id": "isolated-cowboy",
   "metadata": {},
   "outputs": [],
   "source": [
    "# 처음 몇 개 인덱스는 사전에 정의되어 있습니다\n",
    "word_to_index[\"<PAD>\"] = 0\n",
    "word_to_index[\"<BOS>\"] = 1\n",
    "word_to_index[\"<UNK>\"] = 2  # unknown\n",
    "word_to_index[\"<UNUSED>\"] = 3\n",
    "\n",
    "index_to_word[0] = \"<PAD>\"\n",
    "index_to_word[1] = \"<BOS>\"\n",
    "index_to_word[2] = \"<UNK>\"\n",
    "index_to_word[3] = \"<UNUSED>\""
   ]
  },
  {
   "cell_type": "code",
   "execution_count": 8,
   "id": "vocal-persian",
   "metadata": {},
   "outputs": [],
   "source": [
    "# 문장 1개를 활용할 딕셔너리와 함께 주면, 단어 인덱스 리스트 벡터로 변환해 주는 함수입니다. \n",
    "# 단, 모든 문장은 <BOS>로 시작하는 것으로 합니다. \n",
    "def get_encoded_sentence(sentence, word_to_index):\n",
    "    return [word_to_index['<BOS>']]+[word_to_index[word] if word in word_to_index else word_to_index['<UNK>'] for word in sentence.split()]\n",
    "\n",
    "# 여러 개의 문장 리스트를 한꺼번에 단어 인덱스 리스트 벡터로 encode해 주는 함수입니다. \n",
    "def get_encoded_sentences(sentences, word_to_index):\n",
    "    return [get_encoded_sentence(sentence, word_to_index) for sentence in sentences]\n",
    "\n",
    "# 숫자 벡터로 encode된 문장을 원래대로 decode하는 함수입니다. \n",
    "def get_decoded_sentence(encoded_sentence, index_to_word):\n",
    "    return ' '.join(index_to_word[index] if index in index_to_word else '<UNK>' for index in encoded_sentence[1:])  #[1:]를 통해 <BOS>를 제외\n",
    "\n",
    "# 여러 개의 숫자 벡터로 encode된 문장을 한꺼번에 원래대로 decode하는 함수입니다. \n",
    "def get_decoded_sentences(encoded_sentences, index_to_word):\n",
    "    return [get_decoded_sentence(encoded_sentence, index_to_word) for encoded_sentence in encoded_sentences]"
   ]
  },
  {
   "cell_type": "markdown",
   "id": "crude-mainstream",
   "metadata": {},
   "source": [
    "## 모델구성을 위한 데이터 분석 및 가공\n",
    "- 데이터셋 내 문장 길이 분포\n",
    "- 적절한 최대 문장 길이 지정\n",
    "- keras.preprocessing.sequence.pad_sequences 을 활용한 패딩 추가"
   ]
  },
  {
   "cell_type": "markdown",
   "id": "determined-franchise",
   "metadata": {},
   "source": [
    "# 문장의 길이"
   ]
  },
  {
   "cell_type": "code",
   "execution_count": 9,
   "id": "public-quarter",
   "metadata": {},
   "outputs": [
    {
     "name": "stdout",
     "output_type": "stream",
     "text": [
      "문장길이 평균 :  15.96940191154864\n",
      "문장길이 최대 :  116\n",
      "문장길이 표준편차 :  12.843571191092\n",
      "pad_sequences maxlen :  41\n",
      "전체 문장의 0.9342988343341575%가 maxlen 설정값 이내에 포함됩니다.\n"
     ]
    },
    {
     "name": "stderr",
     "output_type": "stream",
     "text": [
      "/opt/conda/lib/python3.7/site-packages/seaborn/distributions.py:2557: FutureWarning: `distplot` is a deprecated function and will be removed in a future version. Please adapt your code to use either `displot` (a figure-level function with similar flexibility) or `histplot` (an axes-level function for histograms).\n",
      "  warnings.warn(msg, FutureWarning)\n"
     ]
    },
    {
     "data": {
      "text/plain": [
       "<matplotlib.lines.Line2D at 0x7f12fc58b750>"
      ]
     },
     "execution_count": 9,
     "metadata": {},
     "output_type": "execute_result"
    },
    {
     "data": {
      "image/png": "[encoded data removed]",
      "text/plain": [
       "<Figure size 432x288 with 1 Axes>"
      ]
     },
     "metadata": {
      "needs_background": "light"
     },
     "output_type": "display_data"
    }
   ],
   "source": [
    "import seaborn as sns\n",
    "import matplotlib.pyplot as plt\n",
    "\n",
    "total_data_text = list(X_train) + list(X_test)\n",
    "# 텍스트데이터 문장길이의 리스트를 생성한 후\n",
    "\n",
    "num_tokens = [len(tokens) for tokens in total_data_text]\n",
    "num_tokens = np.array(num_tokens)\n",
    "\n",
    "# 문장길이의 평균값, 최대값, 표준편차를 계산해 본다. \n",
    "print('문장길이 평균 : ', np.mean(num_tokens))\n",
    "print('문장길이 최대 : ', np.max(num_tokens))\n",
    "print('문장길이 표준편차 : ', np.std(num_tokens))\n",
    "\n",
    "# 예를들어, 최대 길이를 (평균 + 2*표준편차)로 한다면,  \n",
    "max_tokens = np.mean(num_tokens) + 2 * np.std(num_tokens)\n",
    "maxlen = int(max_tokens)\n",
    "print('pad_sequences maxlen : ', maxlen)\n",
    "print(f'전체 문장의 {np.sum(num_tokens < max_tokens) / len(num_tokens)}%가 maxlen 설정값 이내에 포함됩니다.')\n",
    "\n",
    "sns.distplot(num_tokens)\n",
    "plt.axvline(maxlen, color = 'r',ls = '--', linewidth = 1)"
   ]
  },
  {
   "cell_type": "code",
   "execution_count": 10,
   "id": "higher-drove",
   "metadata": {},
   "outputs": [
    {
     "name": "stdout",
     "output_type": "stream",
     "text": [
      "(146182, 41)\n"
     ]
    }
   ],
   "source": [
    "X_train = keras.preprocessing.sequence.pad_sequences(X_train,\n",
    "                                                        value=word_to_index[\"<PAD>\"],\n",
    "                                                        padding='pre', # 혹은 'pre'\n",
    "                                                        maxlen=maxlen)\n",
    "\n",
    "X_test = keras.preprocessing.sequence.pad_sequences(X_test,\n",
    "                                                       value=word_to_index[\"<PAD>\"],\n",
    "                                                       padding='pre', # 혹은 'pre'\n",
    "                                                       maxlen=maxlen)\n",
    "\n",
    "print(X_train.shape)"
   ]
  },
  {
   "cell_type": "markdown",
   "id": "aware-sewing",
   "metadata": {},
   "source": [
    "## 모델구성 및 validation set 구성\n",
    " - 3가지 이상의 다양한 구성"
   ]
  },
  {
   "cell_type": "code",
   "execution_count": 11,
   "id": "french-cream",
   "metadata": {},
   "outputs": [],
   "source": [
    "vocab_size = 10000    # 어휘 사전의 크기입니다(10,000개의 단어)\n",
    "word_vector_dim = 16  # 워드 벡터의 차원 수 (변경 가능한 하이퍼파라미터)"
   ]
  },
  {
   "cell_type": "markdown",
   "id": "extra-cutting",
   "metadata": {},
   "source": [
    "## 모델1"
   ]
  },
  {
   "cell_type": "code",
   "execution_count": 12,
   "id": "isolated-least",
   "metadata": {},
   "outputs": [
    {
     "name": "stdout",
     "output_type": "stream",
     "text": [
      "Model: \"sequential\"\n",
      "_________________________________________________________________\n",
      "Layer (type)                 Output Shape              Param #   \n",
      "=================================================================\n",
      "embedding (Embedding)        (None, None, 16)          160000    \n",
      "_________________________________________________________________\n",
      "lstm (LSTM)                  (None, 8)                 800       \n",
      "_________________________________________________________________\n",
      "dense (Dense)                (None, 8)                 72        \n",
      "_________________________________________________________________\n",
      "dense_1 (Dense)              (None, 1)                 9         \n",
      "=================================================================\n",
      "Total params: 160,881\n",
      "Trainable params: 160,881\n",
      "Non-trainable params: 0\n",
      "_________________________________________________________________\n"
     ]
    }
   ],
   "source": [
    "model1 = keras.Sequential()\n",
    "model1.add(keras.layers.Embedding(vocab_size, word_vector_dim, input_shape=(None,)))\n",
    "model1.add(keras.layers.LSTM(8))   # 가장 널리 쓰이는 RNN인 LSTM 레이어를 사용하였습니다. 이때 LSTM state 벡터의 차원수는 8로 하였습니다. (변경 가능)\n",
    "model1.add(keras.layers.Dense(8, activation='relu'))\n",
    "model1.add(keras.layers.Dense(1, activation='sigmoid'))  # 최종 출력은 긍정/부정을 나타내는 1dim 입니다.\n",
    "\n",
    "model1.summary()"
   ]
  },
  {
   "cell_type": "markdown",
   "id": "prompt-luxembourg",
   "metadata": {},
   "source": [
    "## 모델2"
   ]
  },
  {
   "cell_type": "code",
   "execution_count": 13,
   "id": "spare-allocation",
   "metadata": {},
   "outputs": [
    {
     "name": "stdout",
     "output_type": "stream",
     "text": [
      "Model: \"sequential_1\"\n",
      "_________________________________________________________________\n",
      "Layer (type)                 Output Shape              Param #   \n",
      "=================================================================\n",
      "embedding_1 (Embedding)      (None, None, 16)          160000    \n",
      "_________________________________________________________________\n",
      "conv1d (Conv1D)              (None, None, 16)          1808      \n",
      "_________________________________________________________________\n",
      "max_pooling1d (MaxPooling1D) (None, None, 16)          0         \n",
      "_________________________________________________________________\n",
      "conv1d_1 (Conv1D)            (None, None, 16)          1808      \n",
      "_________________________________________________________________\n",
      "global_max_pooling1d (Global (None, 16)                0         \n",
      "_________________________________________________________________\n",
      "dense_2 (Dense)              (None, 8)                 136       \n",
      "_________________________________________________________________\n",
      "dense_3 (Dense)              (None, 1)                 9         \n",
      "=================================================================\n",
      "Total params: 163,761\n",
      "Trainable params: 163,761\n",
      "Non-trainable params: 0\n",
      "_________________________________________________________________\n"
     ]
    }
   ],
   "source": [
    "model2 = keras.Sequential()\n",
    "model2.add(keras.layers.Embedding(vocab_size, word_vector_dim, input_shape=(None,)))\n",
    "model2.add(keras.layers.Conv1D(16, 7, activation='relu'))\n",
    "model2.add(keras.layers.MaxPooling1D(5))\n",
    "model2.add(keras.layers.Conv1D(16, 7, activation='relu'))\n",
    "model2.add(keras.layers.GlobalMaxPooling1D())\n",
    "model2.add(keras.layers.Dense(8, activation='relu'))\n",
    "model2.add(keras.layers.Dense(1, activation='sigmoid'))  # 최종 출력은 긍정/부정을 나타내는 1dim 입니다.\n",
    "\n",
    "model2.summary()"
   ]
  },
  {
   "cell_type": "markdown",
   "id": "successful-territory",
   "metadata": {},
   "source": [
    "## 모델3"
   ]
  },
  {
   "cell_type": "code",
   "execution_count": 14,
   "id": "overall-certification",
   "metadata": {},
   "outputs": [
    {
     "name": "stdout",
     "output_type": "stream",
     "text": [
      "Model: \"sequential_2\"\n",
      "_________________________________________________________________\n",
      "Layer (type)                 Output Shape              Param #   \n",
      "=================================================================\n",
      "embedding_2 (Embedding)      (None, None, 16)          160000    \n",
      "_________________________________________________________________\n",
      "global_max_pooling1d_1 (Glob (None, 16)                0         \n",
      "_________________________________________________________________\n",
      "dense_4 (Dense)              (None, 8)                 136       \n",
      "_________________________________________________________________\n",
      "dense_5 (Dense)              (None, 1)                 9         \n",
      "=================================================================\n",
      "Total params: 160,145\n",
      "Trainable params: 160,145\n",
      "Non-trainable params: 0\n",
      "_________________________________________________________________\n"
     ]
    }
   ],
   "source": [
    "model3 = keras.Sequential()\n",
    "model3.add(keras.layers.Embedding(vocab_size, word_vector_dim, input_shape=(None,)))\n",
    "model3.add(keras.layers.GlobalMaxPooling1D())\n",
    "model3.add(keras.layers.Dense(8, activation='relu'))\n",
    "model3.add(keras.layers.Dense(1, activation='sigmoid'))  # 최종 출력은 긍정/부정을 나타내는 1dim 입니다.\n",
    "\n",
    "model3.summary()"
   ]
  },
  {
   "cell_type": "markdown",
   "id": "informed-contribution",
   "metadata": {},
   "source": [
    "## 모델 훈련"
   ]
  },
  {
   "cell_type": "code",
   "execution_count": 15,
   "id": "established-clone",
   "metadata": {},
   "outputs": [
    {
     "name": "stdout",
     "output_type": "stream",
     "text": [
      "Epoch 1/10\n",
      "229/229 [==============================] - 6s 13ms/step - loss: 0.6184 - accuracy: 0.6651 - val_loss: 0.4698 - val_accuracy: 0.8324\n",
      "Epoch 2/10\n",
      "229/229 [==============================] - 2s 10ms/step - loss: 0.4329 - accuracy: 0.8421 - val_loss: 0.3832 - val_accuracy: 0.8330\n",
      "Epoch 3/10\n",
      "229/229 [==============================] - 2s 10ms/step - loss: 0.3459 - accuracy: 0.8552 - val_loss: 0.3495 - val_accuracy: 0.8507\n",
      "Epoch 4/10\n",
      "229/229 [==============================] - 2s 10ms/step - loss: 0.3217 - accuracy: 0.8663 - val_loss: 0.3481 - val_accuracy: 0.8517\n",
      "Epoch 5/10\n",
      "229/229 [==============================] - 2s 10ms/step - loss: 0.3125 - accuracy: 0.8710 - val_loss: 0.3486 - val_accuracy: 0.8517\n",
      "Epoch 6/10\n",
      "229/229 [==============================] - 2s 10ms/step - loss: 0.3049 - accuracy: 0.8741 - val_loss: 0.3437 - val_accuracy: 0.8527\n",
      "Epoch 7/10\n",
      "229/229 [==============================] - 2s 10ms/step - loss: 0.3019 - accuracy: 0.8764 - val_loss: 0.3428 - val_accuracy: 0.8535\n",
      "Epoch 8/10\n",
      "229/229 [==============================] - 2s 10ms/step - loss: 0.2945 - accuracy: 0.8790 - val_loss: 0.3406 - val_accuracy: 0.8542\n",
      "Epoch 9/10\n",
      "229/229 [==============================] - 2s 10ms/step - loss: 0.2916 - accuracy: 0.8795 - val_loss: 0.3397 - val_accuracy: 0.8561\n",
      "Epoch 10/10\n",
      "229/229 [==============================] - 2s 10ms/step - loss: 0.2820 - accuracy: 0.8842 - val_loss: 0.3373 - val_accuracy: 0.8563\n",
      "1537/1537 - 5s - loss: 0.3417 - accuracy: 0.8531\n",
      "[[0.34170493483543396, 0.853062629699707]]\n",
      "Epoch 1/10\n",
      "229/229 [==============================] - 8s 21ms/step - loss: 0.6238 - accuracy: 0.6486 - val_loss: 0.3944 - val_accuracy: 0.8311\n",
      "Epoch 2/10\n",
      "229/229 [==============================] - 2s 8ms/step - loss: 0.3633 - accuracy: 0.8460 - val_loss: 0.3750 - val_accuracy: 0.8299\n",
      "Epoch 3/10\n",
      "229/229 [==============================] - 2s 8ms/step - loss: 0.3238 - accuracy: 0.8640 - val_loss: 0.3436 - val_accuracy: 0.8514\n",
      "Epoch 4/10\n",
      "229/229 [==============================] - 2s 8ms/step - loss: 0.3028 - accuracy: 0.8726 - val_loss: 0.3502 - val_accuracy: 0.8511\n",
      "Epoch 5/10\n",
      "229/229 [==============================] - 2s 8ms/step - loss: 0.2919 - accuracy: 0.8792 - val_loss: 0.3405 - val_accuracy: 0.8520\n",
      "Epoch 6/10\n",
      "229/229 [==============================] - 2s 8ms/step - loss: 0.2709 - accuracy: 0.8895 - val_loss: 0.3329 - val_accuracy: 0.8580\n",
      "Epoch 7/10\n",
      "229/229 [==============================] - 2s 8ms/step - loss: 0.2575 - accuracy: 0.8959 - val_loss: 0.3356 - val_accuracy: 0.8581\n",
      "Epoch 8/10\n",
      "229/229 [==============================] - 2s 8ms/step - loss: 0.2410 - accuracy: 0.9042 - val_loss: 0.3413 - val_accuracy: 0.8559\n",
      "Epoch 9/10\n",
      "229/229 [==============================] - 2s 8ms/step - loss: 0.2265 - accuracy: 0.9105 - val_loss: 0.3544 - val_accuracy: 0.8527\n",
      "Epoch 10/10\n",
      "229/229 [==============================] - 2s 8ms/step - loss: 0.2076 - accuracy: 0.9201 - val_loss: 0.3656 - val_accuracy: 0.8537\n",
      "1537/1537 - 4s - loss: 0.3713 - accuracy: 0.8517\n",
      "[[0.34170493483543396, 0.853062629699707], [0.3713318407535553, 0.8516996502876282]]\n",
      "Epoch 1/10\n",
      "229/229 [==============================] - 2s 5ms/step - loss: 0.6579 - accuracy: 0.6503 - val_loss: 0.5096 - val_accuracy: 0.8038\n",
      "Epoch 2/10\n",
      "229/229 [==============================] - 1s 4ms/step - loss: 0.4636 - accuracy: 0.8190 - val_loss: 0.3932 - val_accuracy: 0.8294\n",
      "Epoch 3/10\n",
      "229/229 [==============================] - 1s 4ms/step - loss: 0.3710 - accuracy: 0.8415 - val_loss: 0.3681 - val_accuracy: 0.8391\n",
      "Epoch 4/10\n",
      "229/229 [==============================] - 1s 4ms/step - loss: 0.3404 - accuracy: 0.8551 - val_loss: 0.3582 - val_accuracy: 0.8445\n",
      "Epoch 5/10\n",
      "229/229 [==============================] - 1s 4ms/step - loss: 0.3253 - accuracy: 0.8632 - val_loss: 0.3544 - val_accuracy: 0.8480\n",
      "Epoch 6/10\n",
      "229/229 [==============================] - 1s 4ms/step - loss: 0.3150 - accuracy: 0.8676 - val_loss: 0.3531 - val_accuracy: 0.8484\n",
      "Epoch 7/10\n",
      "229/229 [==============================] - 1s 4ms/step - loss: 0.3091 - accuracy: 0.8723 - val_loss: 0.3527 - val_accuracy: 0.8492\n",
      "Epoch 8/10\n",
      "229/229 [==============================] - 1s 4ms/step - loss: 0.3021 - accuracy: 0.8751 - val_loss: 0.3530 - val_accuracy: 0.8495\n",
      "Epoch 9/10\n",
      "229/229 [==============================] - 1s 4ms/step - loss: 0.2940 - accuracy: 0.8777 - val_loss: 0.3535 - val_accuracy: 0.8495\n",
      "Epoch 10/10\n",
      "229/229 [==============================] - 1s 4ms/step - loss: 0.2906 - accuracy: 0.8795 - val_loss: 0.3540 - val_accuracy: 0.8497\n",
      "1537/1537 - 2s - loss: 0.3630 - accuracy: 0.8449\n",
      "[[0.34170493483543396, 0.853062629699707], [0.3713318407535553, 0.8516996502876282], [0.3629741072654724, 0.8449254631996155]]\n"
     ]
    }
   ],
   "source": [
    "epochs = 10  # 몇 epoch를 훈련하면 좋을지 결과를 보면서 바꾸어 봅시다. \n",
    "\n",
    "models = [model1, model2, model3]\n",
    "histories = []\n",
    "history_dicts = []\n",
    "results = []\n",
    "for idx, model in enumerate(models):\n",
    "    model.compile(optimizer='rmsprop',\n",
    "              loss='binary_crossentropy',\n",
    "              metrics=['accuracy'])\n",
    "    \n",
    "    histories.append(model.fit(X_train,\n",
    "                    y_train,\n",
    "                    epochs=epochs,\n",
    "                    batch_size=512,\n",
    "                    validation_split=0.2,\n",
    "                    verbose=1))\n",
    "    history_dicts.append(histories[idx].history)\n",
    "    \n",
    "    results.append(model.evaluate(X_test,  y_test, verbose=2))\n",
    "\n",
    "    print(results)"
   ]
  },
  {
   "cell_type": "markdown",
   "id": "discrete-delivery",
   "metadata": {},
   "source": [
    "## Loss, Accuracy 그래프 시각화"
   ]
  },
  {
   "cell_type": "code",
   "execution_count": 16,
   "id": "waiting-simple",
   "metadata": {},
   "outputs": [
    {
     "data": {
      "image/png": "[encoded data removed]",
      "text/plain": [
       "<Figure size 1440x1080 with 3 Axes>"
      ]
     },
     "metadata": {
      "needs_background": "light"
     },
     "output_type": "display_data"
    }
   ],
   "source": [
    "fig, axes = plt.subplots(3,1, figsize=(20,15))\n",
    "\n",
    "for idx, ax in enumerate(axes) :\n",
    "    acc = history_dicts[idx]['accuracy']\n",
    "    val_acc = history_dicts[idx]['val_accuracy']\n",
    "    loss = history_dicts[idx]['loss']\n",
    "    val_loss = history_dicts[idx]['val_loss']\n",
    "\n",
    "    epochs = range(1, len(acc) + 1)\n",
    "\n",
    "    # \"bo\"는 \"파란색 점\"입니다\n",
    "    ax.plot(epochs, loss, 'bo', label='Training loss')\n",
    "    # b는 \"파란 실선\"입니다\n",
    "    ax.plot(epochs, val_loss, 'b', label='Validation loss')\n",
    "    ax.set_title(f'model{idx+1}: Training and validation loss')\n",
    "    ax.set_xlabel('Epochs')\n",
    "    ax.set_ylabel('Loss')\n",
    "    ax.legend()\n",
    "\n",
    "plt.show()"
   ]
  },
  {
   "cell_type": "markdown",
   "id": "entitled-transsexual",
   "metadata": {},
   "source": [
    "## 학습된 Embedding 레이어 분석"
   ]
  },
  {
   "cell_type": "markdown",
   "id": "distinguished-machine",
   "metadata": {},
   "source": [
    "- 가장 성능이 좋았던 모델 기준으로, Embedding Layer 적용 결과 16-dim의 벡터를 얻을 수 있음을 알 수 있다!\n"
   ]
  },
  {
   "cell_type": "code",
   "execution_count": 37,
   "id": "boring-jason",
   "metadata": {},
   "outputs": [
    {
     "data": {
      "text/plain": [
       "<tf.Tensor: shape=(146182, 41, 16), dtype=float32, numpy=\n",
       "array([[[-0.01810664, -0.02048413,  0.0427878 , ..., -0.01769658,\n",
       "          0.00975205,  0.06761301],\n",
       "        [-0.01810664, -0.02048413,  0.0427878 , ..., -0.01769658,\n",
       "          0.00975205,  0.06761301],\n",
       "        [-0.01810664, -0.02048413,  0.0427878 , ..., -0.01769658,\n",
       "          0.00975205,  0.06761301],\n",
       "        ...,\n",
       "        [-0.00823269,  0.00585966, -0.01963153, ..., -0.07385854,\n",
       "          0.00304255,  0.02448767],\n",
       "        [-0.0472527 , -0.00299098,  0.0237246 , ..., -0.08318406,\n",
       "          0.04224602, -0.15888959],\n",
       "        [ 0.01446805,  0.03053502, -0.02359521, ...,  0.02106308,\n",
       "          0.03274518, -0.00469517]],\n",
       "\n",
       "       [[-0.01810664, -0.02048413,  0.0427878 , ..., -0.01769658,\n",
       "          0.00975205,  0.06761301],\n",
       "        [-0.01810664, -0.02048413,  0.0427878 , ..., -0.01769658,\n",
       "          0.00975205,  0.06761301],\n",
       "        [-0.01810664, -0.02048413,  0.0427878 , ..., -0.01769658,\n",
       "          0.00975205,  0.06761301],\n",
       "        ...,\n",
       "        [-0.0207164 ,  0.0146844 ,  0.04547736, ..., -0.00363225,\n",
       "         -0.00450609,  0.05116479],\n",
       "        [ 0.10652394, -0.00362969,  0.00087106, ..., -0.03886728,\n",
       "         -0.07178168,  0.17018917],\n",
       "        [ 0.00663548, -0.03916351,  0.01658059, ..., -0.03824855,\n",
       "          0.05686026, -0.05816496]],\n",
       "\n",
       "       [[-0.01810664, -0.02048413,  0.0427878 , ..., -0.01769658,\n",
       "          0.00975205,  0.06761301],\n",
       "        [-0.01810664, -0.02048413,  0.0427878 , ..., -0.01769658,\n",
       "          0.00975205,  0.06761301],\n",
       "        [-0.01810664, -0.02048413,  0.0427878 , ..., -0.01769658,\n",
       "          0.00975205,  0.06761301],\n",
       "        ...,\n",
       "        [ 0.0642867 , -0.0118955 ,  0.02218205, ...,  0.0108575 ,\n",
       "          0.00164021, -0.04815986],\n",
       "        [-0.06401392, -0.06957051,  0.11407396, ..., -0.09657709,\n",
       "         -0.1315862 ,  0.08950973],\n",
       "        [-0.04642687, -0.03318844, -0.01890656, ..., -0.02270485,\n",
       "          0.04209566, -0.02340353]],\n",
       "\n",
       "       ...,\n",
       "\n",
       "       [[-0.01810664, -0.02048413,  0.0427878 , ..., -0.01769658,\n",
       "          0.00975205,  0.06761301],\n",
       "        [-0.01810664, -0.02048413,  0.0427878 , ..., -0.01769658,\n",
       "          0.00975205,  0.06761301],\n",
       "        [-0.01810664, -0.02048413,  0.0427878 , ..., -0.01769658,\n",
       "          0.00975205,  0.06761301],\n",
       "        ...,\n",
       "        [-0.03945233, -0.06815346,  0.06497185, ..., -0.04727505,\n",
       "          0.00381322,  0.07833543],\n",
       "        [-0.01546881, -0.07343751, -0.04980663, ..., -0.12601912,\n",
       "          0.02234631,  0.00406821],\n",
       "        [ 0.04091161, -0.00399656, -0.02720528, ..., -0.02483451,\n",
       "          0.03133935, -0.09626555]],\n",
       "\n",
       "       [[-0.01810664, -0.02048413,  0.0427878 , ..., -0.01769658,\n",
       "          0.00975205,  0.06761301],\n",
       "        [-0.01810664, -0.02048413,  0.0427878 , ..., -0.01769658,\n",
       "          0.00975205,  0.06761301],\n",
       "        [-0.01810664, -0.02048413,  0.0427878 , ..., -0.01769658,\n",
       "          0.00975205,  0.06761301],\n",
       "        ...,\n",
       "        [-0.03329683,  0.01207325,  0.00321229, ..., -0.02510373,\n",
       "         -0.03120379,  0.07902849],\n",
       "        [ 0.0116093 , -0.02759967,  0.01757509, ..., -0.06339187,\n",
       "         -0.04018264, -0.00021962],\n",
       "        [-0.03316192, -0.02564856,  0.00663224, ...,  0.01047488,\n",
       "         -0.01802981,  0.05966173]],\n",
       "\n",
       "       [[-0.01810664, -0.02048413,  0.0427878 , ..., -0.01769658,\n",
       "          0.00975205,  0.06761301],\n",
       "        [-0.01810664, -0.02048413,  0.0427878 , ..., -0.01769658,\n",
       "          0.00975205,  0.06761301],\n",
       "        [-0.01810664, -0.02048413,  0.0427878 , ..., -0.01769658,\n",
       "          0.00975205,  0.06761301],\n",
       "        ...,\n",
       "        [ 0.04322737,  0.01371569, -0.07721409, ...,  0.05402477,\n",
       "          0.04351327, -0.03315122],\n",
       "        [-0.08313537, -0.07394311,  0.11197312, ..., -0.05742015,\n",
       "         -0.06750062,  0.00128032],\n",
       "        [-0.04760782, -0.05402996, -0.03644709, ..., -0.09075768,\n",
       "          0.00581484, -0.079034  ]]], dtype=float32)>"
      ]
     },
     "execution_count": 37,
     "metadata": {},
     "output_type": "execute_result"
    }
   ],
   "source": [
    "model1.layers[0](X_train)"
   ]
  },
  {
   "cell_type": "markdown",
   "id": "exempt-republican",
   "metadata": {},
   "source": [
    "## 한국어 Word2Vec 임베딩 활용하여 성능개선\n",
    " - 출처 : [Pre-trained word vectors of 30+ languages](https://github.com/Kyubyong/wordvectors)"
   ]
  },
  {
   "cell_type": "code",
   "execution_count": 18,
   "id": "academic-engineering",
   "metadata": {},
   "outputs": [],
   "source": [
    "import os\n",
    "from gensim.models import KeyedVectors\n",
    "word2vec_path = os.getenv('HOME')+'/aiffel/sentiment_classification/data/GoogleNews-vectors-negative300.bin.gz'\n",
    "word2vec = KeyedVectors.load_word2vec_format(word2vec_path, binary=True, limit=1000000)\n",
    "# vector = word2vec['computer']\n",
    "# vector     # 무려 300dim의 워드 벡터입니다."
   ]
  },
  {
   "cell_type": "code",
   "execution_count": 19,
   "id": "exceptional-intelligence",
   "metadata": {},
   "outputs": [],
   "source": [
    "vocab_size = 10000    # 어휘 사전의 크기입니다(10,000개의 단어)\n",
    "word_vector_dim = 300  # 워드 벡터의 차원수 (변경가능한 하이퍼파라미터)\n",
    "\n",
    "embedding_matrix = np.random.rand(vocab_size, word_vector_dim)\n",
    "\n",
    "# embedding_matrix에 Word2Vec 워드 벡터를 단어 하나씩마다 차례차례 카피한다.\n",
    "for i in range(4,vocab_size):\n",
    "    if index_to_word[i] in word2vec:\n",
    "        embedding_matrix[i] = word2vec[index_to_word[i]]"
   ]
  },
  {
   "cell_type": "code",
   "execution_count": 23,
   "id": "upset-allergy",
   "metadata": {},
   "outputs": [
    {
     "name": "stdout",
     "output_type": "stream",
     "text": [
      "Model: \"sequential_4\"\n",
      "_________________________________________________________________\n",
      "Layer (type)                 Output Shape              Param #   \n",
      "=================================================================\n",
      "embedding_4 (Embedding)      (None, 41, 300)           3000000   \n",
      "_________________________________________________________________\n",
      "lstm_1 (LSTM)                (None, 8)                 9888      \n",
      "_________________________________________________________________\n",
      "dense_8 (Dense)              (None, 8)                 72        \n",
      "_________________________________________________________________\n",
      "dense_9 (Dense)              (None, 1)                 9         \n",
      "=================================================================\n",
      "Total params: 3,009,969\n",
      "Trainable params: 3,009,969\n",
      "Non-trainable params: 0\n",
      "_________________________________________________________________\n"
     ]
    }
   ],
   "source": [
    "from tensorflow.keras.initializers import Constant\n",
    "\n",
    "vocab_size = 10000    # 어휘 사전의 크기입니다(10,000개의 단어)\n",
    "word_vector_dim = 300  # 워드 벡터의 차원 수 (변경가능한 하이퍼파라미터)\n",
    "\n",
    "# 모델 구성\n",
    "model = keras.Sequential()\n",
    "model.add(keras.layers.Embedding(vocab_size, \n",
    "                                 word_vector_dim, \n",
    "                                 embeddings_initializer=Constant(embedding_matrix),  # 카피한 임베딩을 여기서 활용\n",
    "                                 input_length=maxlen, \n",
    "                                 trainable=True))   # trainable을 True로 주면 Fine-tuning\n",
    "model.add(keras.layers.LSTM(8))   # 가장 널리 쓰이는 RNN인 LSTM 레이어를 사용하였습니다. 이때 LSTM state 벡터의 차원수는 8로 하였습니다. (변경 가능)\n",
    "model.add(keras.layers.Dense(8, activation='relu'))\n",
    "model.add(keras.layers.Dense(1, activation='sigmoid'))  # 최종 출력은 긍정/부정을 나타내는 1dim 입니다.\n",
    "\n",
    "model.summary()"
   ]
  },
  {
   "cell_type": "code",
   "execution_count": 24,
   "id": "northern-perry",
   "metadata": {},
   "outputs": [
    {
     "name": "stdout",
     "output_type": "stream",
     "text": [
      "Epoch 1/10\n",
      "229/229 [==============================] - 10s 35ms/step - loss: 0.6452 - accuracy: 0.6362 - val_loss: 0.4850 - val_accuracy: 0.8061\n",
      "Epoch 2/10\n",
      "229/229 [==============================] - 7s 31ms/step - loss: 0.4449 - accuracy: 0.8211 - val_loss: 0.3783 - val_accuracy: 0.8390\n",
      "Epoch 3/10\n",
      "229/229 [==============================] - 7s 30ms/step - loss: 0.3594 - accuracy: 0.8510 - val_loss: 0.3558 - val_accuracy: 0.8462\n",
      "Epoch 4/10\n",
      "229/229 [==============================] - 7s 30ms/step - loss: 0.3310 - accuracy: 0.8614 - val_loss: 0.3446 - val_accuracy: 0.8539\n",
      "Epoch 5/10\n",
      "229/229 [==============================] - 7s 30ms/step - loss: 0.3125 - accuracy: 0.8702 - val_loss: 0.3439 - val_accuracy: 0.8520\n",
      "Epoch 6/10\n",
      "229/229 [==============================] - 7s 30ms/step - loss: 0.3024 - accuracy: 0.8744 - val_loss: 0.3513 - val_accuracy: 0.8552\n",
      "Epoch 7/10\n",
      "229/229 [==============================] - 7s 30ms/step - loss: 0.2942 - accuracy: 0.8788 - val_loss: 0.3380 - val_accuracy: 0.8551\n",
      "Epoch 8/10\n",
      "229/229 [==============================] - 7s 30ms/step - loss: 0.2851 - accuracy: 0.8825 - val_loss: 0.3363 - val_accuracy: 0.8551\n",
      "Epoch 9/10\n",
      "229/229 [==============================] - 7s 30ms/step - loss: 0.2779 - accuracy: 0.8867 - val_loss: 0.3548 - val_accuracy: 0.8552\n",
      "Epoch 10/10\n",
      "229/229 [==============================] - 7s 30ms/step - loss: 0.2744 - accuracy: 0.8879 - val_loss: 0.3392 - val_accuracy: 0.8590\n"
     ]
    }
   ],
   "source": [
    "# 학습의 진행\n",
    "model.compile(optimizer='rmsprop',\n",
    "              loss='binary_crossentropy',\n",
    "              metrics=['accuracy'])\n",
    "              \n",
    "epochs=10  # 몇 epoch를 훈련하면 좋을지 결과를 보면서 바꾸어 봅시다. \n",
    "\n",
    "history = model.fit(X_train,\n",
    "                    y_train,\n",
    "                    epochs=epochs,\n",
    "                    batch_size=512,\n",
    "                    validation_split=0.2,\n",
    "                    verbose=1)"
   ]
  },
  {
   "cell_type": "code",
   "execution_count": 25,
   "id": "executed-checklist",
   "metadata": {
    "scrolled": true
   },
   "outputs": [
    {
     "name": "stdout",
     "output_type": "stream",
     "text": [
      "1537/1537 - 4s - loss: 0.3482 - accuracy: 0.8539\n",
      "[0.3482268750667572, 0.8538966774940491]\n"
     ]
    }
   ],
   "source": [
    "# 테스트셋을 통한 모델 평가\n",
    "results = model.evaluate(X_test,  y_test, verbose=2)\n",
    "\n",
    "print(results)"
   ]
  },
  {
   "cell_type": "markdown",
   "id": "daily-farmer",
   "metadata": {},
   "source": [
    "## 학습된 Embedding 레이어 분석"
   ]
  },
  {
   "cell_type": "markdown",
   "id": "honey-copper",
   "metadata": {},
   "source": [
    "- Embedding Layer 적용 결과 300-dim의 벡터를 얻을 수 있음을 알 수 있다!"
   ]
  },
  {
   "cell_type": "code",
   "execution_count": 36,
   "id": "distant-operations",
   "metadata": {},
   "outputs": [
    {
     "data": {
      "text/plain": [
       "<tf.Tensor: shape=(146182, 41, 300), dtype=float32, numpy=\n",
       "array([[[ 0.13760154,  0.53542227,  0.09453255, ..., -0.00783848,\n",
       "         -0.01287374,  0.15717745],\n",
       "        [ 0.13760154,  0.53542227,  0.09453255, ..., -0.00783848,\n",
       "         -0.01287374,  0.15717745],\n",
       "        [ 0.13760154,  0.53542227,  0.09453255, ..., -0.00783848,\n",
       "         -0.01287374,  0.15717745],\n",
       "        ...,\n",
       "        [ 0.4339911 ,  0.92141753,  0.56413794, ...,  0.26449233,\n",
       "          0.3937608 ,  0.5379773 ],\n",
       "        [ 0.9411218 ,  0.19872446,  0.9430336 , ...,  1.1072474 ,\n",
       "          0.84138185,  0.89228714],\n",
       "        [ 0.38650003,  0.81623703,  0.9622721 , ...,  0.73046964,\n",
       "          0.6175345 ,  0.7610749 ]],\n",
       "\n",
       "       [[ 0.13760154,  0.53542227,  0.09453255, ..., -0.00783848,\n",
       "         -0.01287374,  0.15717745],\n",
       "        [ 0.13760154,  0.53542227,  0.09453255, ..., -0.00783848,\n",
       "         -0.01287374,  0.15717745],\n",
       "        [ 0.13760154,  0.53542227,  0.09453255, ..., -0.00783848,\n",
       "         -0.01287374,  0.15717745],\n",
       "        ...,\n",
       "        [ 0.16863774,  0.7277846 ,  0.78259766, ...,  0.07674929,\n",
       "         -0.00953586,  0.13205498],\n",
       "        [ 0.65727895,  0.7657017 ,  0.23101121, ...,  0.35876548,\n",
       "          0.8344492 ,  0.5451636 ],\n",
       "        [ 0.4788385 ,  0.44901064,  0.7959364 , ...,  0.99539196,\n",
       "          0.5746297 ,  0.9039878 ]],\n",
       "\n",
       "       [[ 0.13760154,  0.53542227,  0.09453255, ..., -0.00783848,\n",
       "         -0.01287374,  0.15717745],\n",
       "        [ 0.13760154,  0.53542227,  0.09453255, ..., -0.00783848,\n",
       "         -0.01287374,  0.15717745],\n",
       "        [ 0.13760154,  0.53542227,  0.09453255, ..., -0.00783848,\n",
       "         -0.01287374,  0.15717745],\n",
       "        ...,\n",
       "        [ 0.7341011 ,  0.23305506,  0.74167067, ...,  0.7159471 ,\n",
       "         -0.04882691,  0.5448587 ],\n",
       "        [ 0.19648431, -0.084099  ,  0.9867833 , ...,  0.48246232,\n",
       "          0.93359005,  0.10577074],\n",
       "        [ 0.19642559,  0.65987927,  0.44512796, ...,  0.6031361 ,\n",
       "          0.7202367 ,  1.0050703 ]],\n",
       "\n",
       "       ...,\n",
       "\n",
       "       [[ 0.13760154,  0.53542227,  0.09453255, ..., -0.00783848,\n",
       "         -0.01287374,  0.15717745],\n",
       "        [ 0.13760154,  0.53542227,  0.09453255, ..., -0.00783848,\n",
       "         -0.01287374,  0.15717745],\n",
       "        [ 0.13760154,  0.53542227,  0.09453255, ..., -0.00783848,\n",
       "         -0.01287374,  0.15717745],\n",
       "        ...,\n",
       "        [ 0.35490268,  0.801384  ,  0.97255975, ...,  0.98337275,\n",
       "          0.1355082 ,  0.6569551 ],\n",
       "        [ 0.48689714,  0.70849895,  0.2035015 , ...,  0.66828626,\n",
       "          0.4494923 ,  0.09168839],\n",
       "        [ 0.12445676,  0.25783813, -0.05851141, ...,  0.9468679 ,\n",
       "          0.39481643,  1.0049675 ]],\n",
       "\n",
       "       [[ 0.13760154,  0.53542227,  0.09453255, ..., -0.00783848,\n",
       "         -0.01287374,  0.15717745],\n",
       "        [ 0.13760154,  0.53542227,  0.09453255, ..., -0.00783848,\n",
       "         -0.01287374,  0.15717745],\n",
       "        [ 0.13760154,  0.53542227,  0.09453255, ..., -0.00783848,\n",
       "         -0.01287374,  0.15717745],\n",
       "        ...,\n",
       "        [ 0.2383808 ,  0.25616392,  0.8350603 , ...,  0.01076647,\n",
       "          0.55136085,  0.17864607],\n",
       "        [ 0.6897599 ,  0.71077526,  0.7032461 , ...,  0.490204  ,\n",
       "          0.15996115,  0.86552775],\n",
       "        [ 0.9323686 ,  0.250039  ,  0.01576613, ...,  0.2473589 ,\n",
       "          0.99264807,  0.6165941 ]],\n",
       "\n",
       "       [[ 0.13760154,  0.53542227,  0.09453255, ..., -0.00783848,\n",
       "         -0.01287374,  0.15717745],\n",
       "        [ 0.13760154,  0.53542227,  0.09453255, ..., -0.00783848,\n",
       "         -0.01287374,  0.15717745],\n",
       "        [ 0.13760154,  0.53542227,  0.09453255, ..., -0.00783848,\n",
       "         -0.01287374,  0.15717745],\n",
       "        ...,\n",
       "        [ 0.18474327,  0.43725064,  0.7644776 , ...,  0.46628046,\n",
       "          0.08924553,  0.73224306],\n",
       "        [ 0.1860744 ,  0.23437491,  0.50257915, ...,  0.6350782 ,\n",
       "          0.7917506 ,  0.44903317],\n",
       "        [ 0.3444665 ,  0.26741007,  0.46773717, ...,  0.7640131 ,\n",
       "          0.45260477,  0.6817316 ]]], dtype=float32)>"
      ]
     },
     "execution_count": 36,
     "metadata": {},
     "output_type": "execute_result"
    }
   ],
   "source": [
    "model.layers[0](X_train)"
   ]
  },
  {
   "cell_type": "markdown",
   "id": "understanding-chase",
   "metadata": {},
   "source": [
    "1. 다양한 방법으로 Text Classification 태스크를 성공적으로 구현하였다.\n",
    " - 3가지 이상의 모델이 성공적으로 시도됨\n",
    "2. gensim을 활용하여 자체학습된 혹은 사전학습된 임베딩 레이어를 분석하였다.\n",
    "\n",
    " - gensim의 유사단어 찾기를 활용하여 자체학습한 임베딩과 사전학습 임베딩을 적절히 분석함\n",
    "3. 한국어 Word2Vec을 활용하여 가시적인 성능향상을 달성했다.\n",
    " - 네이버 영화리뷰 데이터 감성분석 정확도를 85% 이상 달성함"
   ]
  },
  {
   "cell_type": "markdown",
   "id": "norman-development",
   "metadata": {},
   "source": [
    "# 회고\n",
    "- 네이버 영화리뷰를 통해 자연어 처리를 시행하였다.\n",
    "- 한국어 자연어 처리를 한 첫 경험이어서 koNLPy에 대한 이해를 돕는데 오랜 시간이 걸렸다.\n",
    "- 데이터 로더에서 오류처리를 위해 다양한 작업을 하였다.\n",
    "  - 오류를 내는 문장들을 제외하였고, X_train과 y_train의 길이를 맞추어주는 작업을 하였다.\n",
    "- 데이터 로더에서 koNLPy의 여러가지 토크나이저를 시도하였으나, Okt, Kkma 모두 과도한 시간이 걸리고 더 많은 오류를 보였다.(위 내용에서는 제외되었다.)\n",
    "- 이후 3가지 모델을 진행하면서 LSTM모델이 가볍지만 높은 성능을 냄을 알 수 있었다.\n",
    "- 궁금한 것은 word2vec모델을 써서 더 거대한 임베딩을 만들었는데도 정확도가 떨어진 것이다.\n",
    "- 자연어 처리는 이미지와 다르게 보여주는 값이 없어 진행하는 분석의 목표가 무엇인지 명확하지 않은 어려움이 있었다.\n",
    "- 더 많은 시간이 주어진다면, 분석과정을 명확히 이해하는데 시간을 더 투자해야겠다고 생각하였다."
   ]
  }
 ],
 "metadata": {
  "kernelspec": {
   "display_name": "Python 3",
   "language": "python",
   "name": "python3"
  },
  "language_info": {
   "codemirror_mode": {
    "name": "ipython",
    "version": 3
   },
   "file_extension": ".py",
   "mimetype": "text/x-python",
   "name": "python",
   "nbconvert_exporter": "python",
   "pygments_lexer": "ipython3",
   "version": "3.7.9"
  }
 },
 "nbformat": 4,
 "nbformat_minor": 5
}
