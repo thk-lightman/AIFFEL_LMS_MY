{
 "cells": [
  {
   "cell_type": "code",
   "execution_count": 7,
   "id": "banner-progress",
   "metadata": {},
   "outputs": [],
   "source": [
    "import tensorflow as tf"
   ]
  },
  {
   "cell_type": "markdown",
   "id": "talented-receptor",
   "metadata": {},
   "source": [
    "# 데이터 불러오기"
   ]
  },
  {
   "cell_type": "code",
   "execution_count": 112,
   "id": "square-attention",
   "metadata": {},
   "outputs": [
    {
     "name": "stdout",
     "output_type": "stream",
     "text": [
      "데이터 크기: 187088\n"
     ]
    }
   ],
   "source": [
    "import glob\n",
    "import os\n",
    "\n",
    "# txt_file_path = os.getenv('HOME')+'./aiffel/lyricist/data/lyrics/*'\n",
    "txt_file_path = './data/lyrics/*'\n",
    "txt_list = glob.glob(txt_file_path)\n",
    "\n",
    "raw_corpus = []\n",
    "\n",
    "# 여러개의 txt 파일을 모두 읽어서 raw_corpus 에 담습니다.\n",
    "for txt_file in txt_list:\n",
    "    with open(txt_file, \"r\") as f:\n",
    "        raw = f.read().splitlines()\n",
    "        raw_corpus.extend(raw)\n",
    "\n",
    "print(\"데이터 크기:\", len(raw_corpus))\n",
    "# print(\"Examples:\\n\", raw_corpus[:100])"
   ]
  },
  {
   "cell_type": "code",
   "execution_count": 73,
   "id": "laughing-device",
   "metadata": {},
   "outputs": [],
   "source": [
    "# raw_corpus[:1000]"
   ]
  },
  {
   "cell_type": "markdown",
   "id": "quiet-timing",
   "metadata": {},
   "source": [
    "# 문장 전처리\n",
    "## 1. 입력된 문장을 정규표현식을 이용해 정제함\n",
    "  1. 소문자로 바꾸고, 양쪽 공백을 지움\n",
    "  2. [] 안에 있는 단어는 코러스 등 지시문이므로 삭제\n",
    "    - ()안에 있는 단어는 가사이므로 보존\n",
    "  2. 특수문자?.! 양쪽에 공백\n",
    "  3. '는 's소유 't부정의 의미가 있으므로 제외하지 않음\n",
    "    - gon' 등 축약형의 '는 여전히 그 자리에 있음\n",
    "    - [Trouble] 기존에 '를 동일하게 취급해서 처리했더니 '다음 아무것도 없는 경우 발생\n",
    "      - 이 경우 의미가 있는 's와 't만 처리하여 예외 처리함\n",
    "  4. 여러개의 공백은 하나의 공백으로 바꿉니다\n",
    "  5. a-zA-Z?.!,'가 아닌 모든 문자를 하나의 공백으로 바꿉니다\n",
    "  6. 다시 양쪽 공백을 지웁니다\n",
    "  7. 문장 시작에는 \\<start>, 끝에는 \\<end>를 추가합니다\n",
    "  \n",
    "  - [Trouble] 정규표현식 사용법 : 해결하지 못함\n",
    "    - 중복된 단어는 하나로 합치고 싶다!\n",
    "    - 1글자로 이루어진 단어(d, k, l 등)는 제외하고 싶다!\n",
    "\n",
    "\n",
    "<!--   8. 중복된 단어는 하나로 합쳐버리고 싶어 -->\n"
   ]
  },
  {
   "cell_type": "code",
   "execution_count": 113,
   "id": "personalized-geometry",
   "metadata": {},
   "outputs": [
    {
     "name": "stdout",
     "output_type": "stream",
     "text": [
      "<start> he 's a sample sentence . <end>\n"
     ]
    }
   ],
   "source": [
    "def preprocess_sentence(sentence):\n",
    "    import re\n",
    "    sentence = sentence.lower().strip() #1\n",
    "    sentence = re.sub(r\"(\\[.*\\])\", '', sentence) #2\n",
    "    sentence = re.sub(r\"([?.!])\", r\" \\1 \", sentence) # 3\n",
    "    sentence = re.sub(r\"('[s|t])\", r\" \\1\", sentence) # 4\n",
    "    sentence = re.sub(r'[\" \"]+', \" \", sentence) # 5\n",
    "    sentence = re.sub(r\"[^a-zA-Z?.!']+\", \" \", sentence) # 6\n",
    "    sentence = re.sub(r'[\" \"]+', \" \", sentence) #5\n",
    "    sentence = sentence.strip() # 7\n",
    "    sentence = '<start> ' + sentence + ' <end>' # 6\n",
    "    return sentence\n",
    "\n",
    "# 이 문장이 어떻게 필터링되는지 확인해 보세요.\n",
    "print(preprocess_sentence(\"he's a ;;;sample        sentence.\"))"
   ]
  },
  {
   "cell_type": "markdown",
   "id": "grave-blade",
   "metadata": {},
   "source": [
    "## 2. preprocess_sentence로 정제한 문장을 모음\n",
    "  - 이때, 아무것도 들어 있지 않은 문장은 제외\n",
    "  - 정제 후 토큰의 개수 4개 이상 15개 이하(단어의 개수 2개 이상 13개 이하) 인 것만 남김\n",
    "    - 단어의 개수가 1개인 경우 문장 형성에 불필요한 정보가 될 것으로 추정\n",
    "    - \\<start\\> hello \\<end\\> ⇒ **input**: hello **output**: \\<end\\>\n",
    "  - ~~정제 후 중복된 문장은 제외~~\n",
    "    - 중복된 문장을 제외할 경우 문장의 갯수가 줄어들어 train이 제대로 이루어지지 않음"
   ]
  },
  {
   "cell_type": "code",
   "execution_count": 114,
   "id": "higher-salmon",
   "metadata": {},
   "outputs": [],
   "source": [
    "corpus = []\n",
    "for idx, sentence in enumerate(raw_corpus):\n",
    "    # 아무것도 들어 있지 않은 문장 제외\n",
    "    if len(sentence) == 0 : continue\n",
    "    \n",
    "    preprocessed_sentence = preprocess_sentence(sentence)\n",
    "    # 정제후 단어의 개수가 13개를 넘는 문장 제외\n",
    "    if not ( preprocessed_sentence.count(' ')+1 <= 15) : continue\n",
    "    # 정제후 단어의 개수가 1개인 문장 제외\n",
    "    if preprocessed_sentence.count(' ')+1 <= 4 : continue\n",
    "    # 정제하고 나니 corpus에 이미 등록되어 있는 경우는 건너뜀\n",
    "    # if preprocessed_sentence in corpus : continue\n",
    "    corpus.append(preprocessed_sentence)"
   ]
  },
  {
   "cell_type": "markdown",
   "id": "characteristic-burlington",
   "metadata": {},
   "source": [
    "## 3. 텐서플로우 활용을 위한 토큰화\n",
    " - tensorflow.Tokenizer, tensorflow.pad_sequences를 이용\n",
    " - 단어의 개수 12000"
   ]
  },
  {
   "cell_type": "code",
   "execution_count": 115,
   "id": "brazilian-means",
   "metadata": {},
   "outputs": [],
   "source": [
    "def tokenize(corpus):\n",
    "    tokenizer = tf.keras.preprocessing.text.Tokenizer(\n",
    "        num_words=12000, \n",
    "        filters=' ',\n",
    "        oov_token=\"<unk>\"\n",
    "    )\n",
    "    # corpus로 tokenizer 내부의 단어장을 완성\n",
    "    tokenizer.fit_on_texts(corpus)\n",
    "    # 준비한 tokenizer를 이용해 corpus를 Tensor로 변환\n",
    "    tensor = tokenizer.texts_to_sequences(corpus)   \n",
    "    # 입력 데이터의 시퀀스 길이를 일정하게함\n",
    "    tensor = tf.keras.preprocessing.sequence.pad_sequences(tensor, padding='post', maxlen = 15)  \n",
    "    print(tensor,tokenizer)\n",
    "    return tensor, tokenizer"
   ]
  },
  {
   "cell_type": "code",
   "execution_count": 116,
   "id": "funded-reliance",
   "metadata": {},
   "outputs": [
    {
     "name": "stdout",
     "output_type": "stream",
     "text": [
      "[[  2   5 185 ...   0   0   0]\n",
      " [  2   9 584 ...   0   0   0]\n",
      " [  2  51  37 ...   0   0   0]\n",
      " ...\n",
      " [  2   5  88 ...   0   0   0]\n",
      " [  2   8 154 ...   0   0   0]\n",
      " [  2 175  15 ...   0   0   0]] <keras_preprocessing.text.Tokenizer object at 0x7fc9c22d4a90>\n"
     ]
    },
    {
     "data": {
      "text/plain": [
       "(153524, 15)"
      ]
     },
     "execution_count": 116,
     "metadata": {},
     "output_type": "execute_result"
    }
   ],
   "source": [
    "tensor, tokenizer = tokenize(corpus)\n",
    "\n",
    "tensor.shape"
   ]
  },
  {
   "cell_type": "code",
   "execution_count": 46,
   "id": "direct-vitamin",
   "metadata": {},
   "outputs": [],
   "source": [
    "# for idx in tokenizer.index_word:\n",
    "#     print(idx, \":\", tokenizer.index_word[idx])\n",
    "#     if idx >= 10: break\n",
    "        \n",
    "# print(tokenizer.num_words)"
   ]
  },
  {
   "cell_type": "markdown",
   "id": "superior-particular",
   "metadata": {},
   "source": [
    "# 4. 텐서플로우 활용을 위한: data 분리 "
   ]
  },
  {
   "cell_type": "code",
   "execution_count": 117,
   "id": "comfortable-greece",
   "metadata": {
    "scrolled": true
   },
   "outputs": [
    {
     "name": "stdout",
     "output_type": "stream",
     "text": [
      "Source Train: (122819, 14)\n",
      "Target Train: (122819, 14)\n"
     ]
    }
   ],
   "source": [
    "from sklearn.model_selection import train_test_split\n",
    "\n",
    "src_input = tensor[:, :-1]\n",
    "tgt_input = tensor[:, 1:]  \n",
    "\n",
    "enc_train, enc_val, dec_train, dec_val = train_test_split(src_input, tgt_input, test_size = 0.2, random_state = 2)\n",
    "enc_val_train, enc_val_val, dec_val_train, dec_val_val = train_test_split(enc_train, dec_train, test_size = 0.125 , random_state = 2) \n",
    "print(\"Source Train:\", enc_train.shape)\n",
    "print(\"Target Train:\", dec_train.shape)"
   ]
  },
  {
   "cell_type": "markdown",
   "id": "charitable-cleaners",
   "metadata": {},
   "source": [
    " - Dataset을 제외하고 val_loss가 급격히 감소하는 것을 볼 수 있었다.\n",
    "   - [Trouble] 왜 Dataset의 제외가 성능증가를 부르는가? 이유를 모름."
   ]
  },
  {
   "cell_type": "code",
   "execution_count": null,
   "id": "quantitative-disclosure",
   "metadata": {},
   "outputs": [],
   "source": [
    "BUFFER_SIZE = len(enc_val_train) #텐서의 1차원, 전체 문장의 개수\n",
    "BATCH_SIZE = 128        #문장의 개수\n",
    "steps_per_epoch = BUFFER_SIZE // BATCH_SIZE\n",
    "\n",
    "# tokenizer가 구축한 단어사전 내 12000개 + 0:<pad>를 포함\n",
    "VOCAB_SIZE = tokenizer.num_words + 1\n",
    "\n",
    "dataset = tf.data.Dataset.from_tensor_slices((enc_train, dec_train))\n",
    "dataset = tf.data.Dataset.from_tensor_slices((enc_val_train, dec_val_train))\n",
    "dataset = dataset.shuffle(BUFFER_SIZE)\n",
    "dataset = dataset.batch(BATCH_SIZE, drop_remainder=True)\n",
    "dataset"
   ]
  },
  {
   "cell_type": "markdown",
   "id": "square-payment",
   "metadata": {},
   "source": [
    "# 모델 정의 및 학습"
   ]
  },
  {
   "cell_type": "markdown",
   "id": "endangered-windsor",
   "metadata": {},
   "source": [
    "## 1. 모델 구조 정의"
   ]
  },
  {
   "cell_type": "code",
   "execution_count": 119,
   "id": "broad-murder",
   "metadata": {},
   "outputs": [],
   "source": [
    "class TextGenerator(tf.keras.Model):\n",
    "    def __init__(self, vocab_size, embedding_size, hidden_size):\n",
    "        super().__init__()\n",
    "        \n",
    "        self.embedding = tf.keras.layers.Embedding(vocab_size, embedding_size)\n",
    "        self.rnn_1 = tf.keras.layers.LSTM(hidden_size, return_sequences=True)\n",
    "        self.rnn_2 = tf.keras.layers.LSTM(hidden_size, return_sequences=True)\n",
    "        self.linear = tf.keras.layers.Dense(vocab_size)\n",
    "        \n",
    "    def call(self, x):\n",
    "        out = self.embedding(x)\n",
    "        out = self.rnn_1(out)\n",
    "        out = self.rnn_2(out)\n",
    "#         out = self.lstm(out)\n",
    "#         out = self.lstm2(out)\n",
    "        out = self.linear(out)\n",
    "        \n",
    "        return out\n",
    " "
   ]
  },
  {
   "cell_type": "markdown",
   "id": "talented-partition",
   "metadata": {},
   "source": [
    "- 하이퍼 파라미터 지정과 모델 생성\n",
    "  - embedding_size를 256으로 올려 고려하는 feature의 수를 늘림\n",
    "  - hidden_size를 2048로 올려 각 레이어의 노드 수를 늘림"
   ]
  },
  {
   "cell_type": "markdown",
   "id": "technological-operations",
   "metadata": {},
   "source": [
    "## 2. 모델 생성"
   ]
  },
  {
   "cell_type": "code",
   "execution_count": 120,
   "id": "private-italy",
   "metadata": {},
   "outputs": [],
   "source": [
    "embedding_size = 256 #단어 하나의 특징 수\n",
    "hidden_size = 2048 #퍼셉트론의 개수\n",
    "model = TextGenerator(tokenizer.num_words + 1, embedding_size , hidden_size)"
   ]
  },
  {
   "cell_type": "markdown",
   "id": "respiratory-township",
   "metadata": {},
   "source": [
    "- 생성된 모델 살펴보기: model_summary\n",
    "  - 하나의 배치만 이용하면 임시 모델을 생성해볼 수 있다"
   ]
  },
  {
   "cell_type": "code",
   "execution_count": 121,
   "id": "adverse-referral",
   "metadata": {},
   "outputs": [],
   "source": [
    "for src_sample, tgt_sample in dataset.take(1): break"
   ]
  },
  {
   "cell_type": "code",
   "execution_count": 122,
   "id": "adequate-colors",
   "metadata": {
    "scrolled": true
   },
   "outputs": [
    {
     "data": {
      "text/plain": [
       "<tf.Tensor: shape=(128, 14, 12001), dtype=float32, numpy=\n",
       "array([[[ 8.34989769e-05,  2.43568022e-04,  1.79514129e-04, ...,\n",
       "         -1.91331055e-04, -7.05592247e-05,  9.13384138e-05],\n",
       "        [ 1.17490621e-04,  2.14526808e-04,  5.07955847e-04, ...,\n",
       "         -3.37894016e-04, -4.24497921e-05,  1.95993198e-04],\n",
       "        [ 3.12292075e-04, -9.21216488e-05,  6.10091141e-04, ...,\n",
       "         -3.50844668e-04,  4.59564835e-05,  2.17885696e-04],\n",
       "        ...,\n",
       "        [ 5.13698673e-04, -1.33104774e-03,  8.53621576e-04, ...,\n",
       "         -5.36694824e-05,  8.95319972e-05,  7.88317586e-04],\n",
       "        [ 4.92971798e-04, -9.85668856e-04,  8.03068222e-04, ...,\n",
       "          2.02981479e-04,  1.77596503e-05,  7.09065178e-04],\n",
       "        [ 4.06886858e-04, -8.43359740e-04,  9.38313548e-04, ...,\n",
       "          1.28064989e-04, -1.85744721e-05,  8.42629233e-04]],\n",
       "\n",
       "       [[ 8.34989769e-05,  2.43568022e-04,  1.79514129e-04, ...,\n",
       "         -1.91331055e-04, -7.05592247e-05,  9.13384138e-05],\n",
       "        [ 1.91379557e-04,  4.46302351e-04,  5.09153353e-04, ...,\n",
       "         -4.70887171e-04,  1.21221470e-04,  7.05313141e-05],\n",
       "        [ 9.50956673e-05,  7.56126712e-04,  8.36568302e-04, ...,\n",
       "         -3.42614425e-04,  2.56852538e-04, -1.40902717e-04],\n",
       "        ...,\n",
       "        [-2.68856063e-04,  7.53974018e-04,  1.19888422e-03, ...,\n",
       "          6.30013761e-04, -2.65038107e-03,  4.37456503e-04],\n",
       "        [-3.85420368e-04,  7.87099299e-04,  1.23157620e-03, ...,\n",
       "          8.63783993e-04, -3.00985784e-03,  4.37499082e-04],\n",
       "        [-4.78292000e-04,  8.06616619e-04,  1.26238156e-03, ...,\n",
       "          1.06432184e-03, -3.32552544e-03,  4.13251109e-04]],\n",
       "\n",
       "       [[ 8.34989769e-05,  2.43568022e-04,  1.79514129e-04, ...,\n",
       "         -1.91331055e-04, -7.05592247e-05,  9.13384138e-05],\n",
       "        [ 2.75243132e-04,  2.83311994e-04,  5.60089829e-04, ...,\n",
       "         -4.82717849e-04, -5.06897741e-05,  2.86355178e-04],\n",
       "        [ 4.62445518e-04,  3.02538538e-04,  6.77967153e-04, ...,\n",
       "         -3.02296161e-04, -1.43427984e-04,  2.89924996e-04],\n",
       "        ...,\n",
       "        [ 9.75102535e-04,  3.51132767e-04,  2.10686150e-04, ...,\n",
       "          1.20285247e-03, -1.44844626e-05,  1.21473870e-03],\n",
       "        [ 9.57505545e-04,  8.34506864e-05,  4.29509710e-05, ...,\n",
       "          1.43152778e-03,  1.83530807e-04,  1.14680757e-03],\n",
       "        [ 1.20521011e-03, -9.18365549e-05,  1.71612293e-04, ...,\n",
       "          1.26682443e-03,  3.37561069e-04,  1.21480669e-03]],\n",
       "\n",
       "       ...,\n",
       "\n",
       "       [[ 8.34989769e-05,  2.43568022e-04,  1.79514129e-04, ...,\n",
       "         -1.91331055e-04, -7.05592247e-05,  9.13384138e-05],\n",
       "        [-7.41412950e-05,  3.08897608e-04,  2.25470321e-05, ...,\n",
       "         -3.51664232e-04, -1.76729765e-04,  8.47902920e-05],\n",
       "        [-1.02804894e-04,  5.47476695e-04,  7.38489980e-05, ...,\n",
       "         -4.07874846e-04, -3.04427958e-04,  2.34409294e-04],\n",
       "        ...,\n",
       "        [-7.22595607e-04,  6.90298621e-04,  1.38622883e-03, ...,\n",
       "         -1.06377713e-03,  6.01412845e-04, -6.79664954e-04],\n",
       "        [-7.06742168e-04,  3.43609776e-04,  1.69950270e-03, ...,\n",
       "         -1.10876851e-03,  5.92053926e-04, -5.09794801e-04],\n",
       "        [-7.08548818e-04,  1.05094739e-04,  1.80941878e-03, ...,\n",
       "         -1.04961672e-03,  3.02161032e-04, -3.15331854e-04]],\n",
       "\n",
       "       [[ 8.34989769e-05,  2.43568022e-04,  1.79514129e-04, ...,\n",
       "         -1.91331055e-04, -7.05592247e-05,  9.13384138e-05],\n",
       "        [ 2.28845805e-04,  2.18588917e-04,  2.40395180e-04, ...,\n",
       "         -4.01198282e-04,  1.30026267e-04,  1.34236170e-05],\n",
       "        [ 3.02464410e-04,  2.16819433e-04,  3.73864081e-04, ...,\n",
       "         -4.42028919e-04,  1.64180543e-04, -2.15631444e-04],\n",
       "        ...,\n",
       "        [-1.65843987e-04,  3.26869194e-04,  1.15489936e-03, ...,\n",
       "          9.26371431e-04, -2.41845334e-03,  5.15771622e-04],\n",
       "        [-2.81440181e-04,  4.44964011e-04,  1.19120325e-03, ...,\n",
       "          1.12286746e-03, -2.82053975e-03,  5.31967322e-04],\n",
       "        [-3.74028139e-04,  5.40391717e-04,  1.22614764e-03, ...,\n",
       "          1.29401626e-03, -3.17609799e-03,  5.18061570e-04]],\n",
       "\n",
       "       [[ 8.34989769e-05,  2.43568022e-04,  1.79514129e-04, ...,\n",
       "         -1.91331055e-04, -7.05592247e-05,  9.13384138e-05],\n",
       "        [ 7.62166819e-05,  2.28764853e-04,  3.76399432e-04, ...,\n",
       "         -2.04237673e-04, -1.99898113e-05,  4.22298966e-04],\n",
       "        [ 2.01659022e-05,  9.65714135e-05,  5.61151246e-04, ...,\n",
       "         -9.82157362e-05,  1.10072637e-04,  9.06194502e-04],\n",
       "        ...,\n",
       "        [-8.29275057e-04, -2.59862900e-05,  1.42179534e-03, ...,\n",
       "          1.09499146e-03, -1.81522791e-03,  1.78397156e-03],\n",
       "        [-9.00062150e-04,  9.15976561e-05,  1.44670450e-03, ...,\n",
       "          1.26412860e-03, -2.26432388e-03,  1.54779805e-03],\n",
       "        [-9.44805739e-04,  1.93488493e-04,  1.46889966e-03, ...,\n",
       "          1.41421636e-03, -2.67206971e-03,  1.32110692e-03]]],\n",
       "      dtype=float32)>"
      ]
     },
     "execution_count": 122,
     "metadata": {},
     "output_type": "execute_result"
    }
   ],
   "source": [
    "model(src_sample)"
   ]
  },
  {
   "cell_type": "code",
   "execution_count": 123,
   "id": "organic-watch",
   "metadata": {},
   "outputs": [
    {
     "name": "stdout",
     "output_type": "stream",
     "text": [
      "Model: \"text_generator_6\"\n",
      "_________________________________________________________________\n",
      "Layer (type)                 Output Shape              Param #   \n",
      "=================================================================\n",
      "embedding_6 (Embedding)      multiple                  3072256   \n",
      "_________________________________________________________________\n",
      "lstm_12 (LSTM)               multiple                  18882560  \n",
      "_________________________________________________________________\n",
      "lstm_13 (LSTM)               multiple                  33562624  \n",
      "_________________________________________________________________\n",
      "dense_6 (Dense)              multiple                  24590049  \n",
      "=================================================================\n",
      "Total params: 80,107,489\n",
      "Trainable params: 80,107,489\n",
      "Non-trainable params: 0\n",
      "_________________________________________________________________\n"
     ]
    }
   ],
   "source": [
    "model.summary()"
   ]
  },
  {
   "cell_type": "markdown",
   "id": "everyday-assignment",
   "metadata": {},
   "source": [
    "- optimizer와 loss function 지정\n",
    "  - optimizer: SGD를 사용해보았으나 Adam이 더 성능이 좋음"
   ]
  },
  {
   "cell_type": "code",
   "execution_count": 124,
   "id": "alleged-philippines",
   "metadata": {},
   "outputs": [],
   "source": [
    "optimizer = tf.keras.optimizers.Adam()\n",
    "# optimizer = tf.keras.optimizers.SGD()\n",
    "loss = tf.keras.losses.SparseCategoricalCrossentropy(\n",
    "    from_logits=True, reduction='none')"
   ]
  },
  {
   "cell_type": "code",
   "execution_count": 125,
   "id": "desperate-number",
   "metadata": {},
   "outputs": [],
   "source": [
    "model.compile(loss=loss, optimizer=optimizer)"
   ]
  },
  {
   "cell_type": "markdown",
   "id": "unknown-perfume",
   "metadata": {},
   "source": [
    "- checkpoint 설정: ModelCheckpoint"
   ]
  },
  {
   "cell_type": "code",
   "execution_count": 126,
   "id": "fallen-demonstration",
   "metadata": {},
   "outputs": [],
   "source": [
    "# Directory where the checkpoints will be saved\n",
    "checkpoint_dir = './training_checkpoints'\n",
    "# Name of the checkpoint files\n",
    "checkpoint_prefix = os.path.join(checkpoint_dir, \"ckpt_{epoch}\")\n",
    "\n",
    "checkpoint_callback = tf.keras.callbacks.ModelCheckpoint(\n",
    "    filepath=checkpoint_prefix,\n",
    "    save_weights_only=True)"
   ]
  },
  {
   "cell_type": "markdown",
   "id": "amazing-uniform",
   "metadata": {},
   "source": [
    "## 3. 모델 학습: fit"
   ]
  },
  {
   "cell_type": "code",
   "execution_count": 89,
   "id": "spatial-yugoslavia",
   "metadata": {
    "scrolled": false
   },
   "outputs": [
    {
     "name": "stdout",
     "output_type": "stream",
     "text": [
      "Epoch 1/10\n",
      "951/951 [==============================] - 472s 493ms/step - loss: 3.7320 - val_loss: 2.9184\n",
      "Epoch 2/10\n",
      "951/951 [==============================] - 472s 496ms/step - loss: 2.8824 - val_loss: 2.5730\n",
      "Epoch 3/10\n",
      "951/951 [==============================] - 473s 497ms/step - loss: 2.5669 - val_loss: 2.2502\n",
      "Epoch 4/10\n",
      "951/951 [==============================] - 473s 497ms/step - loss: 2.2492 - val_loss: 1.9525\n",
      "Epoch 5/10\n",
      "951/951 [==============================] - 472s 496ms/step - loss: 1.9617 - val_loss: 1.6775\n",
      "Epoch 6/10\n",
      "951/951 [==============================] - 471s 495ms/step - loss: 1.6926 - val_loss: 1.4511\n",
      "Epoch 7/10\n",
      "951/951 [==============================] - 472s 496ms/step - loss: 1.4704 - val_loss: 1.2701\n",
      "Epoch 8/10\n",
      "951/951 [==============================] - 472s 496ms/step - loss: 1.2867 - val_loss: 1.1328\n",
      "Epoch 9/10\n",
      "951/951 [==============================] - 471s 495ms/step - loss: 1.1560 - val_loss: 1.0423\n",
      "Epoch 10/10\n",
      "951/951 [==============================] - 472s 496ms/step - loss: 1.0689 - val_loss: 0.9876\n"
     ]
    },
    {
     "data": {
      "text/plain": [
       "<tensorflow.python.keras.callbacks.History at 0x7fc916b82490>"
      ]
     },
     "execution_count": 89,
     "metadata": {},
     "output_type": "execute_result"
    }
   ],
   "source": [
    "# model.fit(x = enc_train, y = dec_train, epochs=10, batch_size=128, validation_data = (enc_val_val, dec_val_val)\n",
    "#          , callbacks =[checkpoint_callback])\n",
    "\n",
    "model.fit(x = enc_train, y = dec_train, epochs=10, batch_size=128, validation_data = (enc_val_val, dec_val_val)\n",
    "         , callbacks =[checkpoint_callback])"
   ]
  },
  {
   "cell_type": "markdown",
   "id": "adverse-destination",
   "metadata": {},
   "source": [
    "## 4. loss 시각화"
   ]
  },
  {
   "cell_type": "markdown",
   "id": "negative-seven",
   "metadata": {},
   "source": [
    "- fit결과 객체를 저장하지 않아 다시 학습을 수행했다!"
   ]
  },
  {
   "cell_type": "code",
   "execution_count": 127,
   "id": "solar-virus",
   "metadata": {},
   "outputs": [
    {
     "name": "stdout",
     "output_type": "stream",
     "text": [
      "Epoch 1/10\n",
      "960/960 [==============================] - 476s 494ms/step - loss: 3.6645 - val_loss: 2.8184\n",
      "Epoch 2/10\n",
      "960/960 [==============================] - 478s 498ms/step - loss: 2.7480 - val_loss: 2.3379\n",
      "Epoch 3/10\n",
      "960/960 [==============================] - 479s 499ms/step - loss: 2.2945 - val_loss: 1.9051\n",
      "Epoch 4/10\n",
      "960/960 [==============================] - 478s 498ms/step - loss: 1.9001 - val_loss: 1.5718\n",
      "Epoch 5/10\n",
      "960/960 [==============================] - 478s 498ms/step - loss: 1.5737 - val_loss: 1.3304\n",
      "Epoch 6/10\n",
      "960/960 [==============================] - 478s 498ms/step - loss: 1.3410 - val_loss: 1.1624\n",
      "Epoch 7/10\n",
      "960/960 [==============================] - 478s 498ms/step - loss: 1.1818 - val_loss: 1.0617\n",
      "Epoch 8/10\n",
      "960/960 [==============================] - 478s 498ms/step - loss: 1.0862 - val_loss: 1.0072\n",
      "Epoch 9/10\n",
      "960/960 [==============================] - 477s 497ms/step - loss: 1.0361 - val_loss: 0.9791\n",
      "Epoch 10/10\n",
      "960/960 [==============================] - 478s 498ms/step - loss: 1.0068 - val_loss: 0.9594\n"
     ]
    }
   ],
   "source": [
    "history = model.fit(x = enc_train, y = dec_train, epochs=10, batch_size=128, validation_data = (enc_val_val, dec_val_val)\n",
    "         , callbacks =[checkpoint_callback])"
   ]
  },
  {
   "cell_type": "markdown",
   "id": "electric-tournament",
   "metadata": {},
   "source": [
    "- 그래프\n",
    "  - validation loss가 미분계수가 0이되는 Optimal한 지점을 넘어서지 않았음을 알 수 있다"
   ]
  },
  {
   "cell_type": "code",
   "execution_count": 129,
   "id": "pressing-magnitude",
   "metadata": {},
   "outputs": [
    {
     "data": {
      "image/png": "[encoded data removed]",
      "text/plain": [
       "<Figure size 576x360 with 1 Axes>"
      ]
     },
     "metadata": {
      "needs_background": "light"
     },
     "output_type": "display_data"
    }
   ],
   "source": [
    "import matplotlib.pyplot as plt\n",
    "\n",
    "plt.figure(figsize=(8, 5))\n",
    "\n",
    "plt.plot(history.history['loss'], marker='.', c='red', label='Train-set Loss')\n",
    "plt.plot(history.history['val_loss'], marker='.', c='blue', label='Validation-set Loss')\n",
    "plt.xlabel('Epoch')\n",
    "plt.legend()\n",
    "plt.show()"
   ]
  },
  {
   "cell_type": "markdown",
   "id": "local-sheet",
   "metadata": {},
   "source": [
    "# 문장생성"
   ]
  },
  {
   "cell_type": "code",
   "execution_count": 90,
   "id": "verbal-associate",
   "metadata": {},
   "outputs": [],
   "source": [
    "def generate_text(model, tokenizer, init_sentence=\"<start>\", max_len=15):\n",
    "    # 테스트를 위해서 입력받은 init_sentence도 텐서로 변환합니다\n",
    "    test_input = tokenizer.texts_to_sequences([init_sentence])\n",
    "    test_tensor = tf.convert_to_tensor(test_input, dtype=tf.int64)\n",
    "    end_token = tokenizer.word_index[\"<end>\"]\n",
    "\n",
    "    # 단어 하나씩 예측해 문장을 만듭니다\n",
    "    #    1. 입력받은 문장의 텐서를 입력합니다\n",
    "    #    2. 예측된 값 중 가장 높은 확률인 word index를 뽑아냅니다\n",
    "    #    3. 2에서 예측된 word index를 문장 뒤에 붙입니다\n",
    "    #    4. 모델이 <end>를 예측했거나, max_len에 도달했다면 문장 생성을 마칩니다\n",
    "    while True:\n",
    "        # 1\n",
    "        predict = model(test_tensor) \n",
    "        # 2\n",
    "        predict_word = tf.argmax(tf.nn.softmax(predict, axis=-1), axis=-1)[:, -1] \n",
    "        # 3 \n",
    "        test_tensor = tf.concat([test_tensor, tf.expand_dims(predict_word, axis=0)], axis=-1)\n",
    "        # 4\n",
    "        if predict_word.numpy()[0] == end_token: break\n",
    "        if test_tensor.shape[1] >= max_len: break\n",
    "\n",
    "    generated = \"\"\n",
    "    # tokenizer를 이용해 word index를 단어로 하나씩 변환합니다 \n",
    "    for word_index in test_tensor[0].numpy():\n",
    "        generated += tokenizer.index_word[word_index] + \" \"\n",
    "\n",
    "    return generated"
   ]
  },
  {
   "cell_type": "code",
   "execution_count": 148,
   "id": "interracial-breast",
   "metadata": {
    "scrolled": false
   },
   "outputs": [
    {
     "name": "stdout",
     "output_type": "stream",
     "text": [
      "<start> love is a losing hand <end> \n",
      "<start> my love is like a gunshot <end> \n",
      "<start> i know that love'll lead us <end> \n",
      "<start> you know i know that you know i know <end> \n",
      "<start> she 's got me runnin' round and round <end> \n",
      "<start> he 's constantly <unk> <unk> the british henchmen <end> \n",
      "<start> hello hello hello with the lights out it 's less dangerous <end> \n",
      "<start> happy birthday happy birthday happy birthday woo shake ! <end> \n",
      "<start> you must be out of your mind <end> \n"
     ]
    }
   ],
   "source": [
    "keywords = ['love', 'my love', 'I', 'you', 'she', 'he', 'hello', 'happy', 'you must']\n",
    "for start in keywords:\n",
    "    print(generate_text(model, tokenizer, init_sentence= ' '.join([\"<start>\", start])))"
   ]
  },
  {
   "cell_type": "markdown",
   "id": "indian-pastor",
   "metadata": {},
   "source": [
    "# 회고\n",
    "- 노드 진행 당시 기준 심층학습에 대한 심도 있는 이해가 없어 하이퍼 파라미터와 구조를 수정하는데 막연함에 따른 어려움을 겪었다. 한치 앞도 모르면서 하이퍼 파라미터만 바꾸는데에 주말 대부분을 할애하였으나 뚜렷한 증가를 겪지 못해 좌절감을 느꼈다. 다만, 주변의 훌륭한 분들의 도움으로 최종적으로 좋은 결과를 낼 수 있어 무척이나 감사하고 뿌듯한 일이었다.\n",
    "- 프로젝트를 진행하는 동안 심층학습에 대한 공부를 병행하여 각 데이터와 가중치가 어떤식으로 관계를 맺는지 이해할 수 있었다.\n",
    "- 또한 내부적으로 정규표현식, tensorflow API의 활용법에 대한 이해를 증진할 수 있었다.\n",
    "- 그러나 여전히 정규표현식을 통해 원하는 문자를 나타내지 못하는 경우가 많고, Dataset을 이용하지 않을 경우 성능이 더 좋아지는 이유를 알 수 없었다.\n",
    "- 결론적으로 루브릭 지표를 맞추기 위해 간략한 전처리, embedding size, hidden size, Dataset 제외 등의 조작을 하였으나 그 과정에서 중복된 단어/문장 제외, batch_size, embbedding size, hidden size를 무작위에 가깝게 조정하는 시도가 있었다.\n",
    "- 심층학습에 대한 공부는 다행히도 할 수록 단순하게 이해되는 부분이 있다. 미루지 않고 꾸준히 심층학습 공부를 병행할 것을 다짐한다."
   ]
  }
 ],
 "metadata": {
  "kernelspec": {
   "display_name": "Python 3",
   "language": "python",
   "name": "python3"
  },
  "language_info": {
   "codemirror_mode": {
    "name": "ipython",
    "version": 3
   },
   "file_extension": ".py",
   "mimetype": "text/x-python",
   "name": "python",
   "nbconvert_exporter": "python",
   "pygments_lexer": "ipython3",
   "version": "3.7.9"
  }
 },
 "nbformat": 4,
 "nbformat_minor": 5
}
