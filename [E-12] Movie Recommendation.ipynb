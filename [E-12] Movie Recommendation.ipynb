{
 "cells": [
  {
   "cell_type": "markdown",
   "id": "available-amber",
   "metadata": {},
   "source": [
    "# Movielens & Session Based Recommendation "
   ]
  },
  {
   "cell_type": "markdown",
   "id": "charged-tenant",
   "metadata": {},
   "source": [
    "## 🥇루브릭 기준 \n",
    "1. Movielens 데이터셋을 session based recommendation 관점으로 전처리하는 과정이 체계적으로 진행되었다.\n",
    "   - 데이터셋의 면밀한 분석을 토대로 세션단위 정의 과정(길이분석, 시간분석)을 합리적으로 수행한 과정이 기술되었다.\n",
    "2. RNN 기반의 예측 모델이 정상적으로 구성되어 안정적으로 훈련이 진행되었다.\n",
    "   - 적절한 epoch만큼의 학습이 진행되는 과정에서 train loss가 안정적으로 감소하고, validation 단계에서의 Recall, MRR이 개선되는 것이 확인된다.\n",
    "   - es, save 사용\n",
    "3. 세션정의, 모델구조, 하이퍼파라미터 등을 변경해서 실험하여 Recall, MRR 등의 변화추이를 관찰하였다.\n",
    "   - 기본 / 세션정의 변경 / 하이퍼파라미터 변경\n",
    "   - 3가지 이상의 변화를 시도하고 그 실험결과를 체계적으로 분석하였다."
   ]
  },
  {
   "cell_type": "markdown",
   "id": "revised-supplement",
   "metadata": {},
   "source": [
    "### [고려사항]\n",
    "- SessionID 대신 UserID\n",
    "\n",
    "- Rating >= 3\n",
    "\n",
    "- Time; UTC time / 1970년 1월 1일부터 경과된 초단위 시간"
   ]
  },
  {
   "cell_type": "markdown",
   "id": "minimal-assault",
   "metadata": {},
   "source": [
    "### data load"
   ]
  },
  {
   "cell_type": "code",
   "execution_count": 2,
   "id": "diagnostic-conversion",
   "metadata": {},
   "outputs": [],
   "source": [
    "import datetime as dt\n",
    "from pathlib import Path\n",
    "import os\n",
    "\n",
    "import numpy as np\n",
    "import pandas as pd\n",
    "import warnings\n",
    "warnings.filterwarnings('ignore')\n",
    "\n",
    "import matplotlib.pyplot as plt"
   ]
  },
  {
   "cell_type": "code",
   "execution_count": null,
   "id": "sweet-pontiac",
   "metadata": {},
   "outputs": [],
   "source": [
    "data_path = Path(os.getenv('HOME')+'/aiffel/yoochoose/data/') \n",
    "train_path = data_path / 'ratings.dat'\n",
    "\n",
    "def load_data(data_path: Path, nrows=None):\n",
    "    data = pd.read_csv(data_path, sep='::', header=None, usecols=[0, 1, 2, 3], dtype={0: np.int32, 1: np.int32, 2: np.int32}, nrows=nrows)\n",
    "    data.columns = ['UserId', 'ItemId', 'Rating', 'Time']\n",
    "    return data\n",
    "\n",
    "data = load_data(train_path, None)"
   ]
  },
  {
   "cell_type": "code",
   "execution_count": 373,
   "id": "automated-directive",
   "metadata": {},
   "outputs": [],
   "source": [
    "data2 = data.copy()\n",
    "data2.sort_values(['UserId', 'Time'], inplace=True)  # data를 id와 시간 순서로 정렬해줍니다.\n",
    "data2['Time'] = pd.to_datetime(data2['Time'], unit='s')\n",
    "data2 = data2.reset_index(drop=True)\n",
    "data2 = data2.sort_values(by = ['UserId', 'Time'])"
   ]
  },
  {
   "cell_type": "code",
   "execution_count": 136,
   "id": "rocky-statistics",
   "metadata": {},
   "outputs": [
    {
     "data": {
      "text/html": [
       "<div>\n",
       "<style scoped>\n",
       "    .dataframe tbody tr th:only-of-type {\n",
       "        vertical-align: middle;\n",
       "    }\n",
       "\n",
       "    .dataframe tbody tr th {\n",
       "        vertical-align: top;\n",
       "    }\n",
       "\n",
       "    .dataframe thead th {\n",
       "        text-align: right;\n",
       "    }\n",
       "</style>\n",
       "<table border=\"1\" class=\"dataframe\">\n",
       "  <thead>\n",
       "    <tr style=\"text-align: right;\">\n",
       "      <th></th>\n",
       "      <th>UserId</th>\n",
       "      <th>ItemId</th>\n",
       "      <th>Rating</th>\n",
       "      <th>Time</th>\n",
       "    </tr>\n",
       "  </thead>\n",
       "  <tbody>\n",
       "    <tr>\n",
       "      <th>0</th>\n",
       "      <td>1</td>\n",
       "      <td>3186</td>\n",
       "      <td>4</td>\n",
       "      <td>2000-12-31 22:00:19</td>\n",
       "    </tr>\n",
       "    <tr>\n",
       "      <th>1</th>\n",
       "      <td>1</td>\n",
       "      <td>1270</td>\n",
       "      <td>5</td>\n",
       "      <td>2000-12-31 22:00:55</td>\n",
       "    </tr>\n",
       "    <tr>\n",
       "      <th>2</th>\n",
       "      <td>1</td>\n",
       "      <td>1721</td>\n",
       "      <td>4</td>\n",
       "      <td>2000-12-31 22:00:55</td>\n",
       "    </tr>\n",
       "    <tr>\n",
       "      <th>3</th>\n",
       "      <td>1</td>\n",
       "      <td>1022</td>\n",
       "      <td>5</td>\n",
       "      <td>2000-12-31 22:00:55</td>\n",
       "    </tr>\n",
       "    <tr>\n",
       "      <th>4</th>\n",
       "      <td>1</td>\n",
       "      <td>2340</td>\n",
       "      <td>3</td>\n",
       "      <td>2000-12-31 22:01:43</td>\n",
       "    </tr>\n",
       "    <tr>\n",
       "      <th>5</th>\n",
       "      <td>1</td>\n",
       "      <td>1836</td>\n",
       "      <td>5</td>\n",
       "      <td>2000-12-31 22:02:52</td>\n",
       "    </tr>\n",
       "    <tr>\n",
       "      <th>6</th>\n",
       "      <td>1</td>\n",
       "      <td>3408</td>\n",
       "      <td>4</td>\n",
       "      <td>2000-12-31 22:04:35</td>\n",
       "    </tr>\n",
       "    <tr>\n",
       "      <th>7</th>\n",
       "      <td>1</td>\n",
       "      <td>2804</td>\n",
       "      <td>5</td>\n",
       "      <td>2000-12-31 22:11:59</td>\n",
       "    </tr>\n",
       "    <tr>\n",
       "      <th>8</th>\n",
       "      <td>1</td>\n",
       "      <td>1207</td>\n",
       "      <td>4</td>\n",
       "      <td>2000-12-31 22:11:59</td>\n",
       "    </tr>\n",
       "    <tr>\n",
       "      <th>9</th>\n",
       "      <td>1</td>\n",
       "      <td>1193</td>\n",
       "      <td>5</td>\n",
       "      <td>2000-12-31 22:12:40</td>\n",
       "    </tr>\n",
       "    <tr>\n",
       "      <th>10</th>\n",
       "      <td>1</td>\n",
       "      <td>720</td>\n",
       "      <td>3</td>\n",
       "      <td>2000-12-31 22:12:40</td>\n",
       "    </tr>\n",
       "    <tr>\n",
       "      <th>11</th>\n",
       "      <td>1</td>\n",
       "      <td>260</td>\n",
       "      <td>4</td>\n",
       "      <td>2000-12-31 22:12:40</td>\n",
       "    </tr>\n",
       "    <tr>\n",
       "      <th>12</th>\n",
       "      <td>1</td>\n",
       "      <td>919</td>\n",
       "      <td>4</td>\n",
       "      <td>2000-12-31 22:22:48</td>\n",
       "    </tr>\n",
       "    <tr>\n",
       "      <th>13</th>\n",
       "      <td>1</td>\n",
       "      <td>608</td>\n",
       "      <td>4</td>\n",
       "      <td>2000-12-31 22:23:18</td>\n",
       "    </tr>\n",
       "    <tr>\n",
       "      <th>14</th>\n",
       "      <td>1</td>\n",
       "      <td>2692</td>\n",
       "      <td>4</td>\n",
       "      <td>2000-12-31 22:26:10</td>\n",
       "    </tr>\n",
       "    <tr>\n",
       "      <th>15</th>\n",
       "      <td>1</td>\n",
       "      <td>1961</td>\n",
       "      <td>5</td>\n",
       "      <td>2000-12-31 22:26:30</td>\n",
       "    </tr>\n",
       "    <tr>\n",
       "      <th>16</th>\n",
       "      <td>1</td>\n",
       "      <td>2028</td>\n",
       "      <td>5</td>\n",
       "      <td>2000-12-31 22:26:59</td>\n",
       "    </tr>\n",
       "    <tr>\n",
       "      <th>17</th>\n",
       "      <td>1</td>\n",
       "      <td>3105</td>\n",
       "      <td>5</td>\n",
       "      <td>2000-12-31 22:28:33</td>\n",
       "    </tr>\n",
       "    <tr>\n",
       "      <th>18</th>\n",
       "      <td>1</td>\n",
       "      <td>938</td>\n",
       "      <td>4</td>\n",
       "      <td>2000-12-31 22:29:12</td>\n",
       "    </tr>\n",
       "    <tr>\n",
       "      <th>19</th>\n",
       "      <td>1</td>\n",
       "      <td>1035</td>\n",
       "      <td>5</td>\n",
       "      <td>2000-12-31 22:29:13</td>\n",
       "    </tr>\n",
       "    <tr>\n",
       "      <th>20</th>\n",
       "      <td>1</td>\n",
       "      <td>1962</td>\n",
       "      <td>4</td>\n",
       "      <td>2000-12-31 22:29:13</td>\n",
       "    </tr>\n",
       "    <tr>\n",
       "      <th>21</th>\n",
       "      <td>1</td>\n",
       "      <td>2018</td>\n",
       "      <td>4</td>\n",
       "      <td>2000-12-31 22:29:37</td>\n",
       "    </tr>\n",
       "    <tr>\n",
       "      <th>22</th>\n",
       "      <td>1</td>\n",
       "      <td>150</td>\n",
       "      <td>5</td>\n",
       "      <td>2000-12-31 22:29:37</td>\n",
       "    </tr>\n",
       "    <tr>\n",
       "      <th>23</th>\n",
       "      <td>1</td>\n",
       "      <td>1028</td>\n",
       "      <td>5</td>\n",
       "      <td>2000-12-31 22:29:37</td>\n",
       "    </tr>\n",
       "    <tr>\n",
       "      <th>24</th>\n",
       "      <td>1</td>\n",
       "      <td>1097</td>\n",
       "      <td>4</td>\n",
       "      <td>2000-12-31 22:32:33</td>\n",
       "    </tr>\n",
       "    <tr>\n",
       "      <th>25</th>\n",
       "      <td>1</td>\n",
       "      <td>914</td>\n",
       "      <td>3</td>\n",
       "      <td>2000-12-31 22:32:48</td>\n",
       "    </tr>\n",
       "    <tr>\n",
       "      <th>27</th>\n",
       "      <td>1</td>\n",
       "      <td>2797</td>\n",
       "      <td>4</td>\n",
       "      <td>2000-12-31 22:33:59</td>\n",
       "    </tr>\n",
       "    <tr>\n",
       "      <th>26</th>\n",
       "      <td>1</td>\n",
       "      <td>1287</td>\n",
       "      <td>5</td>\n",
       "      <td>2000-12-31 22:33:59</td>\n",
       "    </tr>\n",
       "    <tr>\n",
       "      <th>28</th>\n",
       "      <td>1</td>\n",
       "      <td>2762</td>\n",
       "      <td>4</td>\n",
       "      <td>2000-12-31 22:34:51</td>\n",
       "    </tr>\n",
       "    <tr>\n",
       "      <th>29</th>\n",
       "      <td>1</td>\n",
       "      <td>1246</td>\n",
       "      <td>4</td>\n",
       "      <td>2000-12-31 22:34:51</td>\n",
       "    </tr>\n",
       "    <tr>\n",
       "      <th>30</th>\n",
       "      <td>1</td>\n",
       "      <td>661</td>\n",
       "      <td>3</td>\n",
       "      <td>2000-12-31 22:35:09</td>\n",
       "    </tr>\n",
       "    <tr>\n",
       "      <th>31</th>\n",
       "      <td>1</td>\n",
       "      <td>2918</td>\n",
       "      <td>4</td>\n",
       "      <td>2000-12-31 22:35:24</td>\n",
       "    </tr>\n",
       "    <tr>\n",
       "      <th>32</th>\n",
       "      <td>1</td>\n",
       "      <td>531</td>\n",
       "      <td>4</td>\n",
       "      <td>2000-12-31 22:35:49</td>\n",
       "    </tr>\n",
       "    <tr>\n",
       "      <th>33</th>\n",
       "      <td>1</td>\n",
       "      <td>3114</td>\n",
       "      <td>4</td>\n",
       "      <td>2000-12-31 22:36:14</td>\n",
       "    </tr>\n",
       "    <tr>\n",
       "      <th>34</th>\n",
       "      <td>1</td>\n",
       "      <td>2791</td>\n",
       "      <td>4</td>\n",
       "      <td>2000-12-31 22:36:28</td>\n",
       "    </tr>\n",
       "    <tr>\n",
       "      <th>35</th>\n",
       "      <td>1</td>\n",
       "      <td>2321</td>\n",
       "      <td>3</td>\n",
       "      <td>2000-12-31 22:36:45</td>\n",
       "    </tr>\n",
       "    <tr>\n",
       "      <th>36</th>\n",
       "      <td>1</td>\n",
       "      <td>1029</td>\n",
       "      <td>5</td>\n",
       "      <td>2000-12-31 22:36:45</td>\n",
       "    </tr>\n",
       "    <tr>\n",
       "      <th>37</th>\n",
       "      <td>1</td>\n",
       "      <td>1197</td>\n",
       "      <td>3</td>\n",
       "      <td>2000-12-31 22:37:48</td>\n",
       "    </tr>\n",
       "    <tr>\n",
       "      <th>38</th>\n",
       "      <td>1</td>\n",
       "      <td>594</td>\n",
       "      <td>4</td>\n",
       "      <td>2000-12-31 22:37:48</td>\n",
       "    </tr>\n",
       "    <tr>\n",
       "      <th>39</th>\n",
       "      <td>1</td>\n",
       "      <td>2398</td>\n",
       "      <td>4</td>\n",
       "      <td>2000-12-31 22:38:01</td>\n",
       "    </tr>\n",
       "    <tr>\n",
       "      <th>40</th>\n",
       "      <td>1</td>\n",
       "      <td>1545</td>\n",
       "      <td>4</td>\n",
       "      <td>2001-01-06 23:35:39</td>\n",
       "    </tr>\n",
       "    <tr>\n",
       "      <th>41</th>\n",
       "      <td>1</td>\n",
       "      <td>527</td>\n",
       "      <td>5</td>\n",
       "      <td>2001-01-06 23:36:35</td>\n",
       "    </tr>\n",
       "    <tr>\n",
       "      <th>42</th>\n",
       "      <td>1</td>\n",
       "      <td>595</td>\n",
       "      <td>5</td>\n",
       "      <td>2001-01-06 23:37:48</td>\n",
       "    </tr>\n",
       "    <tr>\n",
       "      <th>43</th>\n",
       "      <td>1</td>\n",
       "      <td>2687</td>\n",
       "      <td>3</td>\n",
       "      <td>2001-01-06 23:37:48</td>\n",
       "    </tr>\n",
       "    <tr>\n",
       "      <th>44</th>\n",
       "      <td>1</td>\n",
       "      <td>745</td>\n",
       "      <td>3</td>\n",
       "      <td>2001-01-06 23:37:48</td>\n",
       "    </tr>\n",
       "    <tr>\n",
       "      <th>45</th>\n",
       "      <td>1</td>\n",
       "      <td>588</td>\n",
       "      <td>4</td>\n",
       "      <td>2001-01-06 23:37:48</td>\n",
       "    </tr>\n",
       "    <tr>\n",
       "      <th>46</th>\n",
       "      <td>1</td>\n",
       "      <td>1</td>\n",
       "      <td>5</td>\n",
       "      <td>2001-01-06 23:37:48</td>\n",
       "    </tr>\n",
       "    <tr>\n",
       "      <th>47</th>\n",
       "      <td>1</td>\n",
       "      <td>2355</td>\n",
       "      <td>5</td>\n",
       "      <td>2001-01-06 23:38:11</td>\n",
       "    </tr>\n",
       "    <tr>\n",
       "      <th>48</th>\n",
       "      <td>1</td>\n",
       "      <td>2294</td>\n",
       "      <td>4</td>\n",
       "      <td>2001-01-06 23:38:11</td>\n",
       "    </tr>\n",
       "    <tr>\n",
       "      <th>49</th>\n",
       "      <td>1</td>\n",
       "      <td>783</td>\n",
       "      <td>4</td>\n",
       "      <td>2001-01-06 23:38:11</td>\n",
       "    </tr>\n",
       "    <tr>\n",
       "      <th>50</th>\n",
       "      <td>1</td>\n",
       "      <td>1566</td>\n",
       "      <td>4</td>\n",
       "      <td>2001-01-06 23:38:50</td>\n",
       "    </tr>\n",
       "    <tr>\n",
       "      <th>51</th>\n",
       "      <td>1</td>\n",
       "      <td>1907</td>\n",
       "      <td>4</td>\n",
       "      <td>2001-01-06 23:38:50</td>\n",
       "    </tr>\n",
       "    <tr>\n",
       "      <th>52</th>\n",
       "      <td>1</td>\n",
       "      <td>48</td>\n",
       "      <td>5</td>\n",
       "      <td>2001-01-06 23:39:11</td>\n",
       "    </tr>\n",
       "  </tbody>\n",
       "</table>\n",
       "</div>"
      ],
      "text/plain": [
       "    UserId  ItemId  Rating                Time\n",
       "0        1    3186       4 2000-12-31 22:00:19\n",
       "1        1    1270       5 2000-12-31 22:00:55\n",
       "2        1    1721       4 2000-12-31 22:00:55\n",
       "3        1    1022       5 2000-12-31 22:00:55\n",
       "4        1    2340       3 2000-12-31 22:01:43\n",
       "5        1    1836       5 2000-12-31 22:02:52\n",
       "6        1    3408       4 2000-12-31 22:04:35\n",
       "7        1    2804       5 2000-12-31 22:11:59\n",
       "8        1    1207       4 2000-12-31 22:11:59\n",
       "9        1    1193       5 2000-12-31 22:12:40\n",
       "10       1     720       3 2000-12-31 22:12:40\n",
       "11       1     260       4 2000-12-31 22:12:40\n",
       "12       1     919       4 2000-12-31 22:22:48\n",
       "13       1     608       4 2000-12-31 22:23:18\n",
       "14       1    2692       4 2000-12-31 22:26:10\n",
       "15       1    1961       5 2000-12-31 22:26:30\n",
       "16       1    2028       5 2000-12-31 22:26:59\n",
       "17       1    3105       5 2000-12-31 22:28:33\n",
       "18       1     938       4 2000-12-31 22:29:12\n",
       "19       1    1035       5 2000-12-31 22:29:13\n",
       "20       1    1962       4 2000-12-31 22:29:13\n",
       "21       1    2018       4 2000-12-31 22:29:37\n",
       "22       1     150       5 2000-12-31 22:29:37\n",
       "23       1    1028       5 2000-12-31 22:29:37\n",
       "24       1    1097       4 2000-12-31 22:32:33\n",
       "25       1     914       3 2000-12-31 22:32:48\n",
       "27       1    2797       4 2000-12-31 22:33:59\n",
       "26       1    1287       5 2000-12-31 22:33:59\n",
       "28       1    2762       4 2000-12-31 22:34:51\n",
       "29       1    1246       4 2000-12-31 22:34:51\n",
       "30       1     661       3 2000-12-31 22:35:09\n",
       "31       1    2918       4 2000-12-31 22:35:24\n",
       "32       1     531       4 2000-12-31 22:35:49\n",
       "33       1    3114       4 2000-12-31 22:36:14\n",
       "34       1    2791       4 2000-12-31 22:36:28\n",
       "35       1    2321       3 2000-12-31 22:36:45\n",
       "36       1    1029       5 2000-12-31 22:36:45\n",
       "37       1    1197       3 2000-12-31 22:37:48\n",
       "38       1     594       4 2000-12-31 22:37:48\n",
       "39       1    2398       4 2000-12-31 22:38:01\n",
       "40       1    1545       4 2001-01-06 23:35:39\n",
       "41       1     527       5 2001-01-06 23:36:35\n",
       "42       1     595       5 2001-01-06 23:37:48\n",
       "43       1    2687       3 2001-01-06 23:37:48\n",
       "44       1     745       3 2001-01-06 23:37:48\n",
       "45       1     588       4 2001-01-06 23:37:48\n",
       "46       1       1       5 2001-01-06 23:37:48\n",
       "47       1    2355       5 2001-01-06 23:38:11\n",
       "48       1    2294       4 2001-01-06 23:38:11\n",
       "49       1     783       4 2001-01-06 23:38:11\n",
       "50       1    1566       4 2001-01-06 23:38:50\n",
       "51       1    1907       4 2001-01-06 23:38:50\n",
       "52       1      48       5 2001-01-06 23:39:11"
      ]
     },
     "execution_count": 136,
     "metadata": {},
     "output_type": "execute_result"
    }
   ],
   "source": [
    "data2[data2['UserId'] == 1].sort_values(by='Time')"
   ]
  },
  {
   "cell_type": "code",
   "execution_count": 5,
   "id": "postal-george",
   "metadata": {},
   "outputs": [
    {
     "data": {
      "text/plain": [
       "(6040, 3706)"
      ]
     },
     "execution_count": 5,
     "metadata": {},
     "output_type": "execute_result"
    }
   ],
   "source": [
    "data2['UserId'].nunique(), data2['ItemId'].nunique()"
   ]
  },
  {
   "cell_type": "markdown",
   "id": "underlying-escape",
   "metadata": {},
   "source": [
    "### Step 1. 데이터의 전처리\n",
    "위와 같이 간단히 구성해 본 데이터셋을 꼼꼼이 살펴보면서 항목별 기본분석, session length, session time, cleaning 등의 작업을 진행합니다.\n",
    "특히, 이 데이터셋에서는 Session이 아닌 UserID 단위로 데이터가 생성되어 있으므로, 이를 Session 단위로 어떻게 해석할지에 주의합니다."
   ]
  },
  {
   "cell_type": "markdown",
   "id": "other-maple",
   "metadata": {},
   "source": [
    "- User ID 로부터 Session 구하기"
   ]
  },
  {
   "cell_type": "markdown",
   "id": "documented-england",
   "metadata": {},
   "source": [
    "- UserId별 접속 시간의 차이\n",
    "  - longtailed 분포로 접속 시간이 상당히 긴 데이터가 많음 따라서 이를 하나의 세션으로 보고 진행하기에는 무리가 있어 보임"
   ]
  },
  {
   "cell_type": "code",
   "execution_count": 85,
   "id": "regulated-joining",
   "metadata": {},
   "outputs": [],
   "source": [
    "# dir(data.groupby('UserId')['Time'])\n",
    "userRange = (data2.groupby('UserId')['Time'].max() - data2.groupby('UserId')['Time'].min())"
   ]
  },
  {
   "cell_type": "code",
   "execution_count": 86,
   "id": "related-appendix",
   "metadata": {},
   "outputs": [
    {
     "data": {
      "image/png": "[encoded data removed]",
      "text/plain": [
       "<Figure size 432x288 with 1 Axes>"
      ]
     },
     "metadata": {
      "needs_background": "light"
     },
     "output_type": "display_data"
    }
   ],
   "source": [
    "userRangeinHour = userRange.dt.total_seconds()/3600\n",
    "userRangeinHour.plot(kind='kde')\n",
    "plt.xlim(left = 0)\n",
    "plt.ylim(bottom = 0)\n",
    "plt.show()"
   ]
  },
  {
   "cell_type": "markdown",
   "id": "amber-arctic",
   "metadata": {},
   "source": [
    "- 다음 그림은 Time을 minute으로 변환하여 그린 분포함수다.\n",
    "  - 봉우리에 따라 분포를 쪼개면 session을 구할 수 있을 것이다.\n",
    "  - 그러나 동적으로 session을 할당하기가 쉽지 않으므로 다른 대안을 고려한다 : 1시간 단위"
   ]
  },
  {
   "cell_type": "code",
   "execution_count": 8,
   "id": "statewide-breath",
   "metadata": {},
   "outputs": [
    {
     "data": {
      "text/plain": [
       "<Figure size 720x1440 with 0 Axes>"
      ]
     },
     "metadata": {},
     "output_type": "display_data"
    },
    {
     "data": {
      "image/png": "[encoded data removed]",
      "text/plain": [
       "<Figure size 432x288 with 6 Axes>"
      ]
     },
     "metadata": {
      "needs_background": "light"
     },
     "output_type": "display_data"
    }
   ],
   "source": [
    "plt.figure(figsize = (10, 20))\n",
    "fig, axes = plt.subplots(2,3)\n",
    "count = 1\n",
    "for ax in axes.flatten():\n",
    "    data2['Time'][data2['UserId'] == count].dt.minute.plot(kind='kde', ax = ax)\n",
    "    count += 1\n",
    "plt.show()"
   ]
  },
  {
   "cell_type": "markdown",
   "id": "artificial-theta",
   "metadata": {},
   "source": [
    "- 1시간 단위로 나눈다"
   ]
  },
  {
   "cell_type": "code",
   "execution_count": null,
   "id": "fewer-virus",
   "metadata": {},
   "outputs": [],
   "source": [
    "# sessionId = 1\n",
    "# sessions = pd.Series()\n",
    "# for userid in data2['UserId'].unique():\n",
    "#     origin = data2['Time'][data2['UserId'] == userid].iloc[0]\n",
    "#     offset = data2['Time'][data2['UserId'] == userid] - origin\n",
    "#     criteria = dt.timedelta(hours=1)\n",
    "#     offset.map(lambda x : x > criteria)\n",
    "#     sessions = pd.concat([sessions, offset + sessionId], axis = 0 )\n",
    "#     sessionId = sessions.max() + 1\n",
    "#     if userid > 10 : break"
   ]
  },
  {
   "cell_type": "code",
   "execution_count": 374,
   "id": "uniform-cause",
   "metadata": {
    "scrolled": false
   },
   "outputs": [],
   "source": [
    "data2['Time_diff'] = data2['Time'].diff().fillna(pd.Timedelta(seconds=0))\n",
    "data2['Change_User'] = data2['UserId'].diff().fillna(0)\n",
    "\n",
    "sessionId = 1\n",
    "def make_sessions(x):\n",
    "    global sessionId\n",
    "    if x['Time_diff'] > dt.timedelta(hours=1) or x['Change_User']==1:\n",
    "        sessionId += 1\n",
    "    return sessionId"
   ]
  },
  {
   "cell_type": "code",
   "execution_count": 375,
   "id": "english-spanish",
   "metadata": {},
   "outputs": [],
   "source": [
    "data2['SessionId'] = data2.apply(make_sessions, axis=1)"
   ]
  },
  {
   "cell_type": "code",
   "execution_count": 376,
   "id": "polished-fancy",
   "metadata": {},
   "outputs": [],
   "source": [
    "data2 = data2.drop(columns = ['Time_diff', 'Change_User'])"
   ]
  },
  {
   "cell_type": "code",
   "execution_count": 377,
   "id": "olympic-papua",
   "metadata": {},
   "outputs": [
    {
     "data": {
      "text/html": [
       "<div>\n",
       "<style scoped>\n",
       "    .dataframe tbody tr th:only-of-type {\n",
       "        vertical-align: middle;\n",
       "    }\n",
       "\n",
       "    .dataframe tbody tr th {\n",
       "        vertical-align: top;\n",
       "    }\n",
       "\n",
       "    .dataframe thead th {\n",
       "        text-align: right;\n",
       "    }\n",
       "</style>\n",
       "<table border=\"1\" class=\"dataframe\">\n",
       "  <thead>\n",
       "    <tr style=\"text-align: right;\">\n",
       "      <th></th>\n",
       "      <th>UserId</th>\n",
       "      <th>ItemId</th>\n",
       "      <th>Rating</th>\n",
       "      <th>Time</th>\n",
       "      <th>SessionId</th>\n",
       "    </tr>\n",
       "  </thead>\n",
       "  <tbody>\n",
       "    <tr>\n",
       "      <th>0</th>\n",
       "      <td>1</td>\n",
       "      <td>3186</td>\n",
       "      <td>4</td>\n",
       "      <td>2000-12-31 22:00:19</td>\n",
       "      <td>1</td>\n",
       "    </tr>\n",
       "    <tr>\n",
       "      <th>1</th>\n",
       "      <td>1</td>\n",
       "      <td>1270</td>\n",
       "      <td>5</td>\n",
       "      <td>2000-12-31 22:00:55</td>\n",
       "      <td>1</td>\n",
       "    </tr>\n",
       "    <tr>\n",
       "      <th>2</th>\n",
       "      <td>1</td>\n",
       "      <td>1721</td>\n",
       "      <td>4</td>\n",
       "      <td>2000-12-31 22:00:55</td>\n",
       "      <td>1</td>\n",
       "    </tr>\n",
       "    <tr>\n",
       "      <th>3</th>\n",
       "      <td>1</td>\n",
       "      <td>1022</td>\n",
       "      <td>5</td>\n",
       "      <td>2000-12-31 22:00:55</td>\n",
       "      <td>1</td>\n",
       "    </tr>\n",
       "    <tr>\n",
       "      <th>4</th>\n",
       "      <td>1</td>\n",
       "      <td>2340</td>\n",
       "      <td>3</td>\n",
       "      <td>2000-12-31 22:01:43</td>\n",
       "      <td>1</td>\n",
       "    </tr>\n",
       "    <tr>\n",
       "      <th>...</th>\n",
       "      <td>...</td>\n",
       "      <td>...</td>\n",
       "      <td>...</td>\n",
       "      <td>...</td>\n",
       "      <td>...</td>\n",
       "    </tr>\n",
       "    <tr>\n",
       "      <th>1000204</th>\n",
       "      <td>6040</td>\n",
       "      <td>2917</td>\n",
       "      <td>4</td>\n",
       "      <td>2001-08-10 14:40:29</td>\n",
       "      <td>24412</td>\n",
       "    </tr>\n",
       "    <tr>\n",
       "      <th>1000205</th>\n",
       "      <td>6040</td>\n",
       "      <td>1921</td>\n",
       "      <td>4</td>\n",
       "      <td>2001-08-10 14:41:04</td>\n",
       "      <td>24412</td>\n",
       "    </tr>\n",
       "    <tr>\n",
       "      <th>1000206</th>\n",
       "      <td>6040</td>\n",
       "      <td>1784</td>\n",
       "      <td>3</td>\n",
       "      <td>2001-08-10 14:41:04</td>\n",
       "      <td>24412</td>\n",
       "    </tr>\n",
       "    <tr>\n",
       "      <th>1000207</th>\n",
       "      <td>6040</td>\n",
       "      <td>161</td>\n",
       "      <td>3</td>\n",
       "      <td>2001-08-10 14:41:26</td>\n",
       "      <td>24412</td>\n",
       "    </tr>\n",
       "    <tr>\n",
       "      <th>1000208</th>\n",
       "      <td>6040</td>\n",
       "      <td>1221</td>\n",
       "      <td>4</td>\n",
       "      <td>2001-08-20 13:44:15</td>\n",
       "      <td>24413</td>\n",
       "    </tr>\n",
       "  </tbody>\n",
       "</table>\n",
       "<p>1000209 rows × 5 columns</p>\n",
       "</div>"
      ],
      "text/plain": [
       "         UserId  ItemId  Rating                Time  SessionId\n",
       "0             1    3186       4 2000-12-31 22:00:19          1\n",
       "1             1    1270       5 2000-12-31 22:00:55          1\n",
       "2             1    1721       4 2000-12-31 22:00:55          1\n",
       "3             1    1022       5 2000-12-31 22:00:55          1\n",
       "4             1    2340       3 2000-12-31 22:01:43          1\n",
       "...         ...     ...     ...                 ...        ...\n",
       "1000204    6040    2917       4 2001-08-10 14:40:29      24412\n",
       "1000205    6040    1921       4 2001-08-10 14:41:04      24412\n",
       "1000206    6040    1784       3 2001-08-10 14:41:04      24412\n",
       "1000207    6040     161       3 2001-08-10 14:41:26      24412\n",
       "1000208    6040    1221       4 2001-08-20 13:44:15      24413\n",
       "\n",
       "[1000209 rows x 5 columns]"
      ]
     },
     "execution_count": 377,
     "metadata": {},
     "output_type": "execute_result"
    }
   ],
   "source": [
    "data2"
   ]
  },
  {
   "cell_type": "markdown",
   "id": "developmental-figure",
   "metadata": {},
   "source": [
    "### 2.2 Session Length"
   ]
  },
  {
   "cell_type": "code",
   "execution_count": 126,
   "id": "organized-lesbian",
   "metadata": {
    "scrolled": true
   },
   "outputs": [
    {
     "data": {
      "text/plain": [
       "SessionId\n",
       "1         40\n",
       "2         13\n",
       "3        129\n",
       "4         51\n",
       "5         21\n",
       "        ... \n",
       "24409      7\n",
       "24410     14\n",
       "24411      1\n",
       "24412     21\n",
       "24413      1\n",
       "Length: 24413, dtype: int64"
      ]
     },
     "execution_count": 126,
     "metadata": {},
     "output_type": "execute_result"
    }
   ],
   "source": [
    "session_length = data2.groupby('SessionId').size()\n",
    "session_length"
   ]
  },
  {
   "cell_type": "code",
   "execution_count": 128,
   "id": "narrow-plaza",
   "metadata": {
    "scrolled": true
   },
   "outputs": [
    {
     "data": {
      "text/plain": [
       "(0.0, 0.022622876690066004)"
      ]
     },
     "execution_count": 128,
     "metadata": {},
     "output_type": "execute_result"
    },
    {
     "data": {
      "image/png": "[encoded data removed]",
      "text/plain": [
       "<Figure size 432x288 with 1 Axes>"
      ]
     },
     "metadata": {
      "needs_background": "light"
     },
     "output_type": "display_data"
    }
   ],
   "source": [
    "session_length.plot(kind='kde')\n",
    "plt.xlim(left = 0)\n",
    "plt.ylim(bottom = 0)"
   ]
  },
  {
   "cell_type": "code",
   "execution_count": 129,
   "id": "sought-tucson",
   "metadata": {},
   "outputs": [
    {
     "data": {
      "text/plain": [
       "(1, 1290)"
      ]
     },
     "execution_count": 129,
     "metadata": {},
     "output_type": "execute_result"
    }
   ],
   "source": [
    "session_length.min(), session_length.max()"
   ]
  },
  {
   "cell_type": "code",
   "execution_count": 130,
   "id": "marked-shelf",
   "metadata": {},
   "outputs": [
    {
     "data": {
      "text/plain": [
       "(6.0, 40.97034366935649)"
      ]
     },
     "execution_count": 130,
     "metadata": {},
     "output_type": "execute_result"
    }
   ],
   "source": [
    "session_length.median(), session_length.mean()"
   ]
  },
  {
   "cell_type": "code",
   "execution_count": 132,
   "id": "neutral-albert",
   "metadata": {},
   "outputs": [
    {
     "data": {
      "text/plain": [
       "400.0"
      ]
     },
     "execution_count": 132,
     "metadata": {},
     "output_type": "execute_result"
    }
   ],
   "source": [
    "session_length.quantile(0.99)"
   ]
  },
  {
   "cell_type": "code",
   "execution_count": 164,
   "id": "arbitrary-rescue",
   "metadata": {},
   "outputs": [
    {
     "data": {
      "text/html": [
       "<div>\n",
       "<style scoped>\n",
       "    .dataframe tbody tr th:only-of-type {\n",
       "        vertical-align: middle;\n",
       "    }\n",
       "\n",
       "    .dataframe tbody tr th {\n",
       "        vertical-align: top;\n",
       "    }\n",
       "\n",
       "    .dataframe thead th {\n",
       "        text-align: right;\n",
       "    }\n",
       "</style>\n",
       "<table border=\"1\" class=\"dataframe\">\n",
       "  <thead>\n",
       "    <tr style=\"text-align: right;\">\n",
       "      <th></th>\n",
       "      <th>UserId</th>\n",
       "      <th>ItemId</th>\n",
       "      <th>Rating</th>\n",
       "      <th>Time</th>\n",
       "      <th>Time_diff</th>\n",
       "      <th>Change_User</th>\n",
       "      <th>SessionId</th>\n",
       "    </tr>\n",
       "  </thead>\n",
       "  <tbody>\n",
       "    <tr>\n",
       "      <th>66933</th>\n",
       "      <td>451</td>\n",
       "      <td>946</td>\n",
       "      <td>5</td>\n",
       "      <td>2000-12-10 02:15:22</td>\n",
       "      <td>2 days 02:02:56</td>\n",
       "      <td>0.0</td>\n",
       "      <td>2052</td>\n",
       "    </tr>\n",
       "    <tr>\n",
       "      <th>66934</th>\n",
       "      <td>451</td>\n",
       "      <td>3872</td>\n",
       "      <td>4</td>\n",
       "      <td>2000-12-10 02:16:19</td>\n",
       "      <td>0 days 00:00:57</td>\n",
       "      <td>0.0</td>\n",
       "      <td>2052</td>\n",
       "    </tr>\n",
       "    <tr>\n",
       "      <th>66935</th>\n",
       "      <td>451</td>\n",
       "      <td>3808</td>\n",
       "      <td>4</td>\n",
       "      <td>2000-12-10 02:17:07</td>\n",
       "      <td>0 days 00:00:48</td>\n",
       "      <td>0.0</td>\n",
       "      <td>2052</td>\n",
       "    </tr>\n",
       "    <tr>\n",
       "      <th>66936</th>\n",
       "      <td>451</td>\n",
       "      <td>1204</td>\n",
       "      <td>5</td>\n",
       "      <td>2000-12-10 02:17:07</td>\n",
       "      <td>0 days 00:00:00</td>\n",
       "      <td>0.0</td>\n",
       "      <td>2052</td>\n",
       "    </tr>\n",
       "    <tr>\n",
       "      <th>66937</th>\n",
       "      <td>451</td>\n",
       "      <td>1252</td>\n",
       "      <td>5</td>\n",
       "      <td>2000-12-10 02:18:24</td>\n",
       "      <td>0 days 00:01:17</td>\n",
       "      <td>0.0</td>\n",
       "      <td>2052</td>\n",
       "    </tr>\n",
       "    <tr>\n",
       "      <th>...</th>\n",
       "      <td>...</td>\n",
       "      <td>...</td>\n",
       "      <td>...</td>\n",
       "      <td>...</td>\n",
       "      <td>...</td>\n",
       "      <td>...</td>\n",
       "      <td>...</td>\n",
       "    </tr>\n",
       "    <tr>\n",
       "      <th>67128</th>\n",
       "      <td>451</td>\n",
       "      <td>1641</td>\n",
       "      <td>5</td>\n",
       "      <td>2000-12-10 03:06:16</td>\n",
       "      <td>0 days 00:02:08</td>\n",
       "      <td>0.0</td>\n",
       "      <td>2052</td>\n",
       "    </tr>\n",
       "    <tr>\n",
       "      <th>67129</th>\n",
       "      <td>451</td>\n",
       "      <td>3260</td>\n",
       "      <td>4</td>\n",
       "      <td>2000-12-10 03:06:16</td>\n",
       "      <td>0 days 00:00:00</td>\n",
       "      <td>0.0</td>\n",
       "      <td>2052</td>\n",
       "    </tr>\n",
       "    <tr>\n",
       "      <th>67130</th>\n",
       "      <td>451</td>\n",
       "      <td>497</td>\n",
       "      <td>5</td>\n",
       "      <td>2000-12-10 03:06:16</td>\n",
       "      <td>0 days 00:00:00</td>\n",
       "      <td>0.0</td>\n",
       "      <td>2052</td>\n",
       "    </tr>\n",
       "    <tr>\n",
       "      <th>67131</th>\n",
       "      <td>451</td>\n",
       "      <td>3868</td>\n",
       "      <td>3</td>\n",
       "      <td>2000-12-10 03:06:16</td>\n",
       "      <td>0 days 00:00:00</td>\n",
       "      <td>0.0</td>\n",
       "      <td>2052</td>\n",
       "    </tr>\n",
       "    <tr>\n",
       "      <th>67132</th>\n",
       "      <td>451</td>\n",
       "      <td>3753</td>\n",
       "      <td>5</td>\n",
       "      <td>2000-12-10 03:10:17</td>\n",
       "      <td>0 days 00:04:01</td>\n",
       "      <td>0.0</td>\n",
       "      <td>2052</td>\n",
       "    </tr>\n",
       "  </tbody>\n",
       "</table>\n",
       "<p>200 rows × 7 columns</p>\n",
       "</div>"
      ],
      "text/plain": [
       "       UserId  ItemId  Rating                Time       Time_diff  \\\n",
       "66933     451     946       5 2000-12-10 02:15:22 2 days 02:02:56   \n",
       "66934     451    3872       4 2000-12-10 02:16:19 0 days 00:00:57   \n",
       "66935     451    3808       4 2000-12-10 02:17:07 0 days 00:00:48   \n",
       "66936     451    1204       5 2000-12-10 02:17:07 0 days 00:00:00   \n",
       "66937     451    1252       5 2000-12-10 02:18:24 0 days 00:01:17   \n",
       "...       ...     ...     ...                 ...             ...   \n",
       "67128     451    1641       5 2000-12-10 03:06:16 0 days 00:02:08   \n",
       "67129     451    3260       4 2000-12-10 03:06:16 0 days 00:00:00   \n",
       "67130     451     497       5 2000-12-10 03:06:16 0 days 00:00:00   \n",
       "67131     451    3868       3 2000-12-10 03:06:16 0 days 00:00:00   \n",
       "67132     451    3753       5 2000-12-10 03:10:17 0 days 00:04:01   \n",
       "\n",
       "       Change_User  SessionId  \n",
       "66933          0.0       2052  \n",
       "66934          0.0       2052  \n",
       "66935          0.0       2052  \n",
       "66936          0.0       2052  \n",
       "66937          0.0       2052  \n",
       "...            ...        ...  \n",
       "67128          0.0       2052  \n",
       "67129          0.0       2052  \n",
       "67130          0.0       2052  \n",
       "67131          0.0       2052  \n",
       "67132          0.0       2052  \n",
       "\n",
       "[200 rows x 7 columns]"
      ]
     },
     "execution_count": 164,
     "metadata": {},
     "output_type": "execute_result"
    }
   ],
   "source": [
    "long_session = session_length[session_length==200].index[0]\n",
    "data2[data2['SessionId']==long_session]"
   ]
  },
  {
   "cell_type": "code",
   "execution_count": 166,
   "id": "qualified-requirement",
   "metadata": {},
   "outputs": [
    {
     "data": {
      "text/plain": [
       "1      0.272601\n",
       "2      0.372957\n",
       "3      0.423176\n",
       "4      0.455003\n",
       "5      0.481874\n",
       "         ...   \n",
       "395    0.989637\n",
       "396    0.989678\n",
       "397    0.989719\n",
       "398    0.989841\n",
       "399    0.989923\n",
       "Length: 389, dtype: float64"
      ]
     },
     "execution_count": 166,
     "metadata": {},
     "output_type": "execute_result"
    }
   ],
   "source": [
    "length_count = session_length.groupby(session_length).size()\n",
    "length_percent_cumsum = length_count.cumsum() / length_count.sum()\n",
    "length_percent_cumsum_999 = length_percent_cumsum[length_percent_cumsum < 0.99]\n",
    "\n",
    "length_percent_cumsum_999"
   ]
  },
  {
   "cell_type": "code",
   "execution_count": 167,
   "id": "extended-complexity",
   "metadata": {},
   "outputs": [
    {
     "data": {
      "image/png": "[encoded data removed]",
      "text/plain": [
       "<Figure size 1440x720 with 1 Axes>"
      ]
     },
     "metadata": {
      "needs_background": "light"
     },
     "output_type": "display_data"
    }
   ],
   "source": [
    "import matplotlib.pyplot as plt\n",
    "\n",
    "plt.figure(figsize=(20, 10))\n",
    "plt.bar(x=length_percent_cumsum_999.index,\n",
    "        height=length_percent_cumsum_999, color='red')\n",
    "plt.xticks(length_percent_cumsum_999.index)\n",
    "plt.yticks(np.arange(0, 1.01, 0.05))\n",
    "plt.title('Cumsum Percentage Until 0.999', size=20)\n",
    "plt.show()"
   ]
  },
  {
   "cell_type": "markdown",
   "id": "returning-remedy",
   "metadata": {},
   "source": [
    "### 2.3 Session Time"
   ]
  },
  {
   "cell_type": "code",
   "execution_count": 168,
   "id": "enclosed-lecture",
   "metadata": {},
   "outputs": [
    {
     "name": "stdout",
     "output_type": "stream",
     "text": [
      "2000-04-25 23:05:32\n",
      "2003-02-28 17:49:50\n"
     ]
    }
   ],
   "source": [
    "oldest, latest = data2['Time'].min(), data2['Time'].max()\n",
    "print(oldest) \n",
    "print(latest)"
   ]
  },
  {
   "cell_type": "code",
   "execution_count": 169,
   "id": "national-triple",
   "metadata": {},
   "outputs": [
    {
     "data": {
      "text/plain": [
       "pandas._libs.tslibs.timestamps.Timestamp"
      ]
     },
     "execution_count": 169,
     "metadata": {},
     "output_type": "execute_result"
    }
   ],
   "source": [
    "type(latest)"
   ]
  },
  {
   "cell_type": "markdown",
   "id": "comfortable-certification",
   "metadata": {},
   "source": [
    "- 영화는 고전이 오히려 유행이므로 버리지 않아! -> 좋지 않은 결과. 최신의 영향을 배제하지 못함.\n",
    "- 1년(365일)를 기준으로 삼는다."
   ]
  },
  {
   "cell_type": "code",
   "execution_count": 378,
   "id": "patent-chapter",
   "metadata": {},
   "outputs": [
    {
     "data": {
      "text/html": [
       "<div>\n",
       "<style scoped>\n",
       "    .dataframe tbody tr th:only-of-type {\n",
       "        vertical-align: middle;\n",
       "    }\n",
       "\n",
       "    .dataframe tbody tr th {\n",
       "        vertical-align: top;\n",
       "    }\n",
       "\n",
       "    .dataframe thead th {\n",
       "        text-align: right;\n",
       "    }\n",
       "</style>\n",
       "<table border=\"1\" class=\"dataframe\">\n",
       "  <thead>\n",
       "    <tr style=\"text-align: right;\">\n",
       "      <th></th>\n",
       "      <th>UserId</th>\n",
       "      <th>ItemId</th>\n",
       "      <th>Rating</th>\n",
       "      <th>Time</th>\n",
       "      <th>SessionId</th>\n",
       "    </tr>\n",
       "  </thead>\n",
       "  <tbody>\n",
       "    <tr>\n",
       "      <th>5333</th>\n",
       "      <td>36</td>\n",
       "      <td>1387</td>\n",
       "      <td>5</td>\n",
       "      <td>2002-03-12 03:46:59</td>\n",
       "      <td>83</td>\n",
       "    </tr>\n",
       "    <tr>\n",
       "      <th>5334</th>\n",
       "      <td>36</td>\n",
       "      <td>1201</td>\n",
       "      <td>4</td>\n",
       "      <td>2002-03-12 03:46:59</td>\n",
       "      <td>83</td>\n",
       "    </tr>\n",
       "    <tr>\n",
       "      <th>5335</th>\n",
       "      <td>36</td>\n",
       "      <td>1291</td>\n",
       "      <td>5</td>\n",
       "      <td>2002-03-12 03:47:16</td>\n",
       "      <td>83</td>\n",
       "    </tr>\n",
       "    <tr>\n",
       "      <th>5336</th>\n",
       "      <td>36</td>\n",
       "      <td>2167</td>\n",
       "      <td>5</td>\n",
       "      <td>2002-03-12 03:48:25</td>\n",
       "      <td>83</td>\n",
       "    </tr>\n",
       "    <tr>\n",
       "      <th>5337</th>\n",
       "      <td>36</td>\n",
       "      <td>2951</td>\n",
       "      <td>4</td>\n",
       "      <td>2002-03-12 03:48:25</td>\n",
       "      <td>83</td>\n",
       "    </tr>\n",
       "    <tr>\n",
       "      <th>...</th>\n",
       "      <td>...</td>\n",
       "      <td>...</td>\n",
       "      <td>...</td>\n",
       "      <td>...</td>\n",
       "      <td>...</td>\n",
       "    </tr>\n",
       "    <tr>\n",
       "      <th>992789</th>\n",
       "      <td>5996</td>\n",
       "      <td>3835</td>\n",
       "      <td>3</td>\n",
       "      <td>2002-04-29 20:46:24</td>\n",
       "      <td>24305</td>\n",
       "    </tr>\n",
       "    <tr>\n",
       "      <th>992790</th>\n",
       "      <td>5996</td>\n",
       "      <td>2422</td>\n",
       "      <td>3</td>\n",
       "      <td>2002-04-29 20:47:05</td>\n",
       "      <td>24305</td>\n",
       "    </tr>\n",
       "    <tr>\n",
       "      <th>992791</th>\n",
       "      <td>5996</td>\n",
       "      <td>168</td>\n",
       "      <td>3</td>\n",
       "      <td>2002-09-03 13:12:26</td>\n",
       "      <td>24306</td>\n",
       "    </tr>\n",
       "    <tr>\n",
       "      <th>992792</th>\n",
       "      <td>5996</td>\n",
       "      <td>339</td>\n",
       "      <td>4</td>\n",
       "      <td>2002-10-07 13:24:39</td>\n",
       "      <td>24307</td>\n",
       "    </tr>\n",
       "    <tr>\n",
       "      <th>992793</th>\n",
       "      <td>5996</td>\n",
       "      <td>3882</td>\n",
       "      <td>3</td>\n",
       "      <td>2002-11-04 16:55:55</td>\n",
       "      <td>24308</td>\n",
       "    </tr>\n",
       "  </tbody>\n",
       "</table>\n",
       "<p>21704 rows × 5 columns</p>\n",
       "</div>"
      ],
      "text/plain": [
       "        UserId  ItemId  Rating                Time  SessionId\n",
       "5333        36    1387       5 2002-03-12 03:46:59         83\n",
       "5334        36    1201       4 2002-03-12 03:46:59         83\n",
       "5335        36    1291       5 2002-03-12 03:47:16         83\n",
       "5336        36    2167       5 2002-03-12 03:48:25         83\n",
       "5337        36    2951       4 2002-03-12 03:48:25         83\n",
       "...        ...     ...     ...                 ...        ...\n",
       "992789    5996    3835       3 2002-04-29 20:46:24      24305\n",
       "992790    5996    2422       3 2002-04-29 20:47:05      24305\n",
       "992791    5996     168       3 2002-09-03 13:12:26      24306\n",
       "992792    5996     339       4 2002-10-07 13:24:39      24307\n",
       "992793    5996    3882       3 2002-11-04 16:55:55      24308\n",
       "\n",
       "[21704 rows x 5 columns]"
      ]
     },
     "execution_count": 378,
     "metadata": {},
     "output_type": "execute_result"
    }
   ],
   "source": [
    "year_ago = latest - dt.timedelta(365)     # 최종 날짜로부터 120일 이전 날짜를 구한다.  \n",
    "data2 = data2[data2['Time'] > year_ago]   # 방금 구한 날짜 이후의 데이터만 모은다. \n",
    "data2"
   ]
  },
  {
   "cell_type": "markdown",
   "id": "elegant-filing",
   "metadata": {},
   "source": [
    "2.4 Data Cleansing"
   ]
  },
  {
   "cell_type": "code",
   "execution_count": 206,
   "id": "potential-madness",
   "metadata": {},
   "outputs": [],
   "source": [
    "# short_session을 제거한 다음 unpopular item을 제거하면 다시 길이가 1인 session이 생길 수 있습니다.\n",
    "# 이를 위해 반복문을 통해 지속적으로 제거 합니다.\n",
    "def cleanse_recursive(data: pd.DataFrame, shortest, least_click) -> pd.DataFrame:\n",
    "    while True:\n",
    "        before_len = len(data)\n",
    "        data = cleanse_short_session(data, shortest)\n",
    "        data = cleanse_unpopular_item(data, least_click)\n",
    "        after_len = len(data)\n",
    "        if before_len == after_len:\n",
    "            break\n",
    "    return data\n",
    "\n",
    "def cleanse_short_session(data: pd.DataFrame, shortest):\n",
    "    session_len = data.groupby('SessionId').size()\n",
    "    session_use = session_len[session_len >= shortest].index\n",
    "    data = data[data['SessionId'].isin(session_use)]\n",
    "    return data\n",
    "\n",
    "def cleanse_unpopular_item(data: pd.DataFrame, least_click):\n",
    "    item_popular = data.groupby('ItemId').size()\n",
    "    item_use = item_popular[item_popular >= least_click].index\n",
    "    data = data[data['ItemId'].isin(item_use)]\n",
    "    return data"
   ]
  },
  {
   "cell_type": "code",
   "execution_count": 381,
   "id": "promising-bowling",
   "metadata": {},
   "outputs": [],
   "source": [
    "data_base = cleanse_recursive(data2, shortest=2, least_click=5)\n",
    "data_last = cleanse_recursive(data2, shortest=2, least_click=20)"
   ]
  },
  {
   "cell_type": "code",
   "execution_count": 382,
   "id": "gorgeous-deadline",
   "metadata": {},
   "outputs": [
    {
     "data": {
      "text/html": [
       "<div>\n",
       "<style scoped>\n",
       "    .dataframe tbody tr th:only-of-type {\n",
       "        vertical-align: middle;\n",
       "    }\n",
       "\n",
       "    .dataframe tbody tr th {\n",
       "        vertical-align: top;\n",
       "    }\n",
       "\n",
       "    .dataframe thead th {\n",
       "        text-align: right;\n",
       "    }\n",
       "</style>\n",
       "<table border=\"1\" class=\"dataframe\">\n",
       "  <thead>\n",
       "    <tr style=\"text-align: right;\">\n",
       "      <th></th>\n",
       "      <th>UserId</th>\n",
       "      <th>ItemId</th>\n",
       "      <th>Rating</th>\n",
       "      <th>Time</th>\n",
       "      <th>SessionId</th>\n",
       "    </tr>\n",
       "  </thead>\n",
       "  <tbody>\n",
       "    <tr>\n",
       "      <th>5335</th>\n",
       "      <td>36</td>\n",
       "      <td>1291</td>\n",
       "      <td>5</td>\n",
       "      <td>2002-03-12 03:47:16</td>\n",
       "      <td>83</td>\n",
       "    </tr>\n",
       "    <tr>\n",
       "      <th>5338</th>\n",
       "      <td>36</td>\n",
       "      <td>2115</td>\n",
       "      <td>5</td>\n",
       "      <td>2002-03-12 03:48:25</td>\n",
       "      <td>83</td>\n",
       "    </tr>\n",
       "    <tr>\n",
       "      <th>5361</th>\n",
       "      <td>36</td>\n",
       "      <td>296</td>\n",
       "      <td>5</td>\n",
       "      <td>2002-12-22 08:16:59</td>\n",
       "      <td>86</td>\n",
       "    </tr>\n",
       "    <tr>\n",
       "      <th>5363</th>\n",
       "      <td>36</td>\n",
       "      <td>1266</td>\n",
       "      <td>5</td>\n",
       "      <td>2002-12-22 08:18:29</td>\n",
       "      <td>86</td>\n",
       "    </tr>\n",
       "    <tr>\n",
       "      <th>5364</th>\n",
       "      <td>36</td>\n",
       "      <td>595</td>\n",
       "      <td>4</td>\n",
       "      <td>2002-12-22 08:18:29</td>\n",
       "      <td>86</td>\n",
       "    </tr>\n",
       "    <tr>\n",
       "      <th>...</th>\n",
       "      <td>...</td>\n",
       "      <td>...</td>\n",
       "      <td>...</td>\n",
       "      <td>...</td>\n",
       "      <td>...</td>\n",
       "    </tr>\n",
       "    <tr>\n",
       "      <th>992737</th>\n",
       "      <td>5996</td>\n",
       "      <td>3039</td>\n",
       "      <td>4</td>\n",
       "      <td>2002-04-29 19:46:04</td>\n",
       "      <td>24305</td>\n",
       "    </tr>\n",
       "    <tr>\n",
       "      <th>992753</th>\n",
       "      <td>5996</td>\n",
       "      <td>3791</td>\n",
       "      <td>3</td>\n",
       "      <td>2002-04-29 19:58:39</td>\n",
       "      <td>24305</td>\n",
       "    </tr>\n",
       "    <tr>\n",
       "      <th>992765</th>\n",
       "      <td>5996</td>\n",
       "      <td>3247</td>\n",
       "      <td>4</td>\n",
       "      <td>2002-04-29 20:05:17</td>\n",
       "      <td>24305</td>\n",
       "    </tr>\n",
       "    <tr>\n",
       "      <th>992770</th>\n",
       "      <td>5996</td>\n",
       "      <td>3826</td>\n",
       "      <td>1</td>\n",
       "      <td>2002-04-29 20:10:17</td>\n",
       "      <td>24305</td>\n",
       "    </tr>\n",
       "    <tr>\n",
       "      <th>992779</th>\n",
       "      <td>5996</td>\n",
       "      <td>2616</td>\n",
       "      <td>3</td>\n",
       "      <td>2002-04-29 20:16:15</td>\n",
       "      <td>24305</td>\n",
       "    </tr>\n",
       "  </tbody>\n",
       "</table>\n",
       "<p>3978 rows × 5 columns</p>\n",
       "</div>"
      ],
      "text/plain": [
       "        UserId  ItemId  Rating                Time  SessionId\n",
       "5335        36    1291       5 2002-03-12 03:47:16         83\n",
       "5338        36    2115       5 2002-03-12 03:48:25         83\n",
       "5361        36     296       5 2002-12-22 08:16:59         86\n",
       "5363        36    1266       5 2002-12-22 08:18:29         86\n",
       "5364        36     595       4 2002-12-22 08:18:29         86\n",
       "...        ...     ...     ...                 ...        ...\n",
       "992737    5996    3039       4 2002-04-29 19:46:04      24305\n",
       "992753    5996    3791       3 2002-04-29 19:58:39      24305\n",
       "992765    5996    3247       4 2002-04-29 20:05:17      24305\n",
       "992770    5996    3826       1 2002-04-29 20:10:17      24305\n",
       "992779    5996    2616       3 2002-04-29 20:16:15      24305\n",
       "\n",
       "[3978 rows x 5 columns]"
      ]
     },
     "execution_count": 382,
     "metadata": {},
     "output_type": "execute_result"
    }
   ],
   "source": [
    "data_last"
   ]
  },
  {
   "cell_type": "markdown",
   "id": "bronze-maple",
   "metadata": {},
   "source": [
    "## 추가적 데이터 정제시도: data_last의 경우\n",
    "- 이렇게 짧은 시간에 과도한 클릭을 했다는 것은 특정한 의도를 담고 있을 수 있으므로 삭제\n",
    "  - ① 한 세션이 3시간 이상이다 ? 버린다.\n",
    "  - ② 한 세션에서 시간당 클릭량이 60회 이상이다 ? 버린다.\n",
    "  - ③ 평가점수가 2이하다? 보지 말라는 의미이므로 버린다."
   ]
  },
  {
   "cell_type": "code",
   "execution_count": 383,
   "id": "solar-welcome",
   "metadata": {},
   "outputs": [
    {
     "data": {
      "text/plain": [
       "Int64Index([14290, 23156], dtype='int64', name='SessionId')"
      ]
     },
     "execution_count": 383,
     "metadata": {},
     "output_type": "execute_result"
    }
   ],
   "source": [
    "#세션의 시간을 살펴보자\n",
    "SessionRange = (data_last.groupby('SessionId')['Time'].max() - data_last.groupby('SessionId')['Time'].min())\n",
    "drop1 = SessionRange[SessionRange > dt.timedelta(hours=3)].index\n",
    "drop1"
   ]
  },
  {
   "cell_type": "code",
   "execution_count": 384,
   "id": "amino-advice",
   "metadata": {},
   "outputs": [
    {
     "data": {
      "text/plain": [
       "Int64Index([   83,    86,   146,   235,   237,   240,   380,   463,   575,\n",
       "             1043,\n",
       "            ...\n",
       "            23036, 23044, 23569, 23570, 23571, 23636, 23837, 23838, 23839,\n",
       "            24167],\n",
       "           dtype='int64', name='SessionId', length=216)"
      ]
     },
     "execution_count": 384,
     "metadata": {},
     "output_type": "execute_result"
    }
   ],
   "source": [
    "ItemClicking = data_last.groupby('SessionId')['SessionId'].count() / ( SessionRange.dt.total_seconds()/3600 )\n",
    "drop2 = ItemClicking[ItemClicking > 60].index\n",
    "drop2"
   ]
  },
  {
   "cell_type": "code",
   "execution_count": 385,
   "id": "native-basketball",
   "metadata": {},
   "outputs": [
    {
     "data": {
      "text/plain": [
       "218"
      ]
     },
     "execution_count": 385,
     "metadata": {},
     "output_type": "execute_result"
    }
   ],
   "source": [
    "drop1 = list(drop1)\n",
    "drop2 = list(drop2)\n",
    "drop = set(drop1 + drop2)\n",
    "len(drop)"
   ]
  },
  {
   "cell_type": "code",
   "execution_count": 386,
   "id": "critical-chorus",
   "metadata": {},
   "outputs": [],
   "source": [
    "data_last = data_last[(~data_last.SessionId.isin(drop))]"
   ]
  },
  {
   "cell_type": "code",
   "execution_count": 387,
   "id": "basic-application",
   "metadata": {},
   "outputs": [
    {
     "data": {
      "text/html": [
       "<div>\n",
       "<style scoped>\n",
       "    .dataframe tbody tr th:only-of-type {\n",
       "        vertical-align: middle;\n",
       "    }\n",
       "\n",
       "    .dataframe tbody tr th {\n",
       "        vertical-align: top;\n",
       "    }\n",
       "\n",
       "    .dataframe thead th {\n",
       "        text-align: right;\n",
       "    }\n",
       "</style>\n",
       "<table border=\"1\" class=\"dataframe\">\n",
       "  <thead>\n",
       "    <tr style=\"text-align: right;\">\n",
       "      <th></th>\n",
       "      <th>UserId</th>\n",
       "      <th>ItemId</th>\n",
       "      <th>Rating</th>\n",
       "      <th>Time</th>\n",
       "      <th>SessionId</th>\n",
       "    </tr>\n",
       "  </thead>\n",
       "  <tbody>\n",
       "    <tr>\n",
       "      <th>8789</th>\n",
       "      <td>59</td>\n",
       "      <td>2997</td>\n",
       "      <td>4</td>\n",
       "      <td>2003-01-07 18:02:48</td>\n",
       "      <td>123</td>\n",
       "    </tr>\n",
       "    <tr>\n",
       "      <th>8792</th>\n",
       "      <td>59</td>\n",
       "      <td>3408</td>\n",
       "      <td>4</td>\n",
       "      <td>2003-01-07 18:04:52</td>\n",
       "      <td>123</td>\n",
       "    </tr>\n",
       "    <tr>\n",
       "      <th>8794</th>\n",
       "      <td>59</td>\n",
       "      <td>2716</td>\n",
       "      <td>3</td>\n",
       "      <td>2003-01-07 18:05:31</td>\n",
       "      <td>123</td>\n",
       "    </tr>\n",
       "    <tr>\n",
       "      <th>8797</th>\n",
       "      <td>59</td>\n",
       "      <td>2396</td>\n",
       "      <td>4</td>\n",
       "      <td>2003-01-07 18:07:15</td>\n",
       "      <td>123</td>\n",
       "    </tr>\n",
       "    <tr>\n",
       "      <th>8800</th>\n",
       "      <td>59</td>\n",
       "      <td>2762</td>\n",
       "      <td>3</td>\n",
       "      <td>2003-01-07 18:07:15</td>\n",
       "      <td>123</td>\n",
       "    </tr>\n",
       "    <tr>\n",
       "      <th>...</th>\n",
       "      <td>...</td>\n",
       "      <td>...</td>\n",
       "      <td>...</td>\n",
       "      <td>...</td>\n",
       "      <td>...</td>\n",
       "    </tr>\n",
       "    <tr>\n",
       "      <th>992735</th>\n",
       "      <td>5996</td>\n",
       "      <td>10</td>\n",
       "      <td>4</td>\n",
       "      <td>2002-04-29 19:43:40</td>\n",
       "      <td>24305</td>\n",
       "    </tr>\n",
       "    <tr>\n",
       "      <th>992737</th>\n",
       "      <td>5996</td>\n",
       "      <td>3039</td>\n",
       "      <td>4</td>\n",
       "      <td>2002-04-29 19:46:04</td>\n",
       "      <td>24305</td>\n",
       "    </tr>\n",
       "    <tr>\n",
       "      <th>992753</th>\n",
       "      <td>5996</td>\n",
       "      <td>3791</td>\n",
       "      <td>3</td>\n",
       "      <td>2002-04-29 19:58:39</td>\n",
       "      <td>24305</td>\n",
       "    </tr>\n",
       "    <tr>\n",
       "      <th>992765</th>\n",
       "      <td>5996</td>\n",
       "      <td>3247</td>\n",
       "      <td>4</td>\n",
       "      <td>2002-04-29 20:05:17</td>\n",
       "      <td>24305</td>\n",
       "    </tr>\n",
       "    <tr>\n",
       "      <th>992779</th>\n",
       "      <td>5996</td>\n",
       "      <td>2616</td>\n",
       "      <td>3</td>\n",
       "      <td>2002-04-29 20:16:15</td>\n",
       "      <td>24305</td>\n",
       "    </tr>\n",
       "  </tbody>\n",
       "</table>\n",
       "<p>2436 rows × 5 columns</p>\n",
       "</div>"
      ],
      "text/plain": [
       "        UserId  ItemId  Rating                Time  SessionId\n",
       "8789        59    2997       4 2003-01-07 18:02:48        123\n",
       "8792        59    3408       4 2003-01-07 18:04:52        123\n",
       "8794        59    2716       3 2003-01-07 18:05:31        123\n",
       "8797        59    2396       4 2003-01-07 18:07:15        123\n",
       "8800        59    2762       3 2003-01-07 18:07:15        123\n",
       "...        ...     ...     ...                 ...        ...\n",
       "992735    5996      10       4 2002-04-29 19:43:40      24305\n",
       "992737    5996    3039       4 2002-04-29 19:46:04      24305\n",
       "992753    5996    3791       3 2002-04-29 19:58:39      24305\n",
       "992765    5996    3247       4 2002-04-29 20:05:17      24305\n",
       "992779    5996    2616       3 2002-04-29 20:16:15      24305\n",
       "\n",
       "[2436 rows x 5 columns]"
      ]
     },
     "execution_count": 387,
     "metadata": {},
     "output_type": "execute_result"
    }
   ],
   "source": [
    "data_last[data_last.Rating>=3]"
   ]
  },
  {
   "cell_type": "markdown",
   "id": "medieval-stage",
   "metadata": {},
   "source": [
    "---"
   ]
  },
  {
   "cell_type": "code",
   "execution_count": 388,
   "id": "fifty-judgment",
   "metadata": {},
   "outputs": [
    {
     "data": {
      "text/html": [
       "<div>\n",
       "<style scoped>\n",
       "    .dataframe tbody tr th:only-of-type {\n",
       "        vertical-align: middle;\n",
       "    }\n",
       "\n",
       "    .dataframe tbody tr th {\n",
       "        vertical-align: top;\n",
       "    }\n",
       "\n",
       "    .dataframe thead th {\n",
       "        text-align: right;\n",
       "    }\n",
       "</style>\n",
       "<table border=\"1\" class=\"dataframe\">\n",
       "  <thead>\n",
       "    <tr style=\"text-align: right;\">\n",
       "      <th></th>\n",
       "      <th>ItemId</th>\n",
       "      <th>Time</th>\n",
       "      <th>SessionId</th>\n",
       "    </tr>\n",
       "  </thead>\n",
       "  <tbody>\n",
       "    <tr>\n",
       "      <th>0</th>\n",
       "      <td>2997</td>\n",
       "      <td>2003-01-07 18:02:48</td>\n",
       "      <td>0</td>\n",
       "    </tr>\n",
       "    <tr>\n",
       "      <th>1</th>\n",
       "      <td>3408</td>\n",
       "      <td>2003-01-07 18:04:52</td>\n",
       "      <td>0</td>\n",
       "    </tr>\n",
       "    <tr>\n",
       "      <th>2</th>\n",
       "      <td>2716</td>\n",
       "      <td>2003-01-07 18:05:31</td>\n",
       "      <td>0</td>\n",
       "    </tr>\n",
       "    <tr>\n",
       "      <th>3</th>\n",
       "      <td>2396</td>\n",
       "      <td>2003-01-07 18:07:15</td>\n",
       "      <td>0</td>\n",
       "    </tr>\n",
       "    <tr>\n",
       "      <th>4</th>\n",
       "      <td>2762</td>\n",
       "      <td>2003-01-07 18:07:15</td>\n",
       "      <td>0</td>\n",
       "    </tr>\n",
       "    <tr>\n",
       "      <th>...</th>\n",
       "      <td>...</td>\n",
       "      <td>...</td>\n",
       "      <td>...</td>\n",
       "    </tr>\n",
       "    <tr>\n",
       "      <th>2831</th>\n",
       "      <td>3039</td>\n",
       "      <td>2002-04-29 19:46:04</td>\n",
       "      <td>355</td>\n",
       "    </tr>\n",
       "    <tr>\n",
       "      <th>2832</th>\n",
       "      <td>3791</td>\n",
       "      <td>2002-04-29 19:58:39</td>\n",
       "      <td>355</td>\n",
       "    </tr>\n",
       "    <tr>\n",
       "      <th>2833</th>\n",
       "      <td>3247</td>\n",
       "      <td>2002-04-29 20:05:17</td>\n",
       "      <td>355</td>\n",
       "    </tr>\n",
       "    <tr>\n",
       "      <th>2834</th>\n",
       "      <td>3826</td>\n",
       "      <td>2002-04-29 20:10:17</td>\n",
       "      <td>355</td>\n",
       "    </tr>\n",
       "    <tr>\n",
       "      <th>2835</th>\n",
       "      <td>2616</td>\n",
       "      <td>2002-04-29 20:16:15</td>\n",
       "      <td>355</td>\n",
       "    </tr>\n",
       "  </tbody>\n",
       "</table>\n",
       "<p>2836 rows × 3 columns</p>\n",
       "</div>"
      ],
      "text/plain": [
       "      ItemId                Time  SessionId\n",
       "0       2997 2003-01-07 18:02:48          0\n",
       "1       3408 2003-01-07 18:04:52          0\n",
       "2       2716 2003-01-07 18:05:31          0\n",
       "3       2396 2003-01-07 18:07:15          0\n",
       "4       2762 2003-01-07 18:07:15          0\n",
       "...      ...                 ...        ...\n",
       "2831    3039 2002-04-29 19:46:04        355\n",
       "2832    3791 2002-04-29 19:58:39        355\n",
       "2833    3247 2002-04-29 20:05:17        355\n",
       "2834    3826 2002-04-29 20:10:17        355\n",
       "2835    2616 2002-04-29 20:16:15        355\n",
       "\n",
       "[2836 rows x 3 columns]"
      ]
     },
     "execution_count": 388,
     "metadata": {},
     "output_type": "execute_result"
    }
   ],
   "source": [
    "dataset = data_last.copy()\n",
    "\n",
    "dataset.reset_index(drop=True, inplace=True)\n",
    "dataset['Change_Session'] = dataset['SessionId'].diff().fillna(0)\n",
    "\n",
    "newSessionId = 0\n",
    "def reset_sessions(x):\n",
    "    global newSessionId\n",
    "    if x['Change_Session']:\n",
    "        newSessionId += 1\n",
    "    return newSessionId\n",
    "         \n",
    "dataset['SessionId'] = dataset.apply(reset_sessions, axis=1)\n",
    "dataset = dataset[['ItemId', 'Time', 'SessionId']]\n",
    "dataset"
   ]
  },
  {
   "cell_type": "markdown",
   "id": "operational-tragedy",
   "metadata": {},
   "source": [
    "### 2.5 Train/ Valid/ Test split"
   ]
  },
  {
   "cell_type": "code",
   "execution_count": 293,
   "id": "sound-corner",
   "metadata": {},
   "outputs": [],
   "source": [
    "def split_by_date(data: pd.DataFrame, n_days: int):\n",
    "    final_time = data['Time'].max()\n",
    "    session_last_time = data.groupby('SessionId')['Time'].max()\n",
    "    session_in_train = session_last_time[session_last_time < final_time - dt.timedelta(n_days)].index\n",
    "    session_in_test = session_last_time[session_last_time >= final_time - dt.timedelta(n_days)].index\n",
    "\n",
    "    before_date = data[data['SessionId'].isin(session_in_train)]\n",
    "    after_date = data[data['SessionId'].isin(session_in_test)]\n",
    "    after_date = after_date[after_date['ItemId'].isin(before_date['ItemId'])]\n",
    "    return before_date, after_date"
   ]
  },
  {
   "cell_type": "code",
   "execution_count": 415,
   "id": "solar-birmingham",
   "metadata": {},
   "outputs": [],
   "source": [
    "tr, test = split_by_date(dataset, n_days=10)\n",
    "tr, val = split_by_date(tr, n_days=30)"
   ]
  },
  {
   "cell_type": "code",
   "execution_count": 407,
   "id": "searching-lodge",
   "metadata": {},
   "outputs": [],
   "source": [
    "# data에 대한 정보를 살펴봅니다.\n",
    "def stats_info(data: pd.DataFrame, status: str):\n",
    "    print(f'* {status} Set Stats Info\\n'\n",
    "          f'\\t Events: {len(data)}\\n'\n",
    "          f'\\t Sessions: {data[\"SessionId\"].nunique()}\\n'\n",
    "          f'\\t Items: {data[\"ItemId\"].nunique()}\\n'\n",
    "          f'\\t First Time : {data[\"Time\"].min()}\\n'\n",
    "          f'\\t Last Time : {data[\"Time\"].max()}\\n')"
   ]
  },
  {
   "cell_type": "code",
   "execution_count": 408,
   "id": "generic-breeding",
   "metadata": {},
   "outputs": [
    {
     "name": "stdout",
     "output_type": "stream",
     "text": [
      "* train Set Stats Info\n",
      "\t Events: 2626\n",
      "\t Sessions: 330\n",
      "\t Items: 155\n",
      "\t First Time : 2002-02-28 19:06:39\n",
      "\t Last Time : 2003-01-14 20:28:50\n",
      "\n",
      "* valid Set Stats Info\n",
      "\t Events: 132\n",
      "\t Sessions: 17\n",
      "\t Items: 85\n",
      "\t First Time : 2003-01-15 05:14:13\n",
      "\t Last Time : 2003-02-14 02:02:32\n",
      "\n",
      "* test Set Stats Info\n",
      "\t Events: 78\n",
      "\t Sessions: 9\n",
      "\t Items: 61\n",
      "\t First Time : 2003-02-19 15:43:49\n",
      "\t Last Time : 2003-02-27 18:15:10\n",
      "\n"
     ]
    }
   ],
   "source": [
    "stats_info(tr, 'train')\n",
    "stats_info(val, 'valid')\n",
    "stats_info(test, 'test')"
   ]
  },
  {
   "cell_type": "code",
   "execution_count": 416,
   "id": "blind-hometown",
   "metadata": {},
   "outputs": [],
   "source": [
    "# train set에 없는 아이템이 val, test기간에 생길 수 있으므로 train data를 기준으로 인덱싱합니다.\n",
    "id2idx = {item_id : index for index, item_id in enumerate(tr['ItemId'].unique())}\n",
    "\n",
    "def indexing(df, id2idx):\n",
    "    df['item_idx'] = df['ItemId'].map(lambda x: id2idx.get(x, -1))  # id2idx에 없는 아이템은 모르는 값(-1) 처리 해줍니다.\n",
    "    return df\n",
    "\n",
    "tr = indexing(tr, id2idx)\n",
    "val = indexing(val, id2idx)\n",
    "test = indexing(test, id2idx)"
   ]
  },
  {
   "cell_type": "code",
   "execution_count": 298,
   "id": "personal-surface",
   "metadata": {},
   "outputs": [],
   "source": [
    "save_path = data_path / 'processed'\n",
    "save_path.mkdir(parents=True, exist_ok=True)\n",
    "\n",
    "tr.to_pickle(save_path / 'train.pkl')\n",
    "val.to_pickle(save_path / 'valid.pkl')\n",
    "test.to_pickle(save_path / 'test.pkl')"
   ]
  },
  {
   "cell_type": "markdown",
   "id": "atlantic-gateway",
   "metadata": {},
   "source": [
    "### Step 2. 미니 배치의 구성\n",
    "실습코드 내역을 참고하여 데이터셋과 미니 배치를 구성해 봅시다. Session-Parallel Mini-Batch의 개념에 따라, 학습 속도의 저하가 최소화될 수 있도록 구성합니다.\n",
    "단, 위 Step 1에서 Session 단위를 어떻게 정의했느냐에 따라서 Session-Parallel Mini-Batch이 굳이 필요하지 않을 수도 있습니다."
   ]
  },
  {
   "cell_type": "code",
   "execution_count": 255,
   "id": "consolidated-princeton",
   "metadata": {},
   "outputs": [],
   "source": [
    "class SessionDataset:\n",
    "    \"\"\"Credit to yhs-968/pyGRU4REC.\"\"\"\n",
    "\n",
    "    def __init__(self, data):\n",
    "        self.df = data\n",
    "        self.click_offsets = self.get_click_offsets()\n",
    "        self.session_idx = np.arange(self.df['SessionId'].nunique())  # indexing to SessionId\n",
    "\n",
    "    def get_click_offsets(self):\n",
    "        \"\"\"\n",
    "        Return the indexes of the first click of each session IDs,\n",
    "        \"\"\"\n",
    "        offsets = np.zeros(self.df['SessionId'].nunique() + 1, dtype=np.int32)\n",
    "        offsets[1:] = self.df.groupby('SessionId').size().cumsum()\n",
    "        return offsets"
   ]
  },
  {
   "cell_type": "code",
   "execution_count": 256,
   "id": "pressing-passenger",
   "metadata": {},
   "outputs": [
    {
     "data": {
      "text/html": [
       "<div>\n",
       "<style scoped>\n",
       "    .dataframe tbody tr th:only-of-type {\n",
       "        vertical-align: middle;\n",
       "    }\n",
       "\n",
       "    .dataframe tbody tr th {\n",
       "        vertical-align: top;\n",
       "    }\n",
       "\n",
       "    .dataframe thead th {\n",
       "        text-align: right;\n",
       "    }\n",
       "</style>\n",
       "<table border=\"1\" class=\"dataframe\">\n",
       "  <thead>\n",
       "    <tr style=\"text-align: right;\">\n",
       "      <th></th>\n",
       "      <th>ItemId</th>\n",
       "      <th>Time</th>\n",
       "      <th>SessionId</th>\n",
       "      <th>item_idx</th>\n",
       "    </tr>\n",
       "  </thead>\n",
       "  <tbody>\n",
       "    <tr>\n",
       "      <th>0</th>\n",
       "      <td>934</td>\n",
       "      <td>2000-12-30 23:22:48</td>\n",
       "      <td>0</td>\n",
       "      <td>0</td>\n",
       "    </tr>\n",
       "    <tr>\n",
       "      <th>1</th>\n",
       "      <td>1641</td>\n",
       "      <td>2000-12-30 23:22:48</td>\n",
       "      <td>0</td>\n",
       "      <td>1</td>\n",
       "    </tr>\n",
       "    <tr>\n",
       "      <th>2</th>\n",
       "      <td>999</td>\n",
       "      <td>2000-12-30 23:22:48</td>\n",
       "      <td>0</td>\n",
       "      <td>2</td>\n",
       "    </tr>\n",
       "    <tr>\n",
       "      <th>3</th>\n",
       "      <td>2616</td>\n",
       "      <td>2000-12-30 23:22:48</td>\n",
       "      <td>0</td>\n",
       "      <td>3</td>\n",
       "    </tr>\n",
       "    <tr>\n",
       "      <th>4</th>\n",
       "      <td>3785</td>\n",
       "      <td>2000-12-30 23:22:48</td>\n",
       "      <td>0</td>\n",
       "      <td>4</td>\n",
       "    </tr>\n",
       "    <tr>\n",
       "      <th>5</th>\n",
       "      <td>3265</td>\n",
       "      <td>2000-12-30 23:28:36</td>\n",
       "      <td>0</td>\n",
       "      <td>5</td>\n",
       "    </tr>\n",
       "    <tr>\n",
       "      <th>6</th>\n",
       "      <td>1303</td>\n",
       "      <td>2000-12-30 23:28:36</td>\n",
       "      <td>0</td>\n",
       "      <td>6</td>\n",
       "    </tr>\n",
       "    <tr>\n",
       "      <th>7</th>\n",
       "      <td>1198</td>\n",
       "      <td>2000-12-30 23:29:09</td>\n",
       "      <td>0</td>\n",
       "      <td>7</td>\n",
       "    </tr>\n",
       "    <tr>\n",
       "      <th>8</th>\n",
       "      <td>813</td>\n",
       "      <td>2000-12-30 23:29:09</td>\n",
       "      <td>0</td>\n",
       "      <td>8</td>\n",
       "    </tr>\n",
       "    <tr>\n",
       "      <th>9</th>\n",
       "      <td>3897</td>\n",
       "      <td>2000-12-30 23:29:09</td>\n",
       "      <td>0</td>\n",
       "      <td>9</td>\n",
       "    </tr>\n",
       "  </tbody>\n",
       "</table>\n",
       "</div>"
      ],
      "text/plain": [
       "   ItemId                Time  SessionId  item_idx\n",
       "0     934 2000-12-30 23:22:48          0         0\n",
       "1    1641 2000-12-30 23:22:48          0         1\n",
       "2     999 2000-12-30 23:22:48          0         2\n",
       "3    2616 2000-12-30 23:22:48          0         3\n",
       "4    3785 2000-12-30 23:22:48          0         4\n",
       "5    3265 2000-12-30 23:28:36          0         5\n",
       "6    1303 2000-12-30 23:28:36          0         6\n",
       "7    1198 2000-12-30 23:29:09          0         7\n",
       "8     813 2000-12-30 23:29:09          0         8\n",
       "9    3897 2000-12-30 23:29:09          0         9"
      ]
     },
     "execution_count": 256,
     "metadata": {},
     "output_type": "execute_result"
    }
   ],
   "source": [
    "tr_dataset = SessionDataset(tr)\n",
    "tr_dataset.df.head(10)"
   ]
  },
  {
   "cell_type": "code",
   "execution_count": 257,
   "id": "upset-reserve",
   "metadata": {},
   "outputs": [
    {
     "data": {
      "text/plain": [
       "array([    0,    23,    38, ..., 53913, 53918, 53925], dtype=int32)"
      ]
     },
     "execution_count": 257,
     "metadata": {},
     "output_type": "execute_result"
    }
   ],
   "source": [
    "tr_dataset.click_offsets"
   ]
  },
  {
   "cell_type": "code",
   "execution_count": 258,
   "id": "veterinary-ballet",
   "metadata": {},
   "outputs": [
    {
     "data": {
      "text/plain": [
       "array([   0,    1,    2, ..., 3725, 3726, 3727])"
      ]
     },
     "execution_count": 258,
     "metadata": {},
     "output_type": "execute_result"
    }
   ],
   "source": [
    "tr_dataset.session_idx"
   ]
  },
  {
   "cell_type": "code",
   "execution_count": 259,
   "id": "progressive-workstation",
   "metadata": {},
   "outputs": [],
   "source": [
    "class SessionDataLoader:\n",
    "    \"\"\"Credit to yhs-968/pyGRU4REC.\"\"\"\n",
    "\n",
    "    def __init__(self, dataset: SessionDataset, batch_size=50):\n",
    "        self.dataset = dataset\n",
    "        self.batch_size = batch_size\n",
    "\n",
    "    def __iter__(self):\n",
    "        \"\"\" Returns the iterator for producing session-parallel training mini-batches.\n",
    "        Yields:\n",
    "            input (B,):  Item indices that will be encoded as one-hot vectors later.\n",
    "            target (B,): a Variable that stores the target item indices\n",
    "            masks: Numpy array indicating the positions of the sessions to be terminated\n",
    "        \"\"\"\n",
    "\n",
    "        start, end, mask, last_session, finished = self.initialize()  # initialize 메소드에서 확인해주세요.\n",
    "        \"\"\"\n",
    "        start : Index Where Session Start\n",
    "        end : Index Where Session End\n",
    "        mask : indicator for the sessions to be terminated\n",
    "        \"\"\"\n",
    "\n",
    "        while not finished:\n",
    "            min_len = (end - start).min() - 1  # Shortest Length Among Sessions\n",
    "            for i in range(min_len):\n",
    "                # Build inputs & targets\n",
    "                inp = self.dataset.df['item_idx'].values[start + i]\n",
    "                target = self.dataset.df['item_idx'].values[start + i + 1]\n",
    "                yield inp, target, mask\n",
    "\n",
    "            start, end, mask, last_session, finished = self.update_status(start, end, min_len, last_session, finished)\n",
    "\n",
    "    def initialize(self):\n",
    "        first_iters = np.arange(self.batch_size)    # 첫 배치에 사용할 세션 Index를 가져옵니다.\n",
    "        last_session = self.batch_size - 1    # 마지막으로 다루고 있는 세션 Index를 저장해둡니다.\n",
    "        start = self.dataset.click_offsets[self.dataset.session_idx[first_iters]]       # data 상에서 session이 시작된 위치를 가져옵니다.\n",
    "        end = self.dataset.click_offsets[self.dataset.session_idx[first_iters] + 1]  # session이 끝난 위치 바로 다음 위치를 가져옵니다.\n",
    "        mask = np.array([])   # session의 모든 아이템을 다 돌은 경우 mask에 추가해줄 것입니다.\n",
    "        finished = False         # data를 전부 돌았는지 기록하기 위한 변수입니다.\n",
    "        return start, end, mask, last_session, finished\n",
    "\n",
    "    def update_status(self, start: np.ndarray, end: np.ndarray, min_len: int, last_session: int, finished: bool):  \n",
    "        # 다음 배치 데이터를 생성하기 위해 상태를 update합니다.\n",
    "        \n",
    "        start += min_len   # __iter__에서 min_len 만큼 for문을 돌았으므로 start를 min_len 만큼 더해줍니다.\n",
    "        mask = np.arange(self.batch_size)[(end - start) == 1]  \n",
    "        # end는 다음 세션이 시작되는 위치인데 start와 한 칸 차이난다는 것은 session이 끝났다는 뜻입니다. mask에 기록해줍니다.\n",
    "\n",
    "        for i, idx in enumerate(mask, start=1):  # mask에 추가된 세션 개수만큼 새로운 세션을 돌것입니다.\n",
    "            new_session = last_session + i  \n",
    "            if new_session > self.dataset.session_idx[-1]:  # 만약 새로운 세션이 마지막 세션 index보다 크다면 모든 학습데이터를 돈 것입니다.\n",
    "                finished = True\n",
    "                break\n",
    "            # update the next starting/ending point\n",
    "            start[idx] = self.dataset.click_offsets[self.dataset.session_idx[new_session]]     # 종료된 세션 대신 새로운 세션의 시작점을 기록합니다.\n",
    "            end[idx] = self.dataset.click_offsets[self.dataset.session_idx[new_session] + 1]\n",
    "\n",
    "        last_session += len(mask)  # 마지막 세션의 위치를 기록해둡니다.\n",
    "        return start, end, mask, last_session, finished"
   ]
  },
  {
   "cell_type": "code",
   "execution_count": 261,
   "id": "informed-investor",
   "metadata": {},
   "outputs": [],
   "source": [
    "iter_ex = iter(tr_data_loader)"
   ]
  },
  {
   "cell_type": "code",
   "execution_count": 262,
   "id": "ahead-seminar",
   "metadata": {},
   "outputs": [
    {
     "name": "stdout",
     "output_type": "stream",
     "text": [
      "Model Input Item Idx are : [ 0 23 38 40]\n",
      "Label Item Idx are :       [ 1 24 39 41]\n",
      "Previous Masked Input Idx are []\n"
     ]
    }
   ],
   "source": [
    "inputs, labels, mask =  next(iter_ex)\n",
    "print(f'Model Input Item Idx are : {inputs}')\n",
    "print(f'Label Item Idx are : {\"\":5} {labels}')\n",
    "print(f'Previous Masked Input Idx are {mask}')"
   ]
  },
  {
   "cell_type": "markdown",
   "id": "geological-stylus",
   "metadata": {},
   "source": [
    "### Step 3. 모델 구성\n",
    "이 부분도 실습코드 내역을 참고하여 다양하게 모델 구조를 시도해볼 수 있습니다."
   ]
  },
  {
   "cell_type": "code",
   "execution_count": 263,
   "id": "contemporary-pulse",
   "metadata": {},
   "outputs": [],
   "source": [
    "import numpy as np\n",
    "import tensorflow as tf\n",
    "from tensorflow.keras.layers import Input, Dense, Dropout, GRU\n",
    "from tensorflow.keras.losses import categorical_crossentropy\n",
    "from tensorflow.keras.models import Model\n",
    "from tensorflow.keras.optimizers import Adam\n",
    "from tensorflow.keras.utils import to_categorical\n",
    "from tqdm import tqdm"
   ]
  },
  {
   "cell_type": "code",
   "execution_count": 264,
   "id": "taken-amendment",
   "metadata": {},
   "outputs": [],
   "source": [
    "def create_model(args):\n",
    "    inputs = Input(batch_shape=(args.batch_size, 1, args.num_items))\n",
    "    gru, _ = GRU(args.hsz, stateful=True, return_state=True, name='GRU')(inputs)\n",
    "    dropout = Dropout(args.drop_rate)(gru)\n",
    "    predictions = Dense(args.num_items, activation='softmax')(dropout)\n",
    "    model = Model(inputs=inputs, outputs=[predictions])\n",
    "    model.compile(loss=categorical_crossentropy, optimizer=Adam(args.lr), metrics=['accuracy'])\n",
    "    model.summary()\n",
    "    return model"
   ]
  },
  {
   "cell_type": "code",
   "execution_count": null,
   "id": "weird-dating",
   "metadata": {},
   "outputs": [],
   "source": [
    "class Args:\n",
    "    def __init__(self, tr, val, test, batch_size, hsz, drop_rate, lr, epochs, k):\n",
    "        self.tr = tr\n",
    "        self.val = val\n",
    "        self.test = test\n",
    "        self.num_items = tr['ItemId'].nunique()\n",
    "        self.num_sessions = tr['SessionId'].nunique()\n",
    "        self.batch_size = batch_size\n",
    "        self.hsz = hsz\n",
    "        self.drop_rate = drop_rate\n",
    "        self.lr = lr\n",
    "        self.epochs = epochs\n",
    "        self.k = k"
   ]
  },
  {
   "cell_type": "code",
   "execution_count": 420,
   "id": "worth-turkey",
   "metadata": {},
   "outputs": [],
   "source": [
    "args = Args(tr, val, test, batch_size=16, hsz=50, drop_rate=0.1, lr=0.001, epochs=5, k=20)"
   ]
  },
  {
   "cell_type": "code",
   "execution_count": 421,
   "id": "suitable-frank",
   "metadata": {},
   "outputs": [
    {
     "name": "stdout",
     "output_type": "stream",
     "text": [
      "Model: \"model_16\"\n",
      "_________________________________________________________________\n",
      "Layer (type)                 Output Shape              Param #   \n",
      "=================================================================\n",
      "input_17 (InputLayer)        [(16, 1, 155)]            0         \n",
      "_________________________________________________________________\n",
      "GRU (GRU)                    [(16, 50), (16, 50)]      31050     \n",
      "_________________________________________________________________\n",
      "dropout_16 (Dropout)         (16, 50)                  0         \n",
      "_________________________________________________________________\n",
      "dense_16 (Dense)             (16, 155)                 7905      \n",
      "=================================================================\n",
      "Total params: 38,955\n",
      "Trainable params: 38,955\n",
      "Non-trainable params: 0\n",
      "_________________________________________________________________\n"
     ]
    }
   ],
   "source": [
    "model = create_model(args)"
   ]
  },
  {
   "cell_type": "markdown",
   "id": "stone-segment",
   "metadata": {},
   "source": [
    "### Step 4. 모델 학습\n",
    "다양한 하이퍼파라미터를 변경해 보며 검증해 보도록 합니다. 실습코드에 언급되었던 Recall, MRR 등의 개념들도 함께 관리될 수 있도록 합니다."
   ]
  },
  {
   "cell_type": "code",
   "execution_count": 269,
   "id": "warming-desperate",
   "metadata": {},
   "outputs": [],
   "source": [
    "def mrr_k(pred, truth: int, k: int):\n",
    "    indexing = np.where(pred[:k] == truth)[0]\n",
    "    if len(indexing) > 0:\n",
    "        return 1 / (indexing[0] + 1)\n",
    "    else:\n",
    "        return 0\n",
    "\n",
    "\n",
    "def recall_k(pred, truth: int, k: int) -> int:\n",
    "    answer = truth in pred[:k]\n",
    "    return int(answer)"
   ]
  },
  {
   "cell_type": "code",
   "execution_count": 270,
   "id": "second-plastic",
   "metadata": {},
   "outputs": [],
   "source": [
    "# train 셋으로 학습하면서 valid 셋으로 검증합니다.\n",
    "def train_model(model, args):\n",
    "    train_dataset = SessionDataset(args.tr)\n",
    "    train_loader = SessionDataLoader(train_dataset, batch_size=args.batch_size)\n",
    "\n",
    "    for epoch in range(1, args.epochs + 1):\n",
    "        total_step = len(args.tr) - args.tr['SessionId'].nunique()\n",
    "        tr_loader = tqdm(train_loader, total=total_step // args.batch_size, desc='Train', mininterval=1)\n",
    "        for feat, target, mask in tr_loader:\n",
    "            reset_hidden_states(model, mask)  # 종료된 session은 hidden_state를 초기화합니다. 아래 메서드에서 확인해주세요.\n",
    "\n",
    "            input_ohe = to_categorical(feat, num_classes=args.num_items)\n",
    "            input_ohe = np.expand_dims(input_ohe, axis=1)\n",
    "            target_ohe = to_categorical(target, num_classes=args.num_items)\n",
    "\n",
    "            result = model.train_on_batch(input_ohe, target_ohe)\n",
    "            tr_loader.set_postfix(train_loss=result[0], accuracy = result[1])\n",
    "\n",
    "        val_recall, val_mrr = get_metrics(args.val, model, args, args.k)  # valid set에 대해 검증합니다.\n",
    "\n",
    "        print(f\"\\t - Recall@{args.k} epoch {epoch}: {val_recall:3f}\")\n",
    "        print(f\"\\t - MRR@{args.k}    epoch {epoch}: {val_mrr:3f}\\n\")\n",
    "\n",
    "\n",
    "def reset_hidden_states(model, mask):\n",
    "    gru_layer = model.get_layer(name='GRU')  # model에서 gru layer를 가져옵니다.\n",
    "    hidden_states = gru_layer.states[0].numpy()  # gru_layer의 parameter를 가져옵니다.\n",
    "    for elt in mask:  # mask된 인덱스 즉, 종료된 세션의 인덱스를 돌면서\n",
    "        hidden_states[elt, :] = 0  # parameter를 초기화 합니다.\n",
    "    gru_layer.reset_states(states=hidden_states)\n",
    "\n",
    "\n",
    "def get_metrics(data, model, args, k: int):  # valid셋과 test셋을 평가하는 코드입니다. \n",
    "                                             # train과 거의 같지만 mrr, recall을 구하는 라인이 있습니다.\n",
    "    dataset = SessionDataset(data)\n",
    "    loader = SessionDataLoader(dataset, batch_size=args.batch_size)\n",
    "    recall_list, mrr_list = [], []\n",
    "\n",
    "    total_step = len(data) - data['SessionId'].nunique()\n",
    "    for inputs, label, mask in tqdm(loader, total=total_step // args.batch_size, desc='Evaluation', mininterval=1):\n",
    "        reset_hidden_states(model, mask)\n",
    "        input_ohe = to_categorical(inputs, num_classes=args.num_items)\n",
    "        input_ohe = np.expand_dims(input_ohe, axis=1)\n",
    "\n",
    "        pred = model.predict(input_ohe, batch_size=args.batch_size)\n",
    "        pred_arg = tf.argsort(pred, direction='DESCENDING')  # softmax 값이 큰 순서대로 sorting 합니다.\n",
    "\n",
    "        length = len(inputs)\n",
    "        recall_list.extend([recall_k(pred_arg[i], label[i], k) for i in range(length)])\n",
    "        mrr_list.extend([mrr_k(pred_arg[i], label[i], k) for i in range(length)])\n",
    "\n",
    "    recall, mrr = np.mean(recall_list), np.mean(mrr_list)\n",
    "    return recall, mrr"
   ]
  },
  {
   "cell_type": "code",
   "execution_count": 422,
   "id": "loved-authority",
   "metadata": {
    "scrolled": false
   },
   "outputs": [
    {
     "name": "stderr",
     "output_type": "stream",
     "text": [
      "Train:  95%|█████████▌| 136/143 [00:01<00:00, 68.07it/s, accuracy=0, train_loss=5.03]   \n",
      "Evaluation:  14%|█▍        | 1/7 [00:00<00:02,  2.62it/s]\n",
      "Train:   0%|          | 0/143 [00:00<?, ?it/s, accuracy=0, train_loss=5.03]     "
     ]
    },
    {
     "name": "stdout",
     "output_type": "stream",
     "text": [
      "\t - Recall@20 epoch 1: 0.187500\n",
      "\t - MRR@20    epoch 1: 0.021519\n",
      "\n"
     ]
    },
    {
     "name": "stderr",
     "output_type": "stream",
     "text": [
      "Train:  95%|█████████▌| 136/143 [00:00<00:00, 154.40it/s, accuracy=0, train_loss=5]\n",
      "Evaluation:  14%|█▍        | 1/7 [00:00<00:00,  9.20it/s]\n",
      "Train:   0%|          | 0/143 [00:00<?, ?it/s, accuracy=0.0625, train_loss=5.01]"
     ]
    },
    {
     "name": "stdout",
     "output_type": "stream",
     "text": [
      "\t - Recall@20 epoch 2: 0.312500\n",
      "\t - MRR@20    epoch 2: 0.048390\n",
      "\n"
     ]
    },
    {
     "name": "stderr",
     "output_type": "stream",
     "text": [
      "Train:  95%|█████████▌| 136/143 [00:00<00:00, 157.10it/s, accuracy=0, train_loss=4.97]\n",
      "Evaluation:  14%|█▍        | 1/7 [00:00<00:00,  9.83it/s]\n",
      "Train:   0%|          | 0/143 [00:00<?, ?it/s, accuracy=0, train_loss=4.97]     "
     ]
    },
    {
     "name": "stdout",
     "output_type": "stream",
     "text": [
      "\t - Recall@20 epoch 3: 0.312500\n",
      "\t - MRR@20    epoch 3: 0.079241\n",
      "\n"
     ]
    },
    {
     "name": "stderr",
     "output_type": "stream",
     "text": [
      "Train:  95%|█████████▌| 136/143 [00:00<00:00, 157.52it/s, accuracy=0, train_loss=4.9]\n",
      "Evaluation:  14%|█▍        | 1/7 [00:00<00:00,  9.42it/s]\n",
      "Train:   0%|          | 0/143 [00:00<?, ?it/s, accuracy=0.0625, train_loss=4.9] "
     ]
    },
    {
     "name": "stdout",
     "output_type": "stream",
     "text": [
      "\t - Recall@20 epoch 4: 0.375000\n",
      "\t - MRR@20    epoch 4: 0.061384\n",
      "\n"
     ]
    },
    {
     "name": "stderr",
     "output_type": "stream",
     "text": [
      "Train:  95%|█████████▌| 136/143 [00:00<00:00, 156.63it/s, accuracy=0, train_loss=4.78]\n",
      "Evaluation:  14%|█▍        | 1/7 [00:00<00:00,  9.70it/s]"
     ]
    },
    {
     "name": "stdout",
     "output_type": "stream",
     "text": [
      "\t - Recall@20 epoch 5: 0.500000\n",
      "\t - MRR@20    epoch 5: 0.054110\n",
      "\n"
     ]
    },
    {
     "name": "stderr",
     "output_type": "stream",
     "text": [
      "\n"
     ]
    }
   ],
   "source": [
    "train_model(model, args)"
   ]
  },
  {
   "cell_type": "markdown",
   "id": "oriental-guatemala",
   "metadata": {},
   "source": [
    "### Step 5. 모델 테스트\n",
    "미리 구성한 테스트셋을 바탕으로 Recall, MRR 을 확인해 봅니다."
   ]
  },
  {
   "cell_type": "code",
   "execution_count": 325,
   "id": "needed-split",
   "metadata": {},
   "outputs": [
    {
     "name": "stderr",
     "output_type": "stream",
     "text": [
      "Evaluation:  54%|█████▍    | 49/91 [00:09<00:08,  5.03it/s]"
     ]
    },
    {
     "name": "stdout",
     "output_type": "stream",
     "text": [
      "\t - Recall@20: 0.181122\n",
      "\t - MRR@20: 0.064290\n",
      "\n"
     ]
    },
    {
     "name": "stderr",
     "output_type": "stream",
     "text": [
      "\n"
     ]
    }
   ],
   "source": [
    "def test_model(model, args, test):\n",
    "    test_recall, test_mrr = get_metrics(test, model, args, 20)\n",
    "    print(f\"\\t - Recall@{args.k}: {test_recall:3f}\")\n",
    "    print(f\"\\t - MRR@{args.k}: {test_mrr:3f}\\n\")\n",
    "\n",
    "test_model(model, args, test)"
   ]
  },
  {
   "attachments": {
    "image.png": {
     "image/png": "[encoded data removed]"
    }
   },
   "cell_type": "markdown",
   "id": "confident-brunswick",
   "metadata": {},
   "source": [
    "### 베이스 모델의 경우\n",
    "![image.png](attachment:image.png)"
   ]
  },
  {
   "attachments": {
    "image.png": {
     "image/png": "[encoded data removed]"
    }
   },
   "cell_type": "markdown",
   "id": "timely-questionnaire",
   "metadata": {},
   "source": [
    "### 모든 데이터 활용, least_click=20, 추가정제의 경우\n",
    "![image.png](attachment:image.png)"
   ]
  },
  {
   "attachments": {
    "image.png": {
     "image/png": "[encoded data removed]"
    }
   },
   "cell_type": "markdown",
   "id": "interesting-center",
   "metadata": {},
   "source": [
    "### 최근 1년의 데이터로 추정한 경우, least_click = 20, 추가 정제의 경우\n",
    "![image.png](attachment:image.png)"
   ]
  },
  {
   "cell_type": "markdown",
   "id": "technical-first",
   "metadata": {},
   "source": [
    "# 결론 및 회고\n",
    "- Recall@20 : 0.5, MRR@20: 0.05의 값이 나왔다.\n",
    "- 해당 노드를 진행하면서 datetime, timedelta에 대한 이해를 높일 수 있었다. 코딩도장에 있는 내용이 큰 도움이 되었다.\n",
    "- 전처리 부분에서 시도할 수 있는 내용들이 몇 가지 있어 가능한 많은 방법을 시도했다.\n",
    "- 그러나 모델 부분의 코드는 이해하기에 어려움이 있었고, 개별적인 공부가 필요해 보인다.\n",
    "- 여러가지 하이퍼파라미터를 조정하면서 접근하였으나, 명확한 기준이 없이 찍듯이 접근했다. 상식적인 사고를 통해 파라미터를 조정했으나 결과가 좋아지는 걸 보니 신기했다. 추천시스템을 핵심역량으로 삼아도 될까? 많은 고민이 되는 노드다."
   ]
  }
 ],
 "metadata": {
  "kernelspec": {
   "display_name": "Python 3",
   "language": "python",
   "name": "python3"
  },
  "language_info": {
   "codemirror_mode": {
    "name": "ipython",
    "version": 3
   },
   "file_extension": ".py",
   "mimetype": "text/x-python",
   "name": "python",
   "nbconvert_exporter": "python",
   "pygments_lexer": "ipython3",
   "version": "3.7.9"
  }
 },
 "nbformat": 4,
 "nbformat_minor": 5
}
